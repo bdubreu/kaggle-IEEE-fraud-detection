{
 "cells": [
  {
   "cell_type": "code",
   "execution_count": 1,
   "metadata": {},
   "outputs": [],
   "source": [
    "%load_ext pycodestyle_magic\n",
    "%flake8_on"
   ]
  },
  {
   "cell_type": "code",
   "execution_count": 2,
   "metadata": {},
   "outputs": [],
   "source": [
    "%matplotlib inline\n",
    "\n",
    "import gc\n",
    "from time import time\n",
    "import datetime\n",
    "import multiprocessing\n",
    "import warnings\n",
    "\n",
    "\n",
    "import pandas as pd\n",
    "import numpy as np\n",
    "import matplotlib.pyplot as plt\n",
    "import seaborn as sns\n",
    "from scipy.stats import ks_2samp\n",
    "\n",
    "\n",
    "from tqdm import tqdm, tqdm_notebook\n",
    "import lightgbm as lgb\n",
    "from sklearn.preprocessing import LabelEncoder\n",
    "from sklearn.model_selection import KFold, TimeSeriesSplit, train_test_split\n",
    "from sklearn.metrics import roc_auc_score\n",
    "\n",
    "from reduce_mem_usage import reduce_mem_usage"
   ]
  },
  {
   "cell_type": "code",
   "execution_count": 3,
   "metadata": {},
   "outputs": [],
   "source": [
    "warnings.simplefilter('ignore')\n",
    "sns.set()"
   ]
  },
  {
   "cell_type": "code",
   "execution_count": 5,
   "metadata": {},
   "outputs": [],
   "source": [
    "files = ['/input/test_identity.csv',\n",
    "         '/input/test_transaction.csv',\n",
    "         '/input/train_identity.csv',\n",
    "         '/input/train_transaction.csv',\n",
    "         '/input/sample_submission.csv']"
   ]
  },
  {
   "cell_type": "code",
   "execution_count": 6,
   "metadata": {},
   "outputs": [],
   "source": [
    "train_transaction = pd.read_csv('input/train_transaction.csv',\n",
    "                                index_col='TransactionID')\n",
    "test_transaction = pd.read_csv('input/test_transaction.csv',\n",
    "                               index_col='TransactionID')\n",
    "\n",
    "train_identity = pd.read_csv('input/train_identity.csv',\n",
    "                             index_col='TransactionID')\n",
    "test_identity = pd.read_csv('input/test_identity.csv',\n",
    "                            index_col='TransactionID')\n",
    "\n",
    "sample_submission = pd.read_csv('input/sample_submission.csv',\n",
    "                                index_col='TransactionID')"
   ]
  },
  {
   "cell_type": "code",
   "execution_count": 7,
   "metadata": {},
   "outputs": [
    {
     "data": {
      "text/plain": [
       "1210"
      ]
     },
     "execution_count": 7,
     "metadata": {},
     "output_type": "execute_result"
    }
   ],
   "source": [
    "train = pd.merge(train_transaction, train_identity,\n",
    "                 on='TransactionID', how='left')\n",
    "test = pd.merge(test_transaction, test_identity,\n",
    "                on='TransactionID', how='left')\n",
    "\n",
    "del test_identity, test_transaction, train_identity, train_transaction\n",
    "gc.collect()"
   ]
  },
  {
   "cell_type": "code",
   "execution_count": 8,
   "metadata": {},
   "outputs": [
    {
     "name": "stdout",
     "output_type": "stream",
     "text": [
      "Mem. usage decreased to 648.22 Mb (66.8% reduction)\n",
      "Mem. usage decreased to 563.43 Mb (66.3% reduction)\n"
     ]
    }
   ],
   "source": [
    "train = reduce_mem_usage(train)\n",
    "test = reduce_mem_usage(test)"
   ]
  },
  {
   "cell_type": "markdown",
   "metadata": {},
   "source": [
    "# Feature engineering"
   ]
  },
  {
   "cell_type": "code",
   "execution_count": 9,
   "metadata": {},
   "outputs": [],
   "source": [
    "# We get back the Day, Month, and Week \n",
    "# from the estimated start time of the data\n",
    "START_DATE = datetime.datetime.strptime('2017-11-30', '%Y-%m-%d')\n",
    "\n",
    "\n",
    "def add_seconds(x):\n",
    "    return START_DATE + datetime.timedelta(seconds=x)\n",
    "\n",
    "\n",
    "for df in [train, test]:\n",
    "    # Temporary\n",
    "    df['DT'] = df['TransactionDT'].apply(add_seconds)\n",
    "    df['DT_M'] = (df['DT'].dt.year - 2017) * 12 + df['DT'].dt.month\n",
    "    df['DT_W'] = (df['DT'].dt.year - 2017) * 52 + df['DT'].dt.weekofyear\n",
    "    df['DT_D'] = (df['DT'].dt.year - 2017) * 365 + df['DT'].dt.dayofyear\n",
    "\n",
    "    df['DT_hour'] = df['DT'].dt.hour\n",
    "    df['DT_day_week'] = df['DT'].dt.dayofweek\n",
    "    df['DT_day'] = df['DT'].dt.day\n",
    "\n",
    "# Test different options for this\n",
    "    # D9 column\n",
    "    df['D9_isnull'] = np.where(df['D9'].isna(), 0, 1)"
   ]
  },
  {
   "cell_type": "code",
   "execution_count": 10,
   "metadata": {},
   "outputs": [],
   "source": [
    "# Adding Counts (a way to encode categiral variables)\n",
    "cards = ['card1', 'card2', 'card3', 'card4', 'card5', 'card6', 'id_36']\n",
    "for feature in cards:\n",
    "    train[feature + '_count_full'] = train[feature].map(\n",
    "        pd.concat(\n",
    "            [train[feature],\n",
    "             test[feature]],\n",
    "            ignore_index=True).value_counts(dropna=False))\n",
    "\n",
    "    test[feature + '_count_full'] = test[feature].map(\n",
    "        pd.concat([train[feature],\n",
    "                   test[feature]],\n",
    "                  ignore_index=True).value_counts(dropna=False))\n",
    "\n",
    "# Encoding - count encoding separately for train and test\n",
    "for feature in ['id_01', 'id_31', 'id_33', 'id_36']:\n",
    "    train[feature + '_count_dist'] = train[feature].map(\n",
    "        train[feature].value_counts(dropna=False))\n",
    "    test[feature + '_count_dist'] = test[feature].map(\n",
    "        test[feature].value_counts(dropna=False))"
   ]
  },
  {
   "cell_type": "code",
   "execution_count": 11,
   "metadata": {},
   "outputs": [],
   "source": [
    "# Sum the M columns, and their NAs\n",
    "# i.e, if all M columns are True, the sum will be 8\n",
    "i_cols = ['M1', 'M2', 'M3', 'M5', 'M6', 'M7', 'M8', 'M9']\n",
    "\n",
    "\n",
    "def replaceTF(x):\n",
    "    '''Replace T with 1 and F with 0 '''\n",
    "    if x == 'T':\n",
    "        return 1\n",
    "    elif x == 'F':\n",
    "        return 0\n",
    "    else:\n",
    "        return np.nan\n",
    "\n",
    "\n",
    "for col in i_cols:\n",
    "    train[col] = train[col].apply(replaceTF)\n",
    "    test[col] = test[col].apply(replaceTF)\n",
    "\n",
    "for df in [train, test]:\n",
    "    df['M_sum'] = df[i_cols].sum(axis=1).astype(np.int8)\n",
    "    df['M_na'] = df[i_cols].isna().sum(axis=1).astype(np.int8)"
   ]
  },
  {
   "cell_type": "code",
   "execution_count": 12,
   "metadata": {},
   "outputs": [],
   "source": [
    "TARGET = 'isFraud'"
   ]
  },
  {
   "cell_type": "code",
   "execution_count": 13,
   "metadata": {},
   "outputs": [],
   "source": [
    "# Target encoding, another way to encode categorical vars\n",
    "categorical_cols = train.select_dtypes('category').columns\n",
    "for col in categorical_cols:\n",
    "    print(col)\n",
    "\n",
    "    temp_dict = train.groupby([col])[TARGET].agg(['mean'])\n",
    "    temp_dict = temp_dict.reset_index()\n",
    "    temp_dict = temp_dict.rename(columns={'mean': col+'_target_mean'})\n",
    "    temp_dict.index = temp_dict[col].values\n",
    "    temp_dict = temp_dict[col+'_target_mean'].to_dict()\n",
    "\n",
    "    train[col+'_target_mean'] = train[col].map(temp_dict)\n",
    "    test[col+'_target_mean'] = test[col].map(temp_dict)"
   ]
  },
  {
   "cell_type": "code",
   "execution_count": 14,
   "metadata": {},
   "outputs": [],
   "source": [
    "# Try to regroup some variables to find back the users\n",
    "train['uid'] = train['card1'].astype(str) + '_' + \\\n",
    "    train['card2'].astype(str)\n",
    "test['uid'] = test['card1'].astype(str) + '_' + \\\n",
    "    test['card2'].astype(str)\n",
    "\n",
    "train['uid2'] = train['uid'].astype(str) + '_' + \\\n",
    "    train['card3'].astype(str) + '_' + train['card4'].astype(str)\n",
    "test['uid2'] = test['uid'].astype(str) + '_' + \\\n",
    "    test['card3'].astype(str) + '_' + test['card4'].astype(str)\n",
    "\n",
    "train['uid3'] = train['uid2'].astype(str) + '_' + \\\n",
    "    train['addr1'].astype(str) + '_' + train['addr2'].astype(str)\n",
    "test['uid3'] = test['uid2'].astype(str) + '_' + \\\n",
    "    test['addr1'].astype(str) + '_' + test['addr2'].astype(str)\n",
    "\n",
    "\n",
    "# Check if the Transaction Amount is present in the other set (train vs. test)\n",
    "# In our dialog with a model we are telling to trust or not to these values\n",
    "train['TransactionAmt_check'] = np.where(\n",
    "    train['TransactionAmt'].isin(test['TransactionAmt']),\n",
    "    1, 0)\n",
    "train['ProductCD_check'] = np.where(\n",
    "    train['ProductCD'].isin(test['ProductCD']),\n",
    "    1, 0)\n",
    "test['TransactionAmt_check'] = np.where(\n",
    "    test['TransactionAmt'].isin(train['TransactionAmt']),\n",
    "    1, 0)\n",
    "test['ProductCD_check'] = np.where(\n",
    "    test['ProductCD'].isin(train['ProductCD']),\n",
    "    1, 0)"
   ]
  },
  {
   "cell_type": "code",
   "execution_count": 17,
   "metadata": {},
   "outputs": [],
   "source": [
    "# Std and Mean TransactionAMT per item that helps find User\n",
    "\n",
    "i_cols = ['card1', 'card2', 'card3', 'card5', 'uid', 'uid2', 'uid3']\n",
    "\n",
    "for col in i_cols:\n",
    "    for agg_type in ['mean', 'std']:\n",
    "        new_col_name = col + '_TransactionAmt_' + agg_type\n",
    "        temp_df = pd.concat([train[[col, 'TransactionAmt']],\n",
    "                             test[[col, 'TransactionAmt']]])\n",
    "        temp_df = temp_df.groupby([col])['TransactionAmt'].agg(\n",
    "            [agg_type]).reset_index().rename(\n",
    "            columns={agg_type: new_col_name})\n",
    "\n",
    "        temp_df.index = list(temp_df[col])\n",
    "        temp_df = temp_df[new_col_name].to_dict()\n",
    "\n",
    "        train[new_col_name] = train[col].map(temp_df)\n",
    "        test[new_col_name] = test[col].map(temp_df)\n",
    "\n",
    "# We can also take the log of Transaction AMT\n",
    "train['TransactionAmt_log'] = np.log1p(train['TransactionAmt'])\n",
    "test['TransactionAmt_log'] = np.log1p(test['TransactionAmt'])\n",
    "\n",
    "\n",
    "# Make similar aggregations with ProductCD\n",
    "cols_of_interest = ['card1', 'card2', 'card3', 'card5', 'addr1', 'addr2',\n",
    "                    'dist2', 'C1', 'C2', 'C3', 'C4', 'C5', 'C6', 'C7', 'C8',\n",
    "                    'C9', 'C10', 'C11', 'C12', 'C13', 'C14', 'TransactionAmt',\n",
    "                    'D1', 'D2', 'D3', 'D4', 'D5', 'D6', 'D7', 'D8', 'D9',\n",
    "                    'D10', 'D13', 'D14', 'D15', 'uid', 'uid2', 'uid3']\n",
    "for col in cols_of_interest:\n",
    "    for agg_type in ['mean', 'std']:\n",
    "        if (train[col].dtypes != 'object'):\n",
    "            new_col_name = col + '_ProductCD_' + agg_type\n",
    "            temp_dict = train.groupby(['ProductCD'])[col].agg(\n",
    "                [agg_type]).reset_index().rename(\n",
    "                columns={agg_type: new_col_name})\n",
    "            temp_dict.index = temp_dict[new_col_name].values\n",
    "            temp_dict = temp_dict[new_col_name].to_dict()\n",
    "\n",
    "            train[new_col_name] = train[col].map(temp_dict)\n",
    "            test[new_col_name] = test[col].map(temp_dict)"
   ]
  },
  {
   "cell_type": "code",
   "execution_count": 19,
   "metadata": {},
   "outputs": [],
   "source": [
    "# Text mining on emaildomains\n",
    "p = 'P_emaildomain'\n",
    "r = 'R_emaildomain'\n",
    "unknown = 'email_not_provided'\n",
    "\n",
    "for df in [train, test]:\n",
    "    df[p] = df[p].astype(str)\n",
    "    df[p] = df[p].fillna(unknown)\n",
    "    df[r] = df[r].astype(str)\n",
    "    df[r] = df[r].fillna(unknown)\n",
    "\n",
    "    # Check if P_emaildomain matches R_emaildomain\n",
    "    df['email_check'] = np.where((df[p] == df[r]) & (df[p] != unknown), 1, 0)\n",
    "\n",
    "    df[p+'_prefix'] = df[p].apply(lambda x: x.split('.')[0])\n",
    "    df[r+'_prefix'] = df[r].apply(lambda x: x.split('.')[0])"
   ]
  },
  {
   "cell_type": "code",
   "execution_count": 20,
   "metadata": {},
   "outputs": [],
   "source": [
    "# Device and versions (apparently fraudsters always have updated software)\n",
    "for df in [train, test]:\n",
    "    for col in ['DeviceInfo', 'id_30', 'id_31']:\n",
    "        df[col] = df[col].astype(str).fillna('unknown_device').str.lower()\n",
    "        df[col+'_device'] = df[col].apply(\n",
    "            lambda x: ''.join([i for i in x if i.isalpha()])\n",
    "        )\n",
    "        df[col+'_version'] = df[col].apply(\n",
    "            lambda x: ''.join([i for i in x if i.isnumeric()])\n",
    "        )"
   ]
  },
  {
   "cell_type": "code",
   "execution_count": 22,
   "metadata": {},
   "outputs": [],
   "source": [
    "# Frequency encoding\n",
    "i_cols = ['card1', 'card2', 'card3', 'card5', 'C1', 'C2', 'C3', 'C4', 'C5',\n",
    "          'C6', 'C7', 'C8', 'C9', 'C10', 'C11', 'C12', 'C13', 'C14',\n",
    "          'D3', 'D4', 'D5', 'D6', 'D7', 'D8', 'addr1', 'addr2', 'dist1',\n",
    "          'dist2', 'P_emaildomain', 'R_emaildomain', 'DeviceInfo', 'D1', 'D2',\n",
    "          'DeviceInfo_device', 'DeviceInfo_version', 'id_30', 'id_30_device',\n",
    "          'id_30_version', 'id_31_device', 'id_33', 'uid', 'uid2', 'uid3']\n",
    "\n",
    "for col in i_cols:\n",
    "    temp_df = pd.concat([train[[col]], test[[col]]])\n",
    "    fq_encode = temp_df[col].value_counts(dropna=False).to_dict()\n",
    "    train[col+'_fq_enc'] = train[col].map(fq_encode)\n",
    "    test[col+'_fq_enc'] = test[col].map(fq_encode)\n",
    "\n",
    "# Same stuff with other variables\n",
    "for col in ['DT_M', 'DT_W', 'DT_D']:\n",
    "    temp_df = pd.concat([train[[col]], test[[col]]])\n",
    "    fq_encode = temp_df[col].value_counts().to_dict()\n",
    "\n",
    "    train[col+'_total'] = train[col].map(fq_encode)\n",
    "    test[col+'_total'] = test[col].map(fq_encode)"
   ]
  },
  {
   "cell_type": "code",
   "execution_count": 23,
   "metadata": {},
   "outputs": [],
   "source": [
    "# frequency encoding of a mix between uid and periods\n",
    "# Test different options for this (different uids ?)\n",
    "\n",
    "periods = ['DT_M', 'DT_W', 'DT_D']\n",
    "i_cols = ['uid']\n",
    "for period in periods:\n",
    "    for col in i_cols:\n",
    "        new_column = col + '_' + period\n",
    "\n",
    "        temp_df = pd.concat([train[[col, period]], test[[col, period]]])\n",
    "        temp_df[new_column] = temp_df[col].astype(str) + '_' + \\\n",
    "            (temp_df[period]).astype(str)\n",
    "        fq_encode = temp_df[new_column].value_counts().to_dict()\n",
    "\n",
    "        train[new_column] = (train[col].astype(str) + '_' +\n",
    "                             train[period].astype(str)).map(fq_encode)\n",
    "        test[new_column] = (test[col].astype(str) + '_' +\n",
    "                            test[period].astype(str)).map(fq_encode)\n",
    "\n",
    "        train[new_column] /= train[period + '_total']\n",
    "        test[new_column] /= test[period + '_total']"
   ]
  },
  {
   "cell_type": "code",
   "execution_count": null,
   "metadata": {},
   "outputs": [],
   "source": [
    "df['DeviceInfo'].str.split()"
   ]
  },
  {
   "cell_type": "code",
   "execution_count": 33,
   "metadata": {},
   "outputs": [],
   "source": [
    "%flake8_off\n",
    "\n",
    "# The two following cells don't strictly comply with PEP8\n",
    "# But https://www.python.org/dev/peps/pep-0008/#a-foolish-consistency-is-the-hobgoblin-of-little-minds\n",
    "\n",
    "\n",
    "# Group all device names in their constructor names\n",
    "def id_split(dataframe):\n",
    "    dataframe['device_name'] = dataframe['DeviceInfo'].str.split('/', expand=True)[0]\n",
    "    dataframe['device_version'] = dataframe['DeviceInfo'].str.split('/', expand=True)[1]\n",
    "\n",
    "    dataframe['OS_id_30'] = dataframe['id_30'].str.split(' ', expand=True)[0]\n",
    "    dataframe['version_id_30'] = dataframe['id_30'].str.split(' ', expand=True)[1]\n",
    "\n",
    "    dataframe['browser_id_31'] = dataframe['id_31'].str.split(' ', expand=True)[0]\n",
    "    dataframe['version_id_31'] = dataframe['id_31'].str.split(' ', expand=True)[1]\n",
    "\n",
    "    dataframe['screen_width'] = dataframe['id_33'].str.split('x', expand=True)[0]\n",
    "    dataframe['screen_height'] = dataframe['id_33'].str.split('x', expand=True)[1]\n",
    "\n",
    "    idx = dataframe['device_name'].str.contains('SM', na=False)\n",
    "    dataframe.loc[idx, 'device_name'] = 'Samsung'\n",
    "    idx = dataframe['device_name'].str.contains('SAMSUNG', na=False)\n",
    "    dataframe.loc[idx, 'device_name'] = 'Samsung'\n",
    "    idx = dataframe['device_name'].str.contains('GT-', na=False)\n",
    "    dataframe.loc[idx, 'device_name'] = 'Samsung'\n",
    "    idx = dataframe['device_name'].str.contains('Moto G', na=False)\n",
    "    dataframe.loc[idx, 'device_name'] = 'Motorola'\n",
    "    idx = dataframe['device_name'].str.contains('Moto', na=False)\n",
    "    dataframe.loc[idx, 'device_name'] = 'Motorola'\n",
    "    idx = dataframe['device_name'].str.contains('moto', na=False)\n",
    "    dataframe.loc[idx, 'device_name'] = 'Motorola'\n",
    "    idx = dataframe['device_name'].str.contains('LG-', na=False)\n",
    "    dataframe.loc[idx, 'device_name'] = 'LG'\n",
    "    idx = dataframe['device_name'].str.contains('rv:', na=False)\n",
    "    dataframe.loc[idx, 'device_name'] = 'RV'\n",
    "    idx = dataframe['device_name'].str.contains('HUAWEI', na=False)\n",
    "    dataframe.loc[idx, 'device_name'] = 'Huawei'\n",
    "    idx = dataframe['device_name'].str.contains('ALE-', na=False)\n",
    "    dataframe.loc[idx, 'device_name'] = 'Huawei'\n",
    "    idx = dataframe['device_name'].str.contains('-L', na=False)\n",
    "    dataframe.loc[idx, 'device_name'] = 'Huawei'\n",
    "    idx = dataframe['device_name'].str.contains('Blade', na=False)\n",
    "    dataframe.loc[idx, 'device_name'] = 'ZTE'\n",
    "    idx = dataframe['device_name'].str.contains('BLADE', na=False)\n",
    "    dataframe.loc[idx, 'device_name'] = 'ZTE'\n",
    "    idx = dataframe['device_name'].str.contains('Linux', na=False)\n",
    "    dataframe.loc[idx, 'device_name'] = 'Linux'\n",
    "    idx = dataframe['device_name'].str.contains('XT', na=False)\n",
    "    dataframe.loc[idx, 'device_name'] = 'Sony'\n",
    "    idx = dataframe['device_name'].str.contains('HTC', na=False)\n",
    "    dataframe.loc[idx, 'device_name'] = 'HTC'\n",
    "    idx = dataframe['device_name'].str.contains('ASUS', na=False)\n",
    "    dataframe.loc[idx, 'device_name'] = 'Asus'\n",
    "\n",
    "    # If less than 200 appearances, set to Others\n",
    "    mask = dataframe.device_name.value_counts() < 200\n",
    "    idx = dataframe.device_name.isin(\n",
    "        dataframe.device_name.value_counts()[mask].index\n",
    "    )\n",
    "    dataframe.loc[idx, 'device_name'] = \"Others\"\n",
    "    dataframe['had_id'] = 1\n",
    "    gc.collect()\n",
    "\n",
    "    return dataframe\n",
    "\n",
    "\n",
    "train = id_split(train)\n",
    "test = id_split(test)"
   ]
  },
  {
   "cell_type": "code",
   "execution_count": 34,
   "metadata": {},
   "outputs": [],
   "source": [
    "train['id_02_to_mean_card1'] = train['id_02'] / train.groupby(['card1'])['id_02'].transform('mean')\n",
    "train['id_02_to_mean_card4'] = train['id_02'] / train.groupby(['card4'])['id_02'].transform('mean')\n",
    "train['id_02_to_std_card1'] = train['id_02'] / train.groupby(['card1'])['id_02'].transform('std')\n",
    "train['id_02_to_std_card4'] = train['id_02'] / train.groupby(['card4'])['id_02'].transform('std')\n",
    "\n",
    "test['id_02_to_mean_card1'] = test['id_02'] / test.groupby(['card1'])['id_02'].transform('mean')\n",
    "test['id_02_to_mean_card4'] = test['id_02'] / test.groupby(['card4'])['id_02'].transform('mean')\n",
    "test['id_02_to_std_card1'] = test['id_02'] / test.groupby(['card1'])['id_02'].transform('std')\n",
    "test['id_02_to_std_card4'] = test['id_02'] / test.groupby(['card4'])['id_02'].transform('std')\n",
    "\n",
    "train['D15_to_mean_card1'] = train['D15'] / train.groupby(['card1'])['D15'].transform('mean')\n",
    "train['D15_to_mean_card4'] = train['D15'] / train.groupby(['card4'])['D15'].transform('mean')\n",
    "train['D15_to_std_card1'] = train['D15'] / train.groupby(['card1'])['D15'].transform('std')\n",
    "train['D15_to_std_card4'] = train['D15'] / train.groupby(['card4'])['D15'].transform('std')\n",
    "\n",
    "test['D15_to_mean_card1'] = test['D15'] / test.groupby(['card1'])['D15'].transform('mean')\n",
    "test['D15_to_mean_card4'] = test['D15'] / test.groupby(['card4'])['D15'].transform('mean')\n",
    "test['D15_to_std_card1'] = test['D15'] / test.groupby(['card1'])['D15'].transform('std')\n",
    "test['D15_to_std_card4'] = test['D15'] / test.groupby(['card4'])['D15'].transform('std')\n",
    "\n",
    "train['D15_to_mean_addr1'] = train['D15'] / train.groupby(['addr1'])['D15'].transform('mean')\n",
    "train['D15_to_mean_card4'] = train['D15'] / train.groupby(['card4'])['D15'].transform('mean')\n",
    "train['D15_to_std_addr1'] = train['D15'] / train.groupby(['addr1'])['D15'].transform('std')\n",
    "train['D15_to_std_card4'] = train['D15'] / train.groupby(['card4'])['D15'].transform('std')\n",
    "\n",
    "test['D15_to_mean_addr1'] = test['D15'] / test.groupby(['addr1'])['D15'].transform('mean')\n",
    "test['D15_to_mean_card4'] = test['D15'] / test.groupby(['card4'])['D15'].transform('mean')\n",
    "test['D15_to_std_addr1'] = test['D15'] / test.groupby(['addr1'])['D15'].transform('std')\n",
    "test['D15_to_std_card4'] = test['D15'] / test.groupby(['card4'])['D15'].transform('std')"
   ]
  },
  {
   "cell_type": "code",
   "execution_count": 35,
   "metadata": {},
   "outputs": [],
   "source": [
    "%flake8_on\n",
    "# New feature - decimal part of the transaction amount.\n",
    "decimal = (train['TransactionAmt'] - train['TransactionAmt'].astype(int))\n",
    "train['TransactionAmt_decimal'] = (decimal * 1000).astype(int)\n",
    "decimal = (test['TransactionAmt'] - test['TransactionAmt'].astype(int))\n",
    "test['TransactionAmt_decimal'] = (decimal * 1000).astype(int)"
   ]
  },
  {
   "cell_type": "code",
   "execution_count": 41,
   "metadata": {},
   "outputs": [],
   "source": [
    "# combination of categorical variables\n",
    "for feature in ['id_02__id_20', 'id_02__D8', 'D11__DeviceInfo',\n",
    "                'DeviceInfo__P_emaildomain', 'P_emaildomain__C2',\n",
    "                'card2__dist1', 'card1__card5', 'card2__id_20',\n",
    "                'card5__P_emaildomain', 'addr1__card1', 'id_02__id_14',\n",
    "                'id_14__id_20', 'id_02__id_17', 'id_14__id_17',\n",
    "                'id_17__id_20', 'id_02__id_19', 'id_14__id_19',\n",
    "                'id_17__id_19', 'id_19__id_20'\n",
    "                ]:\n",
    "\n",
    "    f1, f2 = feature.split('__')\n",
    "    train[feature] = train[f1].astype(str) + '_' + train[f2].astype(str)\n",
    "    test[feature] = test[f1].astype(str) + '_' + test[f2].astype(str)\n",
    "\n",
    "    le = LabelEncoder()\n",
    "    possible_values = list(train[feature].astype(str).values) + \\\n",
    "        list(test[feature].astype(str).values)\n",
    "    le.fit(possible_values)\n",
    "    train[feature] = le.transform(list(train[feature].astype(str).values))\n",
    "    test[feature] = le.transform(list(test[feature].astype(str).values))"
   ]
  },
  {
   "cell_type": "markdown",
   "metadata": {},
   "source": [
    "We are worried that some features might lose informative power as the timeframe changes. So we'd like to know which feature has values that change a lot between train and test set. We use the following test to do just that"
   ]
  },
  {
   "cell_type": "code",
   "execution_count": 44,
   "metadata": {},
   "outputs": [
    {
     "name": "stderr",
     "output_type": "stream",
     "text": [
      "100%|████████████████████████████████████████████████████████████████████████████████| 640/640 [02:26<00:00,  3.62it/s]\n"
     ]
    }
   ],
   "source": [
    "def get_diff_columns(train_df, test_df, show_plots=True,\n",
    "                     show_all=False, threshold=0.01):\n",
    "    \"\"\"\"Use KS to estimate columns where distributions\n",
    "    differ a lot from each other\"\"\"\n",
    "    numerics = ['int8', 'int16', 'int32', 'int64',\n",
    "                'float16', 'float32', 'float64']\n",
    "    # Find the columns where the distributions are very different\n",
    "    diff_data = []\n",
    "    for col in tqdm(test_df.columns):\n",
    "        if (test_df[col].dtypes in numerics) and (col != 'TransactionID'):\n",
    "            statistic, pvalue = ks_2samp(\n",
    "                train_df[col].values,\n",
    "                test_df[col].values)\n",
    "            if pvalue == 0:\n",
    "                diff_data.append({'feature': col, 'p': np.round(pvalue, 5),\n",
    "                                  'statistic': np.round(np.abs(statistic), 2)\n",
    "                                  })\n",
    "\n",
    "    # Put the differences into a dataframe\n",
    "    diff_df = pd.DataFrame(diff_data).sort_values(by='statistic',\n",
    "                                                  ascending=False)\n",
    "    return diff_df\n",
    "\n",
    "\n",
    "diff_df = get_diff_columns(train, test)"
   ]
  },
  {
   "cell_type": "code",
   "execution_count": 45,
   "metadata": {},
   "outputs": [
    {
     "data": {
      "text/plain": [
       "['TransactionDT',\n",
       " 'DT_M',\n",
       " 'DT_W',\n",
       " 'DT_D',\n",
       " 'id_33_count_dist',\n",
       " 'DT_M_total',\n",
       " 'id_01_count_dist',\n",
       " 'id_31_count_dist',\n",
       " 'id_36_count_dist',\n",
       " 'D15_to_std_card4',\n",
       " 'D15_to_std_addr1',\n",
       " 'DT_W_total',\n",
       " 'D15_to_std_card1',\n",
       " 'DT_D_total']"
      ]
     },
     "execution_count": 45,
     "metadata": {},
     "output_type": "execute_result"
    }
   ],
   "source": [
    "# When the statistic is higher than 0.15 (with a p-value of 0)\n",
    "# we can consider it changes too much from train to test\n",
    "todel = diff_df[diff_df['statistic'] > 0.15]['feature'].tolist()\n",
    "todel"
   ]
  },
  {
   "cell_type": "code",
   "execution_count": 46,
   "metadata": {},
   "outputs": [],
   "source": [
    "train = train.drop(todel, axis=1)\n",
    "test = test.drop(todel, axis=1)\n",
    "del(diff_df)"
   ]
  },
  {
   "cell_type": "code",
   "execution_count": 47,
   "metadata": {},
   "outputs": [
    {
     "name": "stderr",
     "output_type": "stream",
     "text": [
      "5:1: W293 blank line contains whitespace\n",
      "8:1: W293 blank line contains whitespace\n",
      "13:1: W293 blank line contains whitespace\n"
     ]
    }
   ],
   "source": [
    "for col in list(train):\n",
    "    if train[col].dtype == 'O':\n",
    "        train[col] = train[col].fillna('unseen_before_label')\n",
    "        test[col] = test[col].fillna('unseen_before_label')\n",
    "        \n",
    "        train[col] = train[col].astype(str)\n",
    "        test[col] = test[col].astype(str)\n",
    "        \n",
    "        le = LabelEncoder()\n",
    "        le.fit(list(train[col]) + list(test[col]))\n",
    "        train[col] = le.transform(train[col])\n",
    "        test[col] = le.transform(test[col])\n",
    "        \n",
    "        train[col] = train[col].astype('category')\n",
    "        test[col] = test[col].astype('category')"
   ]
  },
  {
   "cell_type": "code",
   "execution_count": 49,
   "metadata": {},
   "outputs": [],
   "source": [
    "rm_cols = [\n",
    "    'TransactionID', 'TransactionDT',  # These columns are pure noise right now\n",
    "    TARGET,                            # Not target in features))\n",
    "    'uid', 'uid2', 'uid3',             # Our new client uID -> very noisy data\n",
    "    'bank_type',                       # Victims bank could differ by time\n",
    "    'DT', 'DT_M', 'DT_W', 'DT_D',      # Temporary Variables\n",
    "    'DT_hour', 'DT_day_week', 'DT_day',\n",
    "    'DT_D_total', 'DT_W_total', 'DT_M_total',\n",
    "    'id_30', 'id_31', 'id_33',\n",
    "]"
   ]
  },
  {
   "cell_type": "code",
   "execution_count": 50,
   "metadata": {},
   "outputs": [],
   "source": [
    "features_columns = [col for col in list(train) if col not in rm_cols]"
   ]
  },
  {
   "cell_type": "code",
   "execution_count": 51,
   "metadata": {},
   "outputs": [
    {
     "name": "stdout",
     "output_type": "stream",
     "text": [
      "2018-05-31 23:58:51\n",
      "2018-07-01 00:00:24\n"
     ]
    }
   ],
   "source": [
    "# The June month drops entirely\n",
    "train['random_noise'] = np.random.randn(len(train))\n",
    "print(train['DT'].max())\n",
    "print(test['DT'].min())\n",
    "# So we need to get rid of April and keep May as validation set\n",
    "X_train = train[train['DT'] <= '2018-03-31']\n",
    "y_train = X_train[TARGET]\n",
    "X_train = X_train[features_columns]\n",
    "X_valid = train[(train['DT'] >= '2018-05-01')]\n",
    "y_valid = X_valid[TARGET]\n",
    "X_valid = X_valid[features_columns]"
   ]
  },
  {
   "cell_type": "code",
   "execution_count": 54,
   "metadata": {},
   "outputs": [],
   "source": [
    "lgb_params = {\n",
    "                    'objective': 'binary',\n",
    "                    'boosting_type': 'gbdt',\n",
    "                    'metric': 'auc',\n",
    "                    'n_jobs': -1,\n",
    "                    'learning_rate': 0.01,\n",
    "                    'num_leaves': 496,\n",
    "                    'max_depth': -1,\n",
    "                    'min_data_in_leaf': 50,\n",
    "                    'tree_learner': 'serial',\n",
    "                    'colsample_bytree': 0.7,\n",
    "                    'subsample_freq': 1,\n",
    "                    'subsample': 0.7,\n",
    "                    'n_estimators': 800,\n",
    "                    'max_bin': 255,\n",
    "                    'verbose': -1,\n",
    "                    'seed': 24,\n",
    "                    'early_stopping_rounds': 100,\n",
    "                } "
   ]
  },
  {
   "cell_type": "code",
   "execution_count": 29,
   "metadata": {},
   "outputs": [
    {
     "name": "stdout",
     "output_type": "stream",
     "text": [
      "Training until validation scores don't improve for 100 rounds.\n",
      "[100]\ttraining's auc: 0.962848\tvalid_1's auc: 0.895265\n",
      "[400]\ttraining's auc: 0.998079\tvalid_1's auc: 0.918299\n",
      "[500]\ttraining's auc: 0.999401\tvalid_1's auc: 0.919544\n",
      "[800]\ttraining's auc: 0.999987\tvalid_1's auc: 0.92052\n",
      "Did not meet early stopping. Best iteration is:\n",
      "[800]\ttraining's auc: 0.999987\tvalid_1's auc: 0.92052\n"
     ]
    }
   ],
   "source": [
    "tr_data = lgb.Dataset(X_train, label = y_train)\n",
    "vl_data = lgb.Dataset(X_valid, label = y_valid)  \n",
    "        \n",
    "estimator = lgb.train(\n",
    "                lgb_params,\n",
    "                tr_data,\n",
    "                valid_sets = [tr_data, vl_data],\n",
    "                verbose_eval = 100)"
   ]
  },
  {
   "cell_type": "markdown",
   "metadata": {},
   "source": [
    "# Try differentiating train and valid"
   ]
  },
  {
   "cell_type": "markdown",
   "metadata": {},
   "source": [
    "This is usually called \"adversarial training\", and the goal is to see whether a model can find correctly if an entry/row comes from the train or the validation set.\n",
    "\n",
    "When this is done, if the model is good, it means some variables are useful in predicting whether a row is in January-May or in June. We drop those vars and see if we gain some generalisation compared to the baseline above."
   ]
  },
  {
   "cell_type": "code",
   "execution_count": 57,
   "metadata": {},
   "outputs": [],
   "source": [
    "# Start by creating a new column and set it to 0\n",
    "train['isValid'] = 0\n",
    "# If a particular row is part of the validation set, set it to 1\n",
    "train.loc[X_valid.index, 'isValid'] = 1\n",
    "y_isvalid = train['isValid']\n",
    "train.drop('isValid', axis=1, inplace=True)\n",
    "\n",
    "# variable names start being messy here,\n",
    "# but it's just a train/valid split with a different learning goal\n",
    "train_isvalid = train.copy()\n",
    "valid_isvalid = train_isvalid.sample(frac=0.2)\n",
    "train_isvalid.drop(valid_isvalid.index, inplace=True)\n",
    "assert len(train_isvalid) + len(valid_isvalid) == len(train)\n",
    "\n",
    "y_train_isvalid = y_isvalid[train_isvalid.index]\n",
    "y_valid_isvalid = y_isvalid[valid_isvalid.index]\n",
    "assert len(y_train_isvalid) + len(y_valid_isvalid) == len(y_isvalid)"
   ]
  },
  {
   "cell_type": "code",
   "execution_count": 58,
   "metadata": {},
   "outputs": [
    {
     "name": "stderr",
     "output_type": "stream",
     "text": [
      "C:\\Users\\benjamin.dubreu\\AppData\\Local\\Continuum\\anaconda3\\lib\\site-packages\\lightgbm\\engine.py:148: UserWarning: Found `n_estimators` in params. Will use it instead of argument\n",
      "  warnings.warn(\"Found `{}` in params. Will use it instead of argument\".format(alias))\n",
      "C:\\Users\\benjamin.dubreu\\AppData\\Local\\Continuum\\anaconda3\\lib\\site-packages\\lightgbm\\engine.py:153: UserWarning: Found `early_stopping_rounds` in params. Will use it instead of argument\n",
      "  warnings.warn(\"Found `{}` in params. Will use it instead of argument\".format(alias))\n"
     ]
    },
    {
     "name": "stdout",
     "output_type": "stream",
     "text": [
      "Training until validation scores don't improve for 100 rounds\n",
      "[100]\ttraining's auc: 0.954122\tvalid_1's auc: 0.948157\n",
      "[200]\ttraining's auc: 0.975627\tvalid_1's auc: 0.969815\n",
      "[300]\ttraining's auc: 0.991778\tvalid_1's auc: 0.98831\n",
      "[400]\ttraining's auc: 0.997537\tvalid_1's auc: 0.995683\n",
      "[500]\ttraining's auc: 0.999001\tvalid_1's auc: 0.997227\n",
      "[600]\ttraining's auc: 0.999564\tvalid_1's auc: 0.998043\n",
      "[700]\ttraining's auc: 0.999822\tvalid_1's auc: 0.998625\n",
      "[800]\ttraining's auc: 0.999924\tvalid_1's auc: 0.998919\n",
      "Did not meet early stopping. Best iteration is:\n",
      "[800]\ttraining's auc: 0.999924\tvalid_1's auc: 0.998919\n"
     ]
    },
    {
     "name": "stderr",
     "output_type": "stream",
     "text": [
      "4:45: W291 trailing whitespace\n",
      "5:1: W293 blank line contains whitespace\n",
      "9:27: E251 unexpected spaces around keyword / parameter equals\n",
      "9:29: E251 unexpected spaces around keyword / parameter equals\n",
      "10:29: E251 unexpected spaces around keyword / parameter equals\n",
      "10:31: E251 unexpected spaces around keyword / parameter equals\n"
     ]
    }
   ],
   "source": [
    "tr_data = lgb.Dataset(train_isvalid[features_columns],\n",
    "                      label=y_train_isvalid)\n",
    "vl_data = lgb.Dataset(valid_isvalid[features_columns],\n",
    "                      label=y_valid_isvalid)\n",
    "\n",
    "estimator = lgb.train(\n",
    "                lgb_params,\n",
    "                tr_data,\n",
    "                valid_sets=[tr_data, vl_data],\n",
    "                verbose_eval=100)"
   ]
  },
  {
   "cell_type": "code",
   "execution_count": 60,
   "metadata": {},
   "outputs": [
    {
     "data": {
      "image/png": "[encoded data removed]",
      "text/plain": [
       "<Figure size 576x864 with 1 Axes>"
      ]
     },
     "metadata": {},
     "output_type": "display_data"
    }
   ],
   "source": [
    "plt.figure(figsize=(8, 12))\n",
    "\n",
    "mask = (estimator.feature_importance() > 5000)\n",
    "feature_names = np.array(estimator.feature_name())[mask]\n",
    "feature_importances = estimator.feature_importance()[mask]\n",
    "plt.barh(feature_names, feature_importances)\n",
    "plt.xticks(rotation=90)\n",
    "plt.show()"
   ]
  },
  {
   "cell_type": "code",
   "execution_count": 61,
   "metadata": {},
   "outputs": [
    {
     "data": {
      "text/plain": [
       "array(['card1', 'card2', 'card1_count_full', 'card2_count_full',\n",
       "       'card1_TransactionAmt_mean', 'card1_TransactionAmt_std',\n",
       "       'card2_TransactionAmt_mean', 'uid_fq_enc', 'uid3_fq_enc',\n",
       "       'uid_DT_M', 'uid_DT_W', 'uid_DT_D', 'card1__card5'], dtype='<U29')"
      ]
     },
     "execution_count": 61,
     "metadata": {},
     "output_type": "execute_result"
    }
   ],
   "source": [
    "np.array(estimator.feature_name())[mask]"
   ]
  },
  {
   "cell_type": "code",
   "execution_count": 110,
   "metadata": {},
   "outputs": [
    {
     "name": "stdout",
     "output_type": "stream",
     "text": [
      "Training until validation scores don't improve for 100 rounds.\n",
      "[100]\ttraining's auc: 0.961737\tvalid_1's auc: 0.894886\n",
      "[200]\ttraining's auc: 0.98223\tvalid_1's auc: 0.907333\n",
      "[300]\ttraining's auc: 0.993281\tvalid_1's auc: 0.914879\n",
      "[400]\ttraining's auc: 0.997704\tvalid_1's auc: 0.918281\n",
      "[500]\ttraining's auc: 0.999225\tvalid_1's auc: 0.91934\n",
      "[600]\ttraining's auc: 0.999748\tvalid_1's auc: 0.919381\n",
      "[700]\ttraining's auc: 0.999917\tvalid_1's auc: 0.91975\n",
      "[800]\ttraining's auc: 0.999972\tvalid_1's auc: 0.919945\n",
      "Did not meet early stopping. Best iteration is:\n",
      "[800]\ttraining's auc: 0.999972\tvalid_1's auc: 0.919945\n"
     ]
    }
   ],
   "source": [
    "changing_vars = ['card1', 'card1_count_full', 'uid_DT_M',\n",
    "                 'uid_DT_W', 'uid_DT_D']\n",
    "# We drop the most changing vars and see if that has an effet on results \n",
    "tr_data = lgb.Dataset(X_train.drop(changing_vars, axis=1), label=y_train)\n",
    "vl_data = lgb.Dataset(X_valid.drop(changing_vars, axis=1), label=y_valid)  \n",
    "\n",
    "estimator = lgb.train(\n",
    "                lgb_params,\n",
    "                tr_data,\n",
    "                valid_sets = [tr_data, vl_data],\n",
    "                verbose_eval = 100)"
   ]
  },
  {
   "cell_type": "markdown",
   "metadata": {},
   "source": [
    "By removing the variables that help the most to differentiate train from valid, we don't lose much predictive power (close to no effect), but we get a simpler/leaner model AND we take less risk of poor generalization."
   ]
  },
  {
   "cell_type": "markdown",
   "metadata": {},
   "source": [
    " "
   ]
  },
  {
   "cell_type": "markdown",
   "metadata": {},
   "source": [
    " "
   ]
  },
  {
   "cell_type": "markdown",
   "metadata": {},
   "source": [
    " "
   ]
  },
  {
   "cell_type": "markdown",
   "metadata": {},
   "source": [
    "# Downsampling"
   ]
  },
  {
   "cell_type": "markdown",
   "metadata": {},
   "source": [
    "In \"DownSampling\", we get subset the data the following way:\n",
    "* we keep all the positive class\n",
    "* we keep only a subset of the negative class (the more represented)\n",
    "* we model with that and see if there is a huge drop in AUC\n",
    "* as long as there isn't, we keep taking smaller and smaller subsets\n",
    "\n",
    "The goal is to come up with a dataset that takes a few seconds to train, to be able to iterate quickly"
   ]
  },
  {
   "cell_type": "code",
   "execution_count": 63,
   "metadata": {},
   "outputs": [],
   "source": [
    "pos_class = X_train[y_train == 1]\n",
    "neg_class = X_train[y_train == 0].sample(frac=0.1, random_state=42)\n",
    "\n",
    "X_subsample = pd.concat([pos_class, neg_class])\n",
    "X_subsample = X_subsample.sample(frac=1)  # quick way to shuffle\n",
    "y_subsample = y_train[X_subsample.index]\n",
    "assert len(X_subsample) == len(y_subsample)\n",
    "assert (X_subsample.index == y_subsample.index).all()"
   ]
  },
  {
   "cell_type": "code",
   "execution_count": 65,
   "metadata": {},
   "outputs": [
    {
     "name": "stdout",
     "output_type": "stream",
     "text": [
      "Training until validation scores don't improve for 100 rounds\n",
      "[100]\ttraining's auc: 0.964741\tvalid_1's auc: 0.892869\n",
      "[200]\ttraining's auc: 0.980452\tvalid_1's auc: 0.902851\n",
      "[300]\ttraining's auc: 0.990791\tvalid_1's auc: 0.910723\n",
      "[400]\ttraining's auc: 0.996216\tvalid_1's auc: 0.914763\n",
      "[500]\ttraining's auc: 0.998649\tvalid_1's auc: 0.91637\n",
      "[600]\ttraining's auc: 0.999596\tvalid_1's auc: 0.916973\n",
      "[700]\ttraining's auc: 0.999899\tvalid_1's auc: 0.917088\n",
      "[800]\ttraining's auc: 0.99998\tvalid_1's auc: 0.917053\n",
      "Did not meet early stopping. Best iteration is:\n",
      "[800]\ttraining's auc: 0.99998\tvalid_1's auc: 0.917053\n"
     ]
    }
   ],
   "source": [
    "tr_data = lgb.Dataset(X_subsample, label=y_subsample)\n",
    "vl_data = lgb.Dataset(X_valid, label=y_valid)\n",
    "\n",
    "estimator = lgb.train(\n",
    "                lgb_params,\n",
    "                tr_data,\n",
    "                valid_sets=[tr_data, vl_data],\n",
    "                verbose_eval=100)"
   ]
  },
  {
   "cell_type": "markdown",
   "metadata": {},
   "source": [
    "Down to 0.917 from 0.920. We lose only 0.003 AUC by removing 90% of the negative class!"
   ]
  },
  {
   "cell_type": "markdown",
   "metadata": {},
   "source": [
    "# Try modeling without those columns whose distribution changes"
   ]
  },
  {
   "cell_type": "code",
   "execution_count": 66,
   "metadata": {},
   "outputs": [
    {
     "name": "stdout",
     "output_type": "stream",
     "text": [
      "Training until validation scores don't improve for 100 rounds\n",
      "[100]\ttraining's auc: 0.963989\tvalid_1's auc: 0.891756\n",
      "[200]\ttraining's auc: 0.979771\tvalid_1's auc: 0.901669\n",
      "[300]\ttraining's auc: 0.990249\tvalid_1's auc: 0.910113\n",
      "[400]\ttraining's auc: 0.995881\tvalid_1's auc: 0.9152\n",
      "[500]\ttraining's auc: 0.998462\tvalid_1's auc: 0.917328\n",
      "[600]\ttraining's auc: 0.999505\tvalid_1's auc: 0.918188\n",
      "[700]\ttraining's auc: 0.999862\tvalid_1's auc: 0.918426\n",
      "[800]\ttraining's auc: 0.999967\tvalid_1's auc: 0.9183\n",
      "Did not meet early stopping. Best iteration is:\n",
      "[800]\ttraining's auc: 0.999967\tvalid_1's auc: 0.9183\n"
     ]
    }
   ],
   "source": [
    "changing_vars = ['card1', 'card1_count_full', 'uid_DT_M',\n",
    "                 'uid_DT_W', 'uid_DT_D']\n",
    "tr_data = lgb.Dataset(X_subsample.drop(changing_vars, axis=1),\n",
    "                      label=y_subsample)\n",
    "vl_data = lgb.Dataset(X_valid.drop(changing_vars, axis=1),\n",
    "                      label=y_valid)\n",
    "\n",
    "estimator = lgb.train(\n",
    "                lgb_params,\n",
    "                tr_data,\n",
    "                valid_sets=[tr_data, vl_data],\n",
    "                verbose_eval=100) "
   ]
  },
  {
   "cell_type": "markdown",
   "metadata": {},
   "source": [
    "When removing the dangerous columns (the ones which behave differently between train and valid), we even get a closer score to our original one, still with very few data!"
   ]
  },
  {
   "cell_type": "markdown",
   "metadata": {},
   "source": [
    "# Permutation importance"
   ]
  },
  {
   "cell_type": "code",
   "execution_count": 67,
   "metadata": {},
   "outputs": [],
   "source": [
    "permut_importances = np.zeros_like(X_subsample.columns)\n",
    "base_roc = roc_auc_score(y_valid, estimator.predict(X_valid))"
   ]
  },
  {
   "cell_type": "code",
   "execution_count": 82,
   "metadata": {},
   "outputs": [],
   "source": [
    "# for i, col in enumerate(tqdm_notebook(X_subsample.columns)):\n",
    "#     save = X_valid[col].copy()\n",
    "\n",
    "#     dtype = X_valid[col].dtype\n",
    "#     X_valid[col] = np.random.permutation(X_valid[col])\n",
    "#     X_valid[col] = X_valid[col].astype(dtype)\n",
    "#     predict_permutation = estimator.predict(X_valid)\n",
    "\n",
    "#     score_after_permut = roc_auc_score(y_valid, predict_permutation)\n",
    "#     perte = base_roc - score_after_permut\n",
    "#     permut_importances[i] = perte * 100\n",
    "#     X_valid[col] = save\n",
    "\n",
    "# Use permut_imp_df.csv to get back the results"
   ]
  },
  {
   "cell_type": "code",
   "execution_count": 71,
   "metadata": {},
   "outputs": [
    {
     "data": {
      "image/png": "[encoded data removed]",
      "text/plain": [
       "<Figure size 576x1080 with 1 Axes>"
      ]
     },
     "metadata": {},
     "output_type": "display_data"
    }
   ],
   "source": [
    "plt.figure(figsize=(8, 15))\n",
    "mask = permut_importances > 0.05\n",
    "plt.barh(X_subsample.columns[mask],\n",
    "         permut_importances[mask])  # 45 variables\n",
    "plt.xticks(rotation=90)\n",
    "plt.show()"
   ]
  },
  {
   "cell_type": "code",
   "execution_count": 72,
   "metadata": {},
   "outputs": [],
   "source": [
    "permut_imp_df = pd.DataFrame()\n",
    "permut_imp_df['permut_importances'] = permut_importances\n",
    "permut_imp_df['cols'] = X_subsample.columns.tolist()"
   ]
  },
  {
   "cell_type": "code",
   "execution_count": 75,
   "metadata": {},
   "outputs": [
    {
     "data": {
      "text/plain": [
       "(616, 2)"
      ]
     },
     "execution_count": 75,
     "metadata": {},
     "output_type": "execute_result"
    }
   ],
   "source": [
    "permut_imp_df.shape"
   ]
  },
  {
   "cell_type": "code",
   "execution_count": 76,
   "metadata": {},
   "outputs": [
    {
     "data": {
      "text/html": [
       "<div>\n",
       "<style scoped>\n",
       "    .dataframe tbody tr th:only-of-type {\n",
       "        vertical-align: middle;\n",
       "    }\n",
       "\n",
       "    .dataframe tbody tr th {\n",
       "        vertical-align: top;\n",
       "    }\n",
       "\n",
       "    .dataframe thead th {\n",
       "        text-align: right;\n",
       "    }\n",
       "</style>\n",
       "<table border=\"1\" class=\"dataframe\">\n",
       "  <thead>\n",
       "    <tr style=\"text-align: right;\">\n",
       "      <th></th>\n",
       "      <th>permut_importances</th>\n",
       "      <th>cols</th>\n",
       "    </tr>\n",
       "  </thead>\n",
       "  <tbody>\n",
       "    <tr>\n",
       "      <th>536</th>\n",
       "      <td>3.65083</td>\n",
       "      <td>card3_fq_enc</td>\n",
       "    </tr>\n",
       "    <tr>\n",
       "      <th>308</th>\n",
       "      <td>3.02664</td>\n",
       "      <td>V257</td>\n",
       "    </tr>\n",
       "    <tr>\n",
       "      <th>26</th>\n",
       "      <td>2.46217</td>\n",
       "      <td>C13</td>\n",
       "    </tr>\n",
       "    <tr>\n",
       "      <th>392</th>\n",
       "      <td>1.80809</td>\n",
       "      <td>id_02</td>\n",
       "    </tr>\n",
       "    <tr>\n",
       "      <th>549</th>\n",
       "      <td>1.73153</td>\n",
       "      <td>C12_fq_enc</td>\n",
       "    </tr>\n",
       "    <tr>\n",
       "      <th>12</th>\n",
       "      <td>1.20611</td>\n",
       "      <td>P_emaildomain</td>\n",
       "    </tr>\n",
       "    <tr>\n",
       "      <th>20</th>\n",
       "      <td>0.884187</td>\n",
       "      <td>C7</td>\n",
       "    </tr>\n",
       "    <tr>\n",
       "      <th>141</th>\n",
       "      <td>0.804443</td>\n",
       "      <td>V90</td>\n",
       "    </tr>\n",
       "    <tr>\n",
       "      <th>331</th>\n",
       "      <td>0.713949</td>\n",
       "      <td>V280</td>\n",
       "    </tr>\n",
       "    <tr>\n",
       "      <th>137</th>\n",
       "      <td>0.673641</td>\n",
       "      <td>V86</td>\n",
       "    </tr>\n",
       "  </tbody>\n",
       "</table>\n",
       "</div>"
      ],
      "text/plain": [
       "    permut_importances           cols\n",
       "536            3.65083   card3_fq_enc\n",
       "308            3.02664           V257\n",
       "26             2.46217            C13\n",
       "392            1.80809          id_02\n",
       "549            1.73153     C12_fq_enc\n",
       "12             1.20611  P_emaildomain\n",
       "20            0.884187             C7\n",
       "141           0.804443            V90\n",
       "331           0.713949           V280\n",
       "137           0.673641            V86"
      ]
     },
     "execution_count": 76,
     "metadata": {},
     "output_type": "execute_result"
    }
   ],
   "source": [
    "permut_imp_df.sort_values('permut_importances',\n",
    "                          ascending=False).head(10)"
   ]
  },
  {
   "cell_type": "code",
   "execution_count": 81,
   "metadata": {},
   "outputs": [],
   "source": [
    "permut_imp_df.to_csv('permut_imp_df.csv', index=False)"
   ]
  },
  {
   "cell_type": "code",
   "execution_count": 79,
   "metadata": {},
   "outputs": [
    {
     "data": {
      "image/png": "[encoded data removed]",
      "text/plain": [
       "<Figure size 576x864 with 1 Axes>"
      ]
     },
     "metadata": {},
     "output_type": "display_data"
    }
   ],
   "source": [
    "plt.figure(figsize=(8, 12))\n",
    "mask = permut_importances > 0.1  # 45 variables\n",
    "plt.barh(X_subsample.columns[mask], permut_importances[mask])\n",
    "plt.xticks(rotation=90)\n",
    "plt.show()"
   ]
  },
  {
   "cell_type": "code",
   "execution_count": 80,
   "metadata": {},
   "outputs": [
    {
     "data": {
      "text/plain": [
       "<BarContainer object of 14 artists>"
      ]
     },
     "execution_count": 80,
     "metadata": {},
     "output_type": "execute_result"
    },
    {
     "data": {
      "image/png": "[encoded data removed]",
      "text/plain": [
       "<Figure size 432x288 with 1 Axes>"
      ]
     },
     "metadata": {},
     "output_type": "display_data"
    }
   ],
   "source": [
    "plt.barh(X_subsample.columns[permut_importances > 0.5],\n",
    "         permut_importances[permut_importances > 0.5]) "
   ]
  },
  {
   "cell_type": "markdown",
   "metadata": {},
   "source": [
    "# Try modeling with only subset of vars"
   ]
  },
  {
   "cell_type": "code",
   "execution_count": 83,
   "metadata": {},
   "outputs": [
    {
     "name": "stderr",
     "output_type": "stream",
     "text": [
      "C:\\Users\\benjamin.dubreu\\AppData\\Local\\Continuum\\anaconda3\\lib\\site-packages\\lightgbm\\engine.py:148: UserWarning: Found `n_estimators` in params. Will use it instead of argument\n",
      "  warnings.warn(\"Found `{}` in params. Will use it instead of argument\".format(alias))\n",
      "C:\\Users\\benjamin.dubreu\\AppData\\Local\\Continuum\\anaconda3\\lib\\site-packages\\lightgbm\\engine.py:153: UserWarning: Found `early_stopping_rounds` in params. Will use it instead of argument\n",
      "  warnings.warn(\"Found `{}` in params. Will use it instead of argument\".format(alias))\n"
     ]
    },
    {
     "name": "stdout",
     "output_type": "stream",
     "text": [
      "Training until validation scores don't improve for 100 rounds\n",
      "[100]\ttraining's auc: 0.949745\tvalid_1's auc: 0.884709\n",
      "[200]\ttraining's auc: 0.96526\tvalid_1's auc: 0.890413\n",
      "[300]\ttraining's auc: 0.977662\tvalid_1's auc: 0.895854\n",
      "[400]\ttraining's auc: 0.986151\tvalid_1's auc: 0.900449\n",
      "[500]\ttraining's auc: 0.991436\tvalid_1's auc: 0.902049\n",
      "[600]\ttraining's auc: 0.994677\tvalid_1's auc: 0.902434\n",
      "[700]\ttraining's auc: 0.996618\tvalid_1's auc: 0.90262\n",
      "Early stopping, best iteration is:\n",
      "[698]\ttraining's auc: 0.996591\tvalid_1's auc: 0.902641\n"
     ]
    },
    {
     "name": "stderr",
     "output_type": "stream",
     "text": [
      "13:26: W291 trailing whitespace\n"
     ]
    }
   ],
   "source": [
    "mask = permut_importances > 0.05\n",
    "tr_data = lgb.Dataset(X_subsample[X_subsample.columns[mask]],\n",
    "                      label=y_subsample)\n",
    "vl_data = lgb.Dataset(X_valid[X_subsample.columns[mask]],\n",
    "                      label=y_valid)\n",
    "\n",
    "estimator = lgb.train(\n",
    "                lgb_params,\n",
    "                tr_data,\n",
    "                valid_sets=[tr_data, vl_data],\n",
    "                verbose_eval=100)"
   ]
  },
  {
   "cell_type": "code",
   "execution_count": 86,
   "metadata": {},
   "outputs": [
    {
     "name": "stdout",
     "output_type": "stream",
     "text": [
      "Training until validation scores don't improve for 100 rounds\n",
      "[100]\ttraining's auc: 0.96049\tvalid_1's auc: 0.892366\n",
      "[200]\ttraining's auc: 0.975675\tvalid_1's auc: 0.899475\n",
      "[300]\ttraining's auc: 0.986477\tvalid_1's auc: 0.906161\n",
      "[400]\ttraining's auc: 0.993192\tvalid_1's auc: 0.910631\n",
      "[500]\ttraining's auc: 0.996841\tvalid_1's auc: 0.91285\n",
      "[600]\ttraining's auc: 0.998639\tvalid_1's auc: 0.913734\n",
      "[700]\ttraining's auc: 0.999453\tvalid_1's auc: 0.913437\n",
      "Early stopping, best iteration is:\n",
      "[644]\ttraining's auc: 0.999083\tvalid_1's auc: 0.913834\n"
     ]
    }
   ],
   "source": [
    "mask = permut_importances > 0.001\n",
    "tr_data = lgb.Dataset(X_subsample[X_subsample.columns[mask]],\n",
    "                      label=y_subsample)\n",
    "vl_data = lgb.Dataset(X_valid[X_subsample.columns[mask]],\n",
    "                      label=y_valid)\n",
    "\n",
    "estimator = lgb.train(\n",
    "                lgb_params,\n",
    "                tr_data,\n",
    "                valid_sets=[tr_data, vl_data],\n",
    "                verbose_eval=100)\n",
    "# 0.001 seems to be the winner, but it means keeping the vars\n",
    "# with an AUC increase of 0.00001... likely to overfit valid set\n",
    "# Turns out not really"
   ]
  },
  {
   "cell_type": "markdown",
   "metadata": {},
   "source": [
    "# From here: move to another notebook. Export data with newly created features"
   ]
  },
  {
   "cell_type": "code",
   "execution_count": 90,
   "metadata": {},
   "outputs": [],
   "source": [
    "del(train['random_noise'])\n",
    "train.to_csv('input/train_w_fe.csv', index=False)\n",
    "test.to_csv('input/test_w_fe.csv', index=False)"
   ]
  },
  {
   "cell_type": "markdown",
   "metadata": {},
   "source": [
    "# Try modeling with SUM_ID_NANs"
   ]
  },
  {
   "cell_type": "code",
   "execution_count": 73,
   "metadata": {},
   "outputs": [],
   "source": [
    "id_cols = [col for col in X_subsample.columns if 'id' in col and len(col) < 6]"
   ]
  },
  {
   "cell_type": "code",
   "execution_count": 74,
   "metadata": {},
   "outputs": [],
   "source": [
    "for col in id_cols:\n",
    "    X_subsample[col] = X_subsample[col].apply(lambda x: np.nan if x == 'nan' else x)"
   ]
  },
  {
   "cell_type": "code",
   "execution_count": 75,
   "metadata": {},
   "outputs": [],
   "source": [
    "X_subsample['id_nan_count'] = X_subsample[id_cols].isnull().sum(axis=1) **2\n",
    "X_valid['id_nan_count'] = X_valid[id_cols].isnull().sum(axis=1) **2"
   ]
  },
  {
   "cell_type": "code",
   "execution_count": 76,
   "metadata": {},
   "outputs": [
    {
     "name": "stdout",
     "output_type": "stream",
     "text": [
      "Training until validation scores don't improve for 100 rounds.\n",
      "[100]\ttraining's auc: 0.964493\tvalid_1's auc: 0.892541\n",
      "[200]\ttraining's auc: 0.980569\tvalid_1's auc: 0.901461\n",
      "[300]\ttraining's auc: 0.99086\tvalid_1's auc: 0.909293\n",
      "[400]\ttraining's auc: 0.996249\tvalid_1's auc: 0.914079\n",
      "[500]\ttraining's auc: 0.998646\tvalid_1's auc: 0.916374\n",
      "[600]\ttraining's auc: 0.999571\tvalid_1's auc: 0.917245\n",
      "[700]\ttraining's auc: 0.999891\tvalid_1's auc: 0.916991\n",
      "Early stopping, best iteration is:\n",
      "[600]\ttraining's auc: 0.999571\tvalid_1's auc: 0.917245\n"
     ]
    }
   ],
   "source": [
    "tr_data = lgb.Dataset(X_subsample, label=y_subsample)\n",
    "vl_data = lgb.Dataset(X_valid, label=y_valid)  \n",
    "        \n",
    "estimator = lgb.train(\n",
    "                lgb_params,\n",
    "                tr_data,\n",
    "                valid_sets = [tr_data, vl_data],\n",
    "                verbose_eval = 100) \n",
    "\n",
    "# bestS: 0.912585, 0.915495, 0.9138(this one with random state=42)\n",
    "# if keep Vcols with 0.15 k2s: 0.917, 0.916\n",
    "# with id_nans_sum on top: 0.916362"
   ]
  },
  {
   "cell_type": "code",
   "execution_count": null,
   "metadata": {},
   "outputs": [],
   "source": []
  },
  {
   "cell_type": "markdown",
   "metadata": {},
   "source": [
    "# Try adding new features "
   ]
  },
  {
   "cell_type": "code",
   "execution_count": 114,
   "metadata": {},
   "outputs": [],
   "source": [
    "# Try to regroup some variables to find back the users\n",
    "X_subsample['uid'] = X_subsample['card1'].astype(str) + '_' + \\\n",
    "    X_subsample['card2'].astype(str)\n",
    "X_valid['uid'] = X_valid['card1'].astype(str) + '_' + \\\n",
    "    X_valid['card2'].astype(str)\n",
    "\n",
    "X_subsample['uid2'] = X_subsample['uid'].astype(str) + '_' + \\\n",
    "    X_subsample['card3'].astype(str) + '_' + X_subsample['card4'].astype(str)\n",
    "X_valid['uid2'] = X_valid['uid'].astype(str) + '_' + \\\n",
    "    X_valid['card3'].astype(str) + '_' + X_valid['card4'].astype(str)\n",
    "\n",
    "X_subsample['uid3'] = X_subsample['uid2'].astype(str) + '_' + \\\n",
    "    X_subsample['addr1'].astype(str) + '_' + X_subsample['addr2'].astype(str)\n",
    "X_valid['uid3'] = X_valid['uid2'].astype(str) + '_' + \\\n",
    "    X_valid['addr1'].astype(str) + '_' + X_valid['addr2'].astype(str)"
   ]
  },
  {
   "cell_type": "code",
   "execution_count": 135,
   "metadata": {},
   "outputs": [],
   "source": [
    "X_subsample['C1_third_quartile'] = X_subsample.groupby('uid3')['C1'].transform(lambda x: x > x.quantile(0.75))\n",
    "X_valid['C1_third_quartile'] = X_valid.groupby('uid')['C1'].transform(lambda x: x > x.quantile(0.75))"
   ]
  },
  {
   "cell_type": "code",
   "execution_count": 143,
   "metadata": {},
   "outputs": [
    {
     "name": "stdout",
     "output_type": "stream",
     "text": [
      "Training until validation scores don't improve for 100 rounds.\n",
      "[100]\ttraining's auc: 0.964825\tvalid_1's auc: 0.895645\n",
      "[200]\ttraining's auc: 0.980188\tvalid_1's auc: 0.904202\n",
      "[400]\ttraining's auc: 0.995891\tvalid_1's auc: 0.91442\n",
      "[600]\ttraining's auc: 0.999492\tvalid_1's auc: 0.91819\n",
      "[800]\ttraining's auc: 0.999968\tvalid_1's auc: 0.918997\n",
      "Did not meet early stopping. Best iteration is:\n",
      "[800]\ttraining's auc: 0.999968\tvalid_1's auc: 0.918997\n"
     ]
    }
   ],
   "source": [
    "tr_data = lgb.Dataset(X_subsample[useful_vars.tolist() + ['C1_third_quartile']], label=y_subsample)\n",
    "vl_data = lgb.Dataset(X_valid[useful_vars.tolist() + ['C1_third_quartile']], label=y_valid)  \n",
    "        \n",
    "estimator = lgb.train(\n",
    "                lgb_params,\n",
    "                tr_data,\n",
    "                valid_sets = [tr_data, vl_data],\n",
    "                verbose_eval = 100) \n",
    "\n",
    "#  0.914075 => 0.91819\n",
    "#  0.909696 => 0.919665"
   ]
  },
  {
   "cell_type": "code",
   "execution_count": null,
   "metadata": {},
   "outputs": [
    {
     "name": "stdout",
     "output_type": "stream",
     "text": [
      "C2 0.920006456876584 True\n",
      "C3 0.9212837185780413 True\n",
      "C5 0.9193946359351762 False\n",
      "C6 0.9202151066953561 True\n",
      "C8 0.9201764721167557 True\n",
      "C10 0.9203012448201281 True\n",
      "C11 0.9195494387169016 False\n",
      "C13 0.9201650888471642 True\n"
     ]
    }
   ],
   "source": [
    "C_cols = [col for col in useful_vars if col.startswith('C') and '_' not in col]\n",
    "results_c_cols = {}\n",
    "for decile in [0.75,0.9]:\n",
    "    for col in C_cols: \n",
    "        X_subsample[col+'_third_quartile'] = X_subsample.groupby('uid3')[col].transform(lambda x: x > x.quantile(decile))\n",
    "        X_valid[col+'_third_quartile'] = X_valid.groupby('uid3')[col].transform(lambda x: x > x.quantile(decile))\n",
    "        \n",
    "        tr_data = lgb.Dataset(X_subsample[useful_vars.tolist()+[col+'_third_quartile']], label=y_subsample)\n",
    "        vl_data = lgb.Dataset(X_valid[useful_vars.tolist()+[col+'_third_quartile']], label=y_valid)  \n",
    "            \n",
    "        estimator3 = lgb.train(\n",
    "                    lgb_params,\n",
    "                    tr_data,\n",
    "                    valid_sets = [tr_data, vl_data],\n",
    "                    verbose_eval = 0) \n",
    "    \n",
    "        print(decile, col, estimator3.best_score['valid_1']['auc'], estimator3.best_score['valid_1']['auc'] > 0.919665)\n",
    "        results_c_cols[col+str(decile)] = estimator3.best_score['valid_1']['auc'] - 0.919665\n",
    "        del(X_subsample[col+'_third_quartile'])\n",
    "        del(X_valid[col+'_third_quartile'])"
   ]
  },
  {
   "cell_type": "code",
   "execution_count": 152,
   "metadata": {},
   "outputs": [
    {
     "name": "stdout",
     "output_type": "stream",
     "text": [
      "0.75 C1 0.9197192192888848 True\n",
      "0.75 C2 0.9206407053920135 True\n",
      "0.75 C5 0.9208753437814464 True\n",
      "0.75 C8 0.9206131672663296 True\n",
      "0.75 C9 0.9210218996525451 True\n",
      "0.75 C10 0.9203944006412059 True\n",
      "0.75 C11 0.9199956844892612 True\n",
      "0.75 C13 0.9204102053574613 True\n",
      "0.75 C14 0.9205487229118785 True\n",
      "0.9 C2 0.920006456876584 True\n",
      "0.9 C3 0.9212837185780413 True\n",
      "0.9 C5 0.9193946359351762 False\n",
      "0.9 C6 0.9202151066953561 True\n",
      "0.9 C8 0.9201764721167557 True\n",
      "0.9 C9 0.9200695937939845 True\n",
      "0.9 C11 0.9195494387169016 False\n",
      "0.9 C13 0.9201650888471642 True\n",
      "0.9 C14 0.9202578498297024 True\n"
     ]
    }
   ],
   "source": [
    "C_cols = [col for col in useful_vars if col.startswith('C') and '_' not in col]\n",
    "results_c_cols = {}\n",
    "for decile in [0.75,0.9]:\n",
    "    for col in C_cols: \n",
    "        X_subsample[col+'_third_quartile'] = X_subsample.groupby('uid3')[col].transform(lambda x: x > x.quantile(decile))\n",
    "        X_valid[col+'_third_quartile'] = X_valid.groupby('uid3')[col].transform(lambda x: x > x.quantile(decile))\n",
    "        \n",
    "        tr_data = lgb.Dataset(X_subsample[useful_vars.tolist()+[col+'_third_quartile']], label=y_subsample)\n",
    "        vl_data = lgb.Dataset(X_valid[useful_vars.tolist()+[col+'_third_quartile']], label=y_valid)  \n",
    "            \n",
    "        estimator3 = lgb.train(\n",
    "                    lgb_params,\n",
    "                    tr_data,\n",
    "                    valid_sets = [tr_data, vl_data],\n",
    "                    verbose_eval = 0) \n",
    "    \n",
    "        print(decile, col, estimator3.best_score['valid_1']['auc'], estimator3.best_score['valid_1']['auc'] > 0.919665)\n",
    "        results_c_cols[col+str(decile)] = estimator3.best_score['valid_1']['auc'] - 0.919665\n",
    "        del(X_subsample[col+'_third_quartile'])\n",
    "        del(X_valid[col+'_third_quartile'])"
   ]
  },
  {
   "cell_type": "code",
   "execution_count": 164,
   "metadata": {},
   "outputs": [
    {
     "name": "stdout",
     "output_type": "stream",
     "text": [
      "C10.75 0.054219288884826966\n",
      "C20.75 0.9757053920135261\n",
      "C30.75 1.6187185780413005\n",
      "C50.75 1.2103437814464657\n",
      "C60.75 0.9994255035182809\n",
      "C80.75 0.9481672663296248\n",
      "C90.75 1.3568996525451515\n",
      "C100.75 0.7294006412059684\n",
      "C110.75 0.33068448926121263\n",
      "C130.75 0.7452053574613648\n",
      "C140.75 0.8837229118785483\n",
      "C10.9 0.06720798687742668\n",
      "C20.9 0.34145687658404533\n",
      "C30.9 1.6187185780413005\n",
      "C50.9 -0.2703640648237249\n",
      "C60.9 0.5501066953561562\n",
      "C80.9 0.511472116755729\n",
      "C90.9 0.4045937939844979\n",
      "C100.9 0.6362448201281401\n",
      "C110.9 -0.11556128309830882\n",
      "C130.9 0.5000888471642373\n",
      "C140.9 0.5928498297024243\n"
     ]
    }
   ],
   "source": [
    "# Fonctionne mieux avec les 0.75\n",
    "for key, value in results_c_cols.items():\n",
    "    print(key, value*1000)"
   ]
  },
  {
   "cell_type": "code",
   "execution_count": null,
   "metadata": {},
   "outputs": [],
   "source": []
  },
  {
   "cell_type": "code",
   "execution_count": 112,
   "metadata": {},
   "outputs": [],
   "source": [
    "usecols = pd.read_csv('useful_vars.csv')"
   ]
  },
  {
   "cell_type": "code",
   "execution_count": null,
   "metadata": {},
   "outputs": [],
   "source": []
  },
  {
   "cell_type": "code",
   "execution_count": null,
   "metadata": {},
   "outputs": [],
   "source": [
    "X_subsample['AMT_95'] = X_subsample.groupby('uid3')['TransactionAmt'].transform(lambda x:  x > x.quantile(0.95))\n",
    "X_subsample['AMT_85'] = X_subsample.groupby('uid3')['TransactionAmt'].transform(lambda x:  x > x.quantile(0.85))\n",
    "X_subsample['AMT_75'] = X_subsample.groupby('uid3')['TransactionAmt'].transform(lambda x:  x > x.quantile(0.75))\n",
    "X_subsample['AMT_65'] = X_subsample.groupby('uid3')['TransactionAmt'].transform(lambda x:  x > x.quantile(0.65))\n",
    "X_subsample['AMT_55'] = X_subsample.groupby('uid3')['TransactionAmt'].transform(lambda x:  x > x.quantile(0.55))\n",
    "X_subsample['AMT_HH'] = X_subsample['AMT_55'] +X_subsample['AMT_65'] +X_subsample['AMT_75'] +X_subsample['AMT_85'] +X_subsample['AMT_95'] \n",
    "del(X_subsample['AMT_95'])\n",
    "del(X_subsample['AMT_85'])\n",
    "del(X_subsample['AMT_75'])\n",
    "del(X_subsample['AMT_65'])\n",
    "del(X_subsample['AMT_55'])\n",
    "X_valid['AMT_95'] = X_valid.groupby('uid3')['TransactionAmt'].transform(lambda x:  x > x.quantile(0.95))\n",
    "X_valid['AMT_85'] = X_valid.groupby('uid3')['TransactionAmt'].transform(lambda x:  x > x.quantile(0.85))\n",
    "X_valid['AMT_75'] = X_valid.groupby('uid3')['TransactionAmt'].transform(lambda x:  x > x.quantile(0.75))\n",
    "X_valid['AMT_65'] = X_valid.groupby('uid3')['TransactionAmt'].transform(lambda x:  x > x.quantile(0.65))\n",
    "X_valid['AMT_55'] = X_valid.groupby('uid3')['TransactionAmt'].transform(lambda x:  x > x.quantile(0.55))\n",
    "X_valid['AMT_HH'] = X_valid['AMT_55'] +X_valid['AMT_65'] +X_valid['AMT_75'] +X_valid['AMT_85'] +X_valid['AMT_95'] \n",
    "del(X_valid['AMT_95'])\n",
    "del(X_valid['AMT_85'])\n",
    "del(X_valid['AMT_75'])\n",
    "del(X_valid['AMT_65'])\n",
    "del(X_valid['AMT_55'])"
   ]
  },
  {
   "cell_type": "code",
   "execution_count": 122,
   "metadata": {},
   "outputs": [
    {
     "name": "stdout",
     "output_type": "stream",
     "text": [
      "Training until validation scores don't improve for 100 rounds.\n",
      "[100]\ttraining's auc: 0.96413\tvalid_1's auc: 0.895037\n",
      "[200]\ttraining's auc: 0.979642\tvalid_1's auc: 0.905219\n",
      "[300]\ttraining's auc: 0.989962\tvalid_1's auc: 0.912848\n",
      "[400]\ttraining's auc: 0.995617\tvalid_1's auc: 0.917755\n",
      "[500]\ttraining's auc: 0.998274\tvalid_1's auc: 0.919999\n",
      "[600]\ttraining's auc: 0.999402\tvalid_1's auc: 0.920786\n",
      "Early stopping, best iteration is:\n",
      "[580]\ttraining's auc: 0.999255\tvalid_1's auc: 0.920918\n"
     ]
    }
   ],
   "source": [
    "tr_data = lgb.Dataset(X_subsample[usecols['cols'].tolist()+['AMT_HH']], label=y_subsample)\n",
    "vl_data = lgb.Dataset(X_valid[usecols['cols'].tolist()+['AMT_HH']], label=y_valid)  \n",
    "\n",
    "estimator2 = lgb.train(\n",
    "                lgb_params,\n",
    "                tr_data,\n",
    "                valid_sets = [tr_data, vl_data],\n",
    "                verbose_eval = 100)"
   ]
  },
  {
   "cell_type": "code",
   "execution_count": 123,
   "metadata": {},
   "outputs": [
    {
     "name": "stdout",
     "output_type": "stream",
     "text": [
      "Training until validation scores don't improve for 100 rounds.\n",
      "[100]\ttraining's auc: 0.964518\tvalid_1's auc: 0.896355\n",
      "[200]\ttraining's auc: 0.979766\tvalid_1's auc: 0.905779\n",
      "[300]\ttraining's auc: 0.990106\tvalid_1's auc: 0.913728\n",
      "[400]\ttraining's auc: 0.995657\tvalid_1's auc: 0.918275\n",
      "[500]\ttraining's auc: 0.998291\tvalid_1's auc: 0.920023\n",
      "[600]\ttraining's auc: 0.999401\tvalid_1's auc: 0.920812\n",
      "[700]\ttraining's auc: 0.999826\tvalid_1's auc: 0.921461\n",
      "[800]\ttraining's auc: 0.999959\tvalid_1's auc: 0.921538\n",
      "Did not meet early stopping. Best iteration is:\n",
      "[800]\ttraining's auc: 0.999959\tvalid_1's auc: 0.921538\n"
     ]
    }
   ],
   "source": [
    "tr_data = lgb.Dataset(X_subsample[usecols['cols'].tolist()], label=y_subsample)\n",
    "vl_data = lgb.Dataset(X_valid[usecols['cols'].tolist()], label=y_valid)  \n",
    "\n",
    "estimator2 = lgb.train(\n",
    "                lgb_params,\n",
    "                tr_data,\n",
    "                valid_sets = [tr_data, vl_data],\n",
    "\n",
    "    verbose_eval = 100)"
   ]
  },
  {
   "cell_type": "code",
   "execution_count": 128,
   "metadata": {},
   "outputs": [
    {
     "name": "stdout",
     "output_type": "stream",
     "text": [
      "Training until validation scores don't improve for 100 rounds.\n",
      "[100]\ttraining's auc: 0.964171\tvalid_1's auc: 0.894751\n",
      "[200]\ttraining's auc: 0.979653\tvalid_1's auc: 0.905251\n",
      "[300]\ttraining's auc: 0.98997\tvalid_1's auc: 0.912885\n",
      "[400]\ttraining's auc: 0.995598\tvalid_1's auc: 0.917583\n",
      "[500]\ttraining's auc: 0.998274\tvalid_1's auc: 0.919519\n",
      "[600]\ttraining's auc: 0.999397\tvalid_1's auc: 0.920243\n",
      "[700]\ttraining's auc: 0.999825\tvalid_1's auc: 0.920638\n",
      "[800]\ttraining's auc: 0.999958\tvalid_1's auc: 0.920642\n",
      "Did not meet early stopping. Best iteration is:\n",
      "[800]\ttraining's auc: 0.999958\tvalid_1's auc: 0.920642\n"
     ]
    }
   ],
   "source": [
    "X_subsample['AMT_95'] = X_subsample.groupby('uid3')['TransactionAmt'].transform(lambda x:  x < x.quantile(0.05))\n",
    "X_valid['AMT_95'] = X_valid.groupby('uid3')['TransactionAmt'].transform(lambda x:  x < x.quantile(0.05))\n",
    "tr_data = lgb.Dataset(X_subsample[usecols['cols'].tolist()+['AMT_95']], label=y_subsample)\n",
    "vl_data = lgb.Dataset(X_valid[usecols['cols'].tolist()+['AMT_95']], label=y_valid)  \n",
    "\n",
    "estimator2 = lgb.train(\n",
    "                lgb_params,\n",
    "                tr_data,\n",
    "                valid_sets = [tr_data, vl_data],\n",
    "                verbose_eval = 100)"
   ]
  },
  {
   "cell_type": "code",
   "execution_count": 149,
   "metadata": {},
   "outputs": [
    {
     "data": {
      "text/plain": [
       "Int64Index([3128933, 2991817, 3177423, 3047754, 3181795, 2989705, 3392728,\n",
       "            3315764, 3069830, 3356330,\n",
       "            ...\n",
       "            3353014, 3349042, 3350195, 3257291, 3387533, 3356499, 2994892,\n",
       "            3040207, 3127807, 3077845],\n",
       "           dtype='int64', name='TransactionID', length=54594)"
      ]
     },
     "execution_count": 149,
     "metadata": {},
     "output_type": "execute_result"
    }
   ],
   "source": []
  },
  {
   "cell_type": "code",
   "execution_count": 204,
   "metadata": {},
   "outputs": [],
   "source": [
    "X_subsample['DT'] = train.loc[X_subsample.index]['DT']\n",
    "X_subsample['DT_H'] = X_subsample['DT'].dt.hour\n",
    "X_valid['DT'] = train.loc[X_valid.index]['DT']\n",
    "X_valid['DT_H'] = X_valid['DT'].dt.hour\n",
    "\n",
    "X_subsample['DT_H95'] = X_subsample.groupby('uid3')['DT_H'].transform(lambda x:  x > x.quantile(0.95))\n",
    "X_subsample['DT_H_mean_per_uid'] = X_subsample.groupby('uid3')['DT_H'].transform('mean')\n",
    "X_subsample['DT_H95_std_per_uid'] = X_subsample.groupby('uid3')['DT_H'].transform('std')"
   ]
  },
  {
   "cell_type": "code",
   "execution_count": 205,
   "metadata": {},
   "outputs": [
    {
     "name": "stdout",
     "output_type": "stream",
     "text": [
      "Training until validation scores don't improve for 100 rounds.\n",
      "[100]\ttraining's auc: 0.964343\tvalid_1's auc: 0.895109\n",
      "[200]\ttraining's auc: 0.979715\tvalid_1's auc: 0.905294\n",
      "[300]\ttraining's auc: 0.990008\tvalid_1's auc: 0.912558\n",
      "[400]\ttraining's auc: 0.995623\tvalid_1's auc: 0.917221\n",
      "[500]\ttraining's auc: 0.998265\tvalid_1's auc: 0.919516\n",
      "[600]\ttraining's auc: 0.999395\tvalid_1's auc: 0.920333\n",
      "[700]\ttraining's auc: 0.999823\tvalid_1's auc: 0.920449\n",
      "Early stopping, best iteration is:\n",
      "[692]\ttraining's auc: 0.999803\tvalid_1's auc: 0.920487\n"
     ]
    }
   ],
   "source": [
    "X_subsample['DT_H95'] = X_subsample.groupby('uid3')['DT_H'].transform(lambda x:  x > x.quantile(0.95))\n",
    "X_valid['DT_H95'] = X_valid.groupby('uid3')['DT_H'].transform(lambda x:  x > x.quantile(0.95))\n",
    "tr_data = lgb.Dataset(X_subsample[usecols['cols'].tolist()+['DT_H95']], label=y_subsample)\n",
    "vl_data = lgb.Dataset(X_valid[usecols['cols'].tolist()+['DT_H95']], label=y_valid)  \n",
    "\n",
    "estimator2 = lgb.train(\n",
    "                lgb_params,\n",
    "                tr_data,\n",
    "                valid_sets = [tr_data, vl_data],\n",
    "                verbose_eval = 100)"
   ]
  },
  {
   "cell_type": "code",
   "execution_count": 206,
   "metadata": {},
   "outputs": [
    {
     "name": "stdout",
     "output_type": "stream",
     "text": [
      "Training until validation scores don't improve for 100 rounds.\n",
      "[100]\ttraining's auc: 0.964534\tvalid_1's auc: 0.894206\n",
      "[200]\ttraining's auc: 0.980164\tvalid_1's auc: 0.904134\n",
      "[300]\ttraining's auc: 0.990495\tvalid_1's auc: 0.911428\n",
      "[400]\ttraining's auc: 0.995937\tvalid_1's auc: 0.916069\n",
      "[500]\ttraining's auc: 0.99843\tvalid_1's auc: 0.91806\n",
      "[600]\ttraining's auc: 0.999463\tvalid_1's auc: 0.918942\n",
      "[700]\ttraining's auc: 0.999848\tvalid_1's auc: 0.919632\n",
      "[800]\ttraining's auc: 0.999965\tvalid_1's auc: 0.919961\n",
      "Did not meet early stopping. Best iteration is:\n",
      "[800]\ttraining's auc: 0.999965\tvalid_1's auc: 0.919961\n"
     ]
    }
   ],
   "source": [
    "X_subsample['DT_H_mean_per_uid'] = X_subsample.groupby('uid3')['DT_H'].transform('mean')\n",
    "X_valid['DT_H_mean_per_uid'] = X_valid.groupby('uid3')['DT_H'].transform('mean')\n",
    "tr_data = lgb.Dataset(X_subsample[usecols['cols'].tolist()+['DT_H_mean_per_uid']], label=y_subsample)\n",
    "vl_data = lgb.Dataset(X_valid[usecols['cols'].tolist()+['DT_H_mean_per_uid']], label=y_valid)  \n",
    "\n",
    "estimator2 = lgb.train(\n",
    "                lgb_params,\n",
    "                tr_data,\n",
    "                valid_sets = [tr_data, vl_data],\n",
    "                verbose_eval = 100)"
   ]
  },
  {
   "cell_type": "code",
   "execution_count": 207,
   "metadata": {},
   "outputs": [
    {
     "name": "stdout",
     "output_type": "stream",
     "text": [
      "Training until validation scores don't improve for 100 rounds.\n",
      "[100]\ttraining's auc: 0.966781\tvalid_1's auc: 0.892308\n",
      "[200]\ttraining's auc: 0.98147\tvalid_1's auc: 0.900248\n",
      "[300]\ttraining's auc: 0.990941\tvalid_1's auc: 0.906536\n",
      "[400]\ttraining's auc: 0.996049\tvalid_1's auc: 0.909521\n",
      "[500]\ttraining's auc: 0.998464\tvalid_1's auc: 0.911599\n",
      "[600]\ttraining's auc: 0.999474\tvalid_1's auc: 0.912769\n",
      "[700]\ttraining's auc: 0.999851\tvalid_1's auc: 0.913405\n"
     ]
    }
   ],
   "source": [
    "X_subsample['DT_H_std_per_uid'] = X_subsample.groupby('uid3')['DT_H'].transform('std')\n",
    "X_valid['DT_H_std_per_uid'] = X_valid.groupby('uid3')['DT_H'].transform('std')\n",
    "tr_data = lgb.Dataset(X_subsample[usecols['cols'].tolist()+['DT_H_std_per_uid']], label=y_subsample)\n",
    "vl_data = lgb.Dataset(X_valid[usecols['cols'].tolist()+['DT_H_std_per_uid']], label=y_valid)  \n",
    "\n",
    "estimator2 = lgb.train(\n",
    "                lgb_params,\n",
    "                tr_data,\n",
    "                valid_sets = [tr_data, vl_data],\n",
    "                verbose_eval = 100)"
   ]
  },
  {
   "cell_type": "code",
   "execution_count": null,
   "metadata": {},
   "outputs": [],
   "source": []
  },
  {
   "cell_type": "code",
   "execution_count": null,
   "metadata": {},
   "outputs": [],
   "source": []
  },
  {
   "cell_type": "markdown",
   "metadata": {},
   "source": [
    "# Most important variables treatment"
   ]
  },
  {
   "cell_type": "code",
   "execution_count": 216,
   "metadata": {},
   "outputs": [
    {
     "data": {
      "text/plain": [
       "<matplotlib.axes._subplots.AxesSubplot at 0x7f9d27027b70>"
      ]
     },
     "execution_count": 216,
     "metadata": {},
     "output_type": "execute_result"
    },
    {
     "data": {
      "image/png": "[encoded data removed]",
      "text/plain": [
       "<Figure size 432x288 with 1 Axes>"
      ]
     },
     "metadata": {
      "needs_background": "light"
     },
     "output_type": "display_data"
    }
   ],
   "source": [
    "sns.distplot(X_subsample[y_subsample==1]['C1'])\n",
    "sns.distplot(X_subsample[y_subsample==0]['C1'])"
   ]
  },
  {
   "cell_type": "code",
   "execution_count": 109,
   "metadata": {},
   "outputs": [
    {
     "data": {
      "text/plain": [
       "0.0"
      ]
     },
     "execution_count": 109,
     "metadata": {},
     "output_type": "execute_result"
    }
   ],
   "source": [
    "X_subsample['C13'].min()"
   ]
  },
  {
   "cell_type": "code",
   "execution_count": 119,
   "metadata": {},
   "outputs": [
    {
     "data": {
      "text/plain": [
       "<matplotlib.axes._subplots.AxesSubplot at 0x7fd522fbff60>"
      ]
     },
     "execution_count": 119,
     "metadata": {},
     "output_type": "execute_result"
    },
    {
     "data": {
      "image/png": "[encoded data removed]",
      "text/plain": [
       "<Figure size 432x288 with 1 Axes>"
      ]
     },
     "metadata": {
      "needs_background": "light"
     },
     "output_type": "display_data"
    }
   ],
   "source": [
    "sns.distplot(np.log1p(X_subsample[y_subsample==1]['C14']))\n",
    "sns.distplot(np.log1p(X_subsample[y_subsample==0]['C14']))"
   ]
  },
  {
   "cell_type": "code",
   "execution_count": 114,
   "metadata": {},
   "outputs": [
    {
     "data": {
      "text/plain": [
       "<matplotlib.axes._subplots.AxesSubplot at 0x7fd523ebb630>"
      ]
     },
     "execution_count": 114,
     "metadata": {},
     "output_type": "execute_result"
    },
    {
     "data": {
      "image/png": "[encoded data removed]",
      "text/plain": [
       "<Figure size 432x288 with 1 Axes>"
      ]
     },
     "metadata": {
      "needs_background": "light"
     },
     "output_type": "display_data"
    }
   ],
   "source": [
    "sns.distplot(np.log1p(X_subsample[y_subsample==1]['C13']) + np.log1p(X_subsample[y_subsample==1]['C1']))\n",
    "sns.distplot(np.log1p(X_subsample[y_subsample==0]['C13']) + np.log1p(X_subsample[y_subsample==0]['C1']))"
   ]
  },
  {
   "cell_type": "code",
   "execution_count": 230,
   "metadata": {},
   "outputs": [
    {
     "data": {
      "text/plain": [
       "1.0     0.557134\n",
       "2.0     0.175026\n",
       "3.0     0.083963\n",
       "4.0     0.044632\n",
       "5.0     0.027229\n",
       "6.0     0.017153\n",
       "7.0     0.011277\n",
       "8.0     0.008676\n",
       "9.0     0.005526\n",
       "10.0    0.004951\n",
       "Name: C1, dtype: float64"
      ]
     },
     "execution_count": 230,
     "metadata": {},
     "output_type": "execute_result"
    }
   ],
   "source": [
    "(X_subsample[y_subsample==0]['C1'].value_counts() / len(X_subsample[y_subsample==0]))[:10]"
   ]
  },
  {
   "cell_type": "code",
   "execution_count": 231,
   "metadata": {},
   "outputs": [
    {
     "data": {
      "text/plain": [
       "1.0     0.375205\n",
       "2.0     0.154384\n",
       "3.0     0.082945\n",
       "4.0     0.052466\n",
       "5.0     0.051096\n",
       "6.0     0.029384\n",
       "7.0     0.020890\n",
       "8.0     0.015411\n",
       "10.0    0.013562\n",
       "Name: C1, dtype: float64"
      ]
     },
     "execution_count": 231,
     "metadata": {},
     "output_type": "execute_result"
    }
   ],
   "source": [
    "(X_subsample[y_subsample==1]['C1'].value_counts() / len(X_subsample[y_subsample==1]))[:10]"
   ]
  },
  {
   "cell_type": "markdown",
   "metadata": {},
   "source": [
    "# Add more Target_encoding"
   ]
  },
  {
   "cell_type": "code",
   "execution_count": 180,
   "metadata": {},
   "outputs": [],
   "source": [
    "# FAIL"
   ]
  },
  {
   "cell_type": "code",
   "execution_count": 87,
   "metadata": {},
   "outputs": [
    {
     "data": {
      "text/html": [
       "<div>\n",
       "<style scoped>\n",
       "    .dataframe tbody tr th:only-of-type {\n",
       "        vertical-align: middle;\n",
       "    }\n",
       "\n",
       "    .dataframe tbody tr th {\n",
       "        vertical-align: top;\n",
       "    }\n",
       "\n",
       "    .dataframe thead th {\n",
       "        text-align: right;\n",
       "    }\n",
       "</style>\n",
       "<table border=\"1\" class=\"dataframe\">\n",
       "  <thead>\n",
       "    <tr style=\"text-align: right;\">\n",
       "      <th></th>\n",
       "      <th>permut_importances</th>\n",
       "      <th>cols</th>\n",
       "    </tr>\n",
       "  </thead>\n",
       "  <tbody>\n",
       "    <tr>\n",
       "      <th>0</th>\n",
       "      <td>0.347677</td>\n",
       "      <td>TransactionAmt</td>\n",
       "    </tr>\n",
       "    <tr>\n",
       "      <th>1</th>\n",
       "      <td>0.043620</td>\n",
       "      <td>ProductCD</td>\n",
       "    </tr>\n",
       "    <tr>\n",
       "      <th>2</th>\n",
       "      <td>0.050782</td>\n",
       "      <td>card1</td>\n",
       "    </tr>\n",
       "    <tr>\n",
       "      <th>3</th>\n",
       "      <td>0.072031</td>\n",
       "      <td>card2</td>\n",
       "    </tr>\n",
       "    <tr>\n",
       "      <th>4</th>\n",
       "      <td>0.000920</td>\n",
       "      <td>card3</td>\n",
       "    </tr>\n",
       "  </tbody>\n",
       "</table>\n",
       "</div>"
      ],
      "text/plain": [
       "   permut_importances            cols\n",
       "0            0.347677  TransactionAmt\n",
       "1            0.043620       ProductCD\n",
       "2            0.050782           card1\n",
       "3            0.072031           card2\n",
       "4            0.000920           card3"
      ]
     },
     "execution_count": 87,
     "metadata": {},
     "output_type": "execute_result"
    }
   ],
   "source": [
    "permut_imp_df = pd.read_csv('permut_imp_df.csv')\n",
    "permut_imp_df.head()"
   ]
  },
  {
   "cell_type": "code",
   "execution_count": 93,
   "metadata": {},
   "outputs": [],
   "source": [
    "useful_cols = permut_imp_df[ permut_imp_df['permut_importances'] > 0.001]['cols'].tolist()"
   ]
  },
  {
   "cell_type": "code",
   "execution_count": 94,
   "metadata": {},
   "outputs": [
    {
     "name": "stdout",
     "output_type": "stream",
     "text": [
      "Training until validation scores don't improve for 100 rounds.\n",
      "[100]\ttraining's auc: 0.963546\tvalid_1's auc: 0.895558\n",
      "[200]\ttraining's auc: 0.97926\tvalid_1's auc: 0.906262\n",
      "[300]\ttraining's auc: 0.989719\tvalid_1's auc: 0.913863\n",
      "[400]\ttraining's auc: 0.995402\tvalid_1's auc: 0.918324\n",
      "[500]\ttraining's auc: 0.998171\tvalid_1's auc: 0.920534\n",
      "[600]\ttraining's auc: 0.999348\tvalid_1's auc: 0.92151\n",
      "[700]\ttraining's auc: 0.999795\tvalid_1's auc: 0.921841\n",
      "[800]\ttraining's auc: 0.999946\tvalid_1's auc: 0.921732\n",
      "Did not meet early stopping. Best iteration is:\n",
      "[800]\ttraining's auc: 0.999946\tvalid_1's auc: 0.921732\n"
     ]
    }
   ],
   "source": [
    "#baseline\n",
    "tr_data = lgb.Dataset(X_subsample[useful_cols], label=y_subsample)\n",
    "vl_data = lgb.Dataset(X_valid[useful_cols], label=y_valid)  \n",
    "        \n",
    "estimator = lgb.train(\n",
    "                lgb_params,\n",
    "                tr_data,\n",
    "                valid_sets = [tr_data, vl_data],\n",
    "                verbose_eval = 100) "
   ]
  },
  {
   "cell_type": "code",
   "execution_count": null,
   "metadata": {},
   "outputs": [],
   "source": [
    "categorical_cols = X_subsample.select_dtypes('category').columns\n",
    "X_subsample['isFraud'] = y_subsample\n",
    "for col in categorical_cols:\n",
    "    temp_dict = X_subsample.groupby([col])['isFraud'].agg(['mean']).reset_index().rename(\n",
    "                                                        columns={'mean': col+'_target_mean'})\n",
    "    temp_dict.index = temp_dict[col].values\n",
    "    temp_dict = temp_dict[col+'_target_mean'].to_dict()\n",
    "\n",
    "    X_subsample[col+'_target_mean'] = X_subsample[col].map(temp_dict)\n",
    "    X_valid[col+'_target_mean']  = X_valid[col].map(temp_dict)\n",
    "del(X_subsample['isFraud'])\n",
    "\n",
    "# ProductCD\n",
    "# card1 - card6\n",
    "# addr1, addr2\n",
    "# Pemaildomain Remaildomain\n",
    "# M1 - M9"
   ]
  },
  {
   "cell_type": "code",
   "execution_count": null,
   "metadata": {},
   "outputs": [],
   "source": [
    "# didn't work\n",
    "results_categories = {}\n",
    "for col in categorical_cols:\n",
    "    tr_data = lgb.Dataset(X_subsample[useful_cols +[col+'_target_mean']], label=y_subsample)\n",
    "    vl_data = lgb.Dataset(X_valid[useful_cols+[col+'_target_mean']], label=y_valid)  \n",
    "        \n",
    "    estimator = lgb.train(\n",
    "                lgb_params,\n",
    "                tr_data,\n",
    "                valid_sets = [tr_data, vl_data],\n",
    "                verbose_eval = 0) \n",
    "    print(col+'_target_mean', estimator.best_score['valid_1']['auc'])\n",
    "    results_categories[col+'_target_mean'] = estimator.best_score['valid_1']['auc'] - 0.921732"
   ]
  },
  {
   "cell_type": "code",
   "execution_count": 184,
   "metadata": {},
   "outputs": [
    {
     "data": {
      "text/plain": [
       "<matplotlib.axes._subplots.AxesSubplot at 0x7fd4f2dc80f0>"
      ]
     },
     "execution_count": 184,
     "metadata": {},
     "output_type": "execute_result"
    },
    {
     "data": {
      "image/png": "[encoded data removed]",
      "text/plain": [
       "<Figure size 432x288 with 1 Axes>"
      ]
     },
     "metadata": {
      "needs_background": "light"
     },
     "output_type": "display_data"
    }
   ],
   "source": [
    "sns.distplot(np.log1p(X_subsample[y_subsample==1]['V217'].dropna()))\n",
    "sns.distplot(np.log1p(X_subsample[y_subsample==0]['V217'].dropna()))"
   ]
  },
  {
   "cell_type": "code",
   "execution_count": 187,
   "metadata": {},
   "outputs": [
    {
     "name": "stdout",
     "output_type": "stream",
     "text": [
      "Training until validation scores don't improve for 100 rounds.\n",
      "[100]\ttraining's auc: 0.963548\tvalid_1's auc: 0.89261\n",
      "[200]\ttraining's auc: 0.979442\tvalid_1's auc: 0.90421\n",
      "[300]\ttraining's auc: 0.989825\tvalid_1's auc: 0.911988\n",
      "[400]\ttraining's auc: 0.995464\tvalid_1's auc: 0.916783\n",
      "[500]\ttraining's auc: 0.998203\tvalid_1's auc: 0.919495\n",
      "[600]\ttraining's auc: 0.999355\tvalid_1's auc: 0.920534\n",
      "[700]\ttraining's auc: 0.999804\tvalid_1's auc: 0.920776\n",
      "[800]\ttraining's auc: 0.999949\tvalid_1's auc: 0.92123\n",
      "Did not meet early stopping. Best iteration is:\n",
      "[800]\ttraining's auc: 0.999949\tvalid_1's auc: 0.92123\n"
     ]
    }
   ],
   "source": [
    "X_subsample['V217log'] = np.log1p(X_subsample['V217'] )\n",
    "X_valid['V217log'] = np.log1p(X_valid['V217'] )\n",
    "tr_data = lgb.Dataset(X_subsample[useful_cols + ['V217log']], label=y_subsample)\n",
    "vl_data = lgb.Dataset(X_valid[useful_cols + ['V217log']], label=y_valid)  \n",
    "        \n",
    "estimator = lgb.train(\n",
    "                lgb_params,\n",
    "                tr_data,\n",
    "                valid_sets = [tr_data, vl_data],\n",
    "                verbose_eval = 100) "
   ]
  },
  {
   "cell_type": "code",
   "execution_count": null,
   "metadata": {},
   "outputs": [],
   "source": []
  },
  {
   "cell_type": "markdown",
   "metadata": {},
   "source": [
    "### some V cols "
   ]
  },
  {
   "cell_type": "code",
   "execution_count": 195,
   "metadata": {},
   "outputs": [
    {
     "data": {
      "text/plain": [
       "0    30614\n",
       "1     7308\n",
       "Name: isFraud, dtype: int64"
      ]
     },
     "execution_count": 195,
     "metadata": {},
     "output_type": "execute_result"
    }
   ],
   "source": [
    "y_subsample[X_subsample[ X_subsample['V217'].isnull()].index].value_counts()"
   ]
  },
  {
   "cell_type": "code",
   "execution_count": 200,
   "metadata": {},
   "outputs": [
    {
     "data": {
      "text/plain": [
       "0    9380\n",
       "1    7292\n",
       "Name: isFraud, dtype: int64"
      ]
     },
     "execution_count": 200,
     "metadata": {},
     "output_type": "execute_result"
    }
   ],
   "source": [
    "y_subsample[X_subsample[ X_subsample['V217'].notnull()].index].value_counts()"
   ]
  },
  {
   "cell_type": "code",
   "execution_count": 201,
   "metadata": {},
   "outputs": [
    {
     "data": {
      "text/plain": [
       "0    9380\n",
       "1    7292\n",
       "Name: isFraud, dtype: int64"
      ]
     },
     "execution_count": 201,
     "metadata": {},
     "output_type": "execute_result"
    }
   ],
   "source": [
    "y_subsample[X_subsample[ X_subsample['V218'].notnull()].index].value_counts()"
   ]
  },
  {
   "cell_type": "code",
   "execution_count": 202,
   "metadata": {},
   "outputs": [
    {
     "data": {
      "text/plain": [
       "0    9380\n",
       "1    7292\n",
       "Name: isFraud, dtype: int64"
      ]
     },
     "execution_count": 202,
     "metadata": {},
     "output_type": "execute_result"
    }
   ],
   "source": [
    "y_subsample[X_subsample[ X_subsample['V219'].notnull()].index].value_counts()"
   ]
  },
  {
   "cell_type": "code",
   "execution_count": 205,
   "metadata": {},
   "outputs": [
    {
     "data": {
      "text/plain": [
       "True"
      ]
     },
     "execution_count": 205,
     "metadata": {},
     "output_type": "execute_result"
    }
   ],
   "source": [
    "(X_subsample['V218'].notnull().index == X_subsample['V217'].notnull().index ).all()"
   ]
  },
  {
   "cell_type": "code",
   "execution_count": 221,
   "metadata": {},
   "outputs": [
    {
     "data": {
      "text/plain": [
       "0.9198656429942419"
      ]
     },
     "execution_count": 221,
     "metadata": {},
     "output_type": "execute_result"
    }
   ],
   "source": [
    "(X_subsample[ X_subsample['V217'].notnull() ]['V218'] == X_subsample[ X_subsample['V218'].notnull() ]['V219']).mean()"
   ]
  },
  {
   "cell_type": "code",
   "execution_count": 208,
   "metadata": {},
   "outputs": [
    {
     "data": {
      "text/plain": [
       "True"
      ]
     },
     "execution_count": 208,
     "metadata": {},
     "output_type": "execute_result"
    }
   ],
   "source": [
    "(X_subsample['V217'].notnull() == X_subsample['V219'].notnull()).all()"
   ]
  },
  {
   "cell_type": "code",
   "execution_count": 210,
   "metadata": {},
   "outputs": [
    {
     "data": {
      "text/html": [
       "<div>\n",
       "<style scoped>\n",
       "    .dataframe tbody tr th:only-of-type {\n",
       "        vertical-align: middle;\n",
       "    }\n",
       "\n",
       "    .dataframe tbody tr th {\n",
       "        vertical-align: top;\n",
       "    }\n",
       "\n",
       "    .dataframe thead th {\n",
       "        text-align: right;\n",
       "    }\n",
       "</style>\n",
       "<table border=\"1\" class=\"dataframe\">\n",
       "  <thead>\n",
       "    <tr style=\"text-align: right;\">\n",
       "      <th></th>\n",
       "      <th>V217</th>\n",
       "      <th>V218</th>\n",
       "      <th>V219</th>\n",
       "    </tr>\n",
       "    <tr>\n",
       "      <th>TransactionID</th>\n",
       "      <th></th>\n",
       "      <th></th>\n",
       "      <th></th>\n",
       "    </tr>\n",
       "  </thead>\n",
       "  <tbody>\n",
       "    <tr>\n",
       "      <th>3101755</th>\n",
       "      <td>NaN</td>\n",
       "      <td>NaN</td>\n",
       "      <td>NaN</td>\n",
       "    </tr>\n",
       "    <tr>\n",
       "      <th>3391469</th>\n",
       "      <td>3.0</td>\n",
       "      <td>3.0</td>\n",
       "      <td>3.0</td>\n",
       "    </tr>\n",
       "    <tr>\n",
       "      <th>3365074</th>\n",
       "      <td>0.0</td>\n",
       "      <td>0.0</td>\n",
       "      <td>0.0</td>\n",
       "    </tr>\n",
       "    <tr>\n",
       "      <th>3075855</th>\n",
       "      <td>NaN</td>\n",
       "      <td>NaN</td>\n",
       "      <td>NaN</td>\n",
       "    </tr>\n",
       "    <tr>\n",
       "      <th>2994302</th>\n",
       "      <td>NaN</td>\n",
       "      <td>NaN</td>\n",
       "      <td>NaN</td>\n",
       "    </tr>\n",
       "    <tr>\n",
       "      <th>3342225</th>\n",
       "      <td>NaN</td>\n",
       "      <td>NaN</td>\n",
       "      <td>NaN</td>\n",
       "    </tr>\n",
       "    <tr>\n",
       "      <th>3182463</th>\n",
       "      <td>NaN</td>\n",
       "      <td>NaN</td>\n",
       "      <td>NaN</td>\n",
       "    </tr>\n",
       "    <tr>\n",
       "      <th>3319836</th>\n",
       "      <td>1.0</td>\n",
       "      <td>1.0</td>\n",
       "      <td>1.0</td>\n",
       "    </tr>\n",
       "    <tr>\n",
       "      <th>3002040</th>\n",
       "      <td>NaN</td>\n",
       "      <td>NaN</td>\n",
       "      <td>NaN</td>\n",
       "    </tr>\n",
       "    <tr>\n",
       "      <th>3168559</th>\n",
       "      <td>NaN</td>\n",
       "      <td>NaN</td>\n",
       "      <td>NaN</td>\n",
       "    </tr>\n",
       "    <tr>\n",
       "      <th>3006164</th>\n",
       "      <td>12.0</td>\n",
       "      <td>14.0</td>\n",
       "      <td>14.0</td>\n",
       "    </tr>\n",
       "    <tr>\n",
       "      <th>2987594</th>\n",
       "      <td>NaN</td>\n",
       "      <td>NaN</td>\n",
       "      <td>NaN</td>\n",
       "    </tr>\n",
       "    <tr>\n",
       "      <th>3371271</th>\n",
       "      <td>NaN</td>\n",
       "      <td>NaN</td>\n",
       "      <td>NaN</td>\n",
       "    </tr>\n",
       "    <tr>\n",
       "      <th>3227595</th>\n",
       "      <td>NaN</td>\n",
       "      <td>NaN</td>\n",
       "      <td>NaN</td>\n",
       "    </tr>\n",
       "    <tr>\n",
       "      <th>3230132</th>\n",
       "      <td>NaN</td>\n",
       "      <td>NaN</td>\n",
       "      <td>NaN</td>\n",
       "    </tr>\n",
       "    <tr>\n",
       "      <th>3028031</th>\n",
       "      <td>NaN</td>\n",
       "      <td>NaN</td>\n",
       "      <td>NaN</td>\n",
       "    </tr>\n",
       "    <tr>\n",
       "      <th>3137296</th>\n",
       "      <td>1.0</td>\n",
       "      <td>1.0</td>\n",
       "      <td>1.0</td>\n",
       "    </tr>\n",
       "    <tr>\n",
       "      <th>3295766</th>\n",
       "      <td>NaN</td>\n",
       "      <td>NaN</td>\n",
       "      <td>NaN</td>\n",
       "    </tr>\n",
       "  </tbody>\n",
       "</table>\n",
       "</div>"
      ],
      "text/plain": [
       "               V217  V218  V219\n",
       "TransactionID                  \n",
       "3101755         NaN   NaN   NaN\n",
       "3391469         3.0   3.0   3.0\n",
       "3365074         0.0   0.0   0.0\n",
       "3075855         NaN   NaN   NaN\n",
       "2994302         NaN   NaN   NaN\n",
       "3342225         NaN   NaN   NaN\n",
       "3182463         NaN   NaN   NaN\n",
       "3319836         1.0   1.0   1.0\n",
       "3002040         NaN   NaN   NaN\n",
       "3168559         NaN   NaN   NaN\n",
       "3006164        12.0  14.0  14.0\n",
       "2987594         NaN   NaN   NaN\n",
       "3371271         NaN   NaN   NaN\n",
       "3227595         NaN   NaN   NaN\n",
       "3230132         NaN   NaN   NaN\n",
       "3028031         NaN   NaN   NaN\n",
       "3137296         1.0   1.0   1.0\n",
       "3295766         NaN   NaN   NaN"
      ]
     },
     "execution_count": 210,
     "metadata": {},
     "output_type": "execute_result"
    }
   ],
   "source": [
    "X_subsample[['V217', 'V218', 'V219']].sample(18)"
   ]
  },
  {
   "cell_type": "code",
   "execution_count": null,
   "metadata": {},
   "outputs": [],
   "source": [
    "# ideés: \n",
    "# -revoir le uid avec addr1__addr2 + ALLcards\n",
    "# -revoir le uid avec addr1__addr2 + ALLcards + concatALLIDS\n",
    "# -Use D columns to figure out better ways to make sure the above makes sense :\n",
    "#    see https://www.kaggle.com/akasyanama13/eda-what-s-behind-d-features\n",
    "\n",
    "# that stuff: https://www.kaggle.com/kyakovlev/ieee-fe-with-some-eda\n",
    "# and here : https://www.kaggle.com/c/ieee-fraud-detection/discussion/108467#624394"
   ]
  }
 ],
 "metadata": {
  "kernelspec": {
   "display_name": "Python 3",
   "language": "python",
   "name": "python3"
  },
  "language_info": {
   "codemirror_mode": {
    "name": "ipython",
    "version": 3
   },
   "file_extension": ".py",
   "mimetype": "text/x-python",
   "name": "python",
   "nbconvert_exporter": "python",
   "pygments_lexer": "ipython3",
   "version": "3.7.3"
  }
 },
 "nbformat": 4,
 "nbformat_minor": 2
}
