{
 "cells": [
  {
   "cell_type": "code",
   "execution_count": 1,
   "metadata": {},
   "outputs": [],
   "source": [
    "%load_ext pycodestyle_magic\n",
    "%flake8_on"
   ]
  },
  {
   "cell_type": "code",
   "execution_count": 2,
   "metadata": {},
   "outputs": [],
   "source": [
    "%matplotlib inline\n",
    "\n",
    "import gc\n",
    "from time import time\n",
    "import datetime\n",
    "import multiprocessing\n",
    "import warnings\n",
    "\n",
    "\n",
    "import pandas as pd\n",
    "import numpy as np\n",
    "import matplotlib.pyplot as plt\n",
    "import seaborn as sns\n",
    "from scipy.stats import ks_2samp\n",
    "\n",
    "\n",
    "from tqdm import tqdm, tqdm_notebook\n",
    "import lightgbm as lgb\n",
    "from sklearn.preprocessing import LabelEncoder\n",
    "from sklearn.model_selection import KFold, TimeSeriesSplit, train_test_split\n",
    "from sklearn.metrics import roc_auc_score\n",
    "\n",
    "from reduce_mem_usage import reduce_mem_usage"
   ]
  },
  {
   "cell_type": "code",
   "execution_count": 3,
   "metadata": {},
   "outputs": [],
   "source": [
    "warnings.simplefilter('ignore')\n",
    "sns.set()"
   ]
  },
  {
   "cell_type": "code",
   "execution_count": 2,
   "metadata": {},
   "outputs": [],
   "source": [
    "files = ['/input/test_identity.csv', \n",
    "         '/input/test_transaction.csv',\n",
    "         '/input/train_identity.csv',\n",
    "         '/input/train_transaction.csv',\n",
    "         '/input/sample_submission.csv']"
   ]
  },
  {
   "cell_type": "code",
   "execution_count": 4,
   "metadata": {},
   "outputs": [],
   "source": [
    "train_transaction = pd.read_csv('input/train_transaction.csv',\n",
    "                                index_col='TransactionID')\n",
    "test_transaction = pd.read_csv('input/test_transaction.csv',\n",
    "                               index_col='TransactionID')\n",
    "\n",
    "train_identity = pd.read_csv('input/train_identity.csv',\n",
    "                             index_col='TransactionID')\n",
    "test_identity = pd.read_csv('input/test_identity.csv',\n",
    "                            index_col='TransactionID')\n",
    "\n",
    "sample_submission = pd.read_csv('input/sample_submission.csv',\n",
    "                                index_col='TransactionID')"
   ]
  },
  {
   "cell_type": "code",
   "execution_count": 5,
   "metadata": {},
   "outputs": [
    {
     "data": {
      "text/plain": [
       "728"
      ]
     },
     "execution_count": 5,
     "metadata": {},
     "output_type": "execute_result"
    }
   ],
   "source": [
    "train = pd.merge(train_transaction, train_identity,\n",
    "                 on='TransactionID', how='left')\n",
    "test = pd.merge(test_transaction, test_identity,\n",
    "                on='TransactionID', how='left')\n",
    "\n",
    "del test_identity, test_transaction, train_identity, train_transaction\n",
    "gc.collect()"
   ]
  },
  {
   "cell_type": "code",
   "execution_count": 6,
   "metadata": {},
   "outputs": [
    {
     "name": "stdout",
     "output_type": "stream",
     "text": [
      "Mem. usage decreased to 648.22 Mb (66.8% reduction)\n",
      "Mem. usage decreased to 563.43 Mb (66.3% reduction)\n"
     ]
    },
    {
     "name": "stderr",
     "output_type": "stream",
     "text": [
      "1:6: E225 missing whitespace around operator\n",
      "2:5: E225 missing whitespace around operator\n"
     ]
    }
   ],
   "source": [
    "train = reduce_mem_usage(train)\n",
    "test = reduce_mem_usage(test)"
   ]
  },
  {
   "cell_type": "markdown",
   "metadata": {},
   "source": [
    "# Feature engineering"
   ]
  },
  {
   "cell_type": "code",
   "execution_count": 9,
   "metadata": {},
   "outputs": [],
   "source": [
    "START_DATE = datetime.datetime.strptime('2017-11-30', '%Y-%m-%d')\n",
    "\n",
    "\n",
    "def add_seconds(x):\n",
    "    return START_DATE + datetime.timedelta(seconds=x)\n",
    "\n",
    "\n",
    "for df in [train, test]:\n",
    "    # Temporary\n",
    "    df['DT'] = df['TransactionDT'].apply(add_seconds)\n",
    "    df['DT_M'] = (df['DT'].dt.year-2017)*12 + df['DT'].dt.month\n",
    "    df['DT_W'] = (df['DT'].dt.year-2017)*52 + df['DT'].dt.weekofyear\n",
    "    df['DT_D'] = (df['DT'].dt.year-2017)*365 + df['DT'].dt.dayofyear\n",
    "\n",
    "    df['DT_hour'] = df['DT'].dt.hour\n",
    "    df['DT_day_week'] = df['DT'].dt.dayofweek\n",
    "    df['DT_day'] = df['DT'].dt.day\n",
    "\n",
    "# Test different options for this\n",
    "    # D9 column\n",
    "    df['D9_isnull'] = np.where(df['D9'].isna(), 0, 1)"
   ]
  },
  {
   "cell_type": "code",
   "execution_count": 11,
   "metadata": {},
   "outputs": [],
   "source": [
    "cards = ['card1', 'card2', 'card3', 'card4', 'card5', 'card6', 'id_36']\n",
    "for feature in cards:\n",
    "    train[feature + '_count_full'] = train[feature].map(\n",
    "        pd.concat(\n",
    "            [train[feature],\n",
    "             test[feature]],\n",
    "            ignore_index=True).value_counts(dropna=False))\n",
    "\n",
    "    test[feature + '_count_full'] = test[feature].map(\n",
    "        pd.concat([train[feature],\n",
    "                   test[feature]],\n",
    "                  ignore_index=True).value_counts(dropna=False))\n",
    "\n",
    "# Encoding - count encoding separately for train and test\n",
    "for feature in ['id_01', 'id_31', 'id_33', 'id_36']:\n",
    "    train[feature + '_count_dist'] = train[feature].map(\n",
    "        train[feature].value_counts(dropna=False))\n",
    "    test[feature + '_count_dist'] = test[feature].map(\n",
    "        test[feature].value_counts(dropna=False))"
   ]
  },
  {
   "cell_type": "code",
   "execution_count": 16,
   "metadata": {},
   "outputs": [],
   "source": [
    "i_cols = ['M1', 'M2', 'M3', 'M5', 'M6', 'M7', 'M8', 'M9']\n",
    "\n",
    "\n",
    "def replaceTF(x):\n",
    "    '''Replace T with 1 and F with 0 '''\n",
    "    if x == 'T':\n",
    "        return 1\n",
    "    elif x == 'F':\n",
    "        return 0\n",
    "    else:\n",
    "        return np.nan\n",
    "\n",
    "\n",
    "for col in i_cols:\n",
    "    train[col] = train[col].apply(replaceTF)\n",
    "    test[col] = test[col].apply(replaceTF)\n",
    "\n",
    "for df in [train, test]:\n",
    "    df['M_sum'] = df[i_cols].sum(axis=1).astype(np.int8)\n",
    "    df['M_na'] = df[i_cols].isna().sum(axis=1).astype(np.int8)"
   ]
  },
  {
   "cell_type": "code",
   "execution_count": 161,
   "metadata": {},
   "outputs": [],
   "source": [
    "TARGET='isFraud'"
   ]
  },
  {
   "cell_type": "code",
   "execution_count": 18,
   "metadata": {},
   "outputs": [],
   "source": [
    "# Test different options for this\n",
    "categorical_cols = train.select_dtypes('category').columns\n",
    "for col in categorical_cols:\n",
    "    print(col)\n",
    "\n",
    "    temp_dict = train.groupby([col])[TARGET].agg(['mean'])\n",
    "    temp_dict = temp_dict.reset_index()\n",
    "    temp_dict = temp_dict.rename(columns={'mean': col+'_target_mean'})\n",
    "    temp_dict.index = temp_dict[col].values\n",
    "    temp_dict = temp_dict[col+'_target_mean'].to_dict()\n",
    "\n",
    "    train[col+'_target_mean'] = train[col].map(temp_dict)\n",
    "    test[col+'_target_mean'] = test[col].map(temp_dict)"
   ]
  },
  {
   "cell_type": "code",
   "execution_count": 23,
   "metadata": {},
   "outputs": [],
   "source": [
    "# Test different options for this\n",
    "train['uid'] = train['card1'].astype(str) + '_' + \\\n",
    "    train['card2'].astype(str)\n",
    "test['uid'] = test['card1'].astype(str) + '_' + \\\n",
    "    test['card2'].astype(str)\n",
    "\n",
    "train['uid2'] = train['uid'].astype(str) + '_' + \\\n",
    "    train['card3'].astype(str) + '_' + train['card4'].astype(str)\n",
    "test['uid2'] = test['uid'].astype(str) + '_' + \\\n",
    "    test['card3'].astype(str) + '_' + test['card4'].astype(str)\n",
    "\n",
    "train['uid3'] = train['uid2'].astype(str) + '_' + \\\n",
    "    train['addr1'].astype(str) + '_' + train['addr2'].astype(str)\n",
    "test['uid3'] = test['uid2'].astype(str) + '_' + \\\n",
    "    test['addr1'].astype(str) + '_' + test['addr2'].astype(str)\n",
    "\n",
    "\n",
    "# Check if the Transaction Amount is present in the other set (train vs. test)\n",
    "# In our dialog with a model we are telling to trust or not to these values\n",
    "train['TransactionAmt_check'] = np.where(\n",
    "    train['TransactionAmt'].isin(test['TransactionAmt']),\n",
    "    1, 0)\n",
    "train['ProductCD_check'] = np.where(\n",
    "    train['ProductCD'].isin(test['ProductCD']),\n",
    "    1, 0)\n",
    "test['TransactionAmt_check'] = np.where(\n",
    "    test['TransactionAmt'].isin(train['TransactionAmt']),\n",
    "    1, 0)\n",
    "test['ProductCD_check'] = np.where(\n",
    "    test['ProductCD'].isin(train['ProductCD']),\n",
    "    1, 0)"
   ]
  },
  {
   "cell_type": "code",
   "execution_count": 29,
   "metadata": {},
   "outputs": [],
   "source": [
    "# Test different options for this\n",
    "\n",
    "i_cols = ['card1', 'card2', 'card3', 'card5', 'uid', 'uid2', 'uid3']\n",
    "\n",
    "for col in i_cols:\n",
    "    for agg_type in ['mean', 'std']:\n",
    "        new_col_name = col + '_TransactionAmt_' + agg_type\n",
    "        temp_df = pd.concat([train[[col, 'TransactionAmt']],\n",
    "                             test[[col, 'TransactionAmt']]])\n",
    "        temp_df = temp_df.groupby([col])['TransactionAmt'].agg(\n",
    "            [agg_type]).reset_index().rename(\n",
    "            columns={agg_type: new_col_name})\n",
    "\n",
    "        temp_df.index = list(temp_df[col])\n",
    "        temp_df = temp_df[new_col_name].to_dict()\n",
    "\n",
    "        train[new_col_name] = train[col].map(temp_df)\n",
    "        test[new_col_name] = test[col].map(temp_df)\n",
    "\n",
    "train['TransactionAmt_log'] = np.log1p(train['TransactionAmt'])\n",
    "test['TransactionAmt_log'] = np.log1p(test['TransactionAmt'])\n",
    "\n",
    "cols_of_interest = ['card1', 'card2', 'card3', 'card5', 'addr1', 'addr2',\n",
    "                    'dist2', 'C1', 'C2', 'C3', 'C4', 'C5', 'C6', 'C7', 'C8',\n",
    "                    'C9', 'C10', 'C11', 'C12', 'C13', 'C14', 'TransactionAmt',\n",
    "                    'D1', 'D2', 'D3', 'D4', 'D5', 'D6', 'D7', 'D8', 'D9',\n",
    "                    'D10', 'D13', 'D14', 'D15', 'uid', 'uid2', 'uid3']\n",
    "for col in cols_of_interest:\n",
    "    for agg_type in ['mean', 'std']:\n",
    "        if (train[col].dtypes != 'object'):\n",
    "            new_col_name = col + '_ProductCD_'+agg_type\n",
    "            temp_dict = train.groupby(['ProductCD'])[col].agg(\n",
    "                [agg_type]).reset_index().rename(\n",
    "                columns={agg_type: new_col_name})\n",
    "            temp_dict.index = temp_dict[new_col_name].values\n",
    "            temp_dict = temp_dict[new_col_name].to_dict()\n",
    "\n",
    "            train[new_col_name] = train[col].map(temp_dict)\n",
    "            test[new_col_name] = test[col].map(temp_dict)"
   ]
  },
  {
   "cell_type": "code",
   "execution_count": 31,
   "metadata": {},
   "outputs": [],
   "source": [
    "p = 'P_emaildomain'\n",
    "r = 'R_emaildomain'\n",
    "unknown = 'email_not_provided'\n",
    "\n",
    "for df in [train, test]:\n",
    "    df[p] = df[p].astype(str)\n",
    "    df[p] = df[p].fillna(unknown)\n",
    "    df[r] = df[r].astype(str)\n",
    "    df[r] = df[r].fillna(unknown)\n",
    "\n",
    "    # Check if P_emaildomain matches R_emaildomain\n",
    "    df['email_check'] = np.where((df[p] == df[r]) & (df[p] != unknown), 1, 0)\n",
    "\n",
    "    df[p+'_prefix'] = df[p].apply(lambda x: x.split('.')[0])\n",
    "    df[r+'_prefix'] = df[r].apply(lambda x: x.split('.')[0])"
   ]
  },
  {
   "cell_type": "code",
   "execution_count": 32,
   "metadata": {},
   "outputs": [],
   "source": [
    "for df in [train, test]:\n",
    "    for col in ['DeviceInfo', 'id_30', 'id_31']:\n",
    "        df[col] = df[col].astype(str).fillna('unknown_device').str.lower()\n",
    "        df[col+'_device'] = df[col].apply(\n",
    "            lambda x: ''.join([i for i in x if i.isalpha()])\n",
    "        )\n",
    "        df[col+'_version'] = df[col].apply(\n",
    "            lambda x: ''.join([i for i in x if i.isnumeric()])\n",
    "        )"
   ]
  },
  {
   "cell_type": "code",
   "execution_count": 36,
   "metadata": {},
   "outputs": [],
   "source": [
    "# Frequency encoding\n",
    "i_cols = ['card1', 'card2', 'card3', 'card5', 'C1', 'C2', 'C3', 'C4', 'C5',\n",
    "          'C6', 'C7', 'C8', 'C9', 'C10', 'C11', 'C12', 'C13', 'C14',\n",
    "          'D3', 'D4', 'D5', 'D6', 'D7', 'D8', 'addr1', 'addr2', 'dist1',\n",
    "          'dist2', 'P_emaildomain', 'R_emaildomain', 'DeviceInfo', 'D1', 'D2',\n",
    "          'DeviceInfo_device', 'DeviceInfo_version', 'id_30', 'id_30_device',\n",
    "          'id_30_version', 'id_31_device', 'id_33', 'uid', 'uid2', 'uid3']\n",
    "\n",
    "for col in i_cols:\n",
    "    temp_df = pd.concat([train[[col]], test[[col]]])\n",
    "    fq_encode = temp_df[col].value_counts(dropna=False).to_dict()\n",
    "    train[col+'_fq_enc'] = train[col].map(fq_encode)\n",
    "    test[col+'_fq_enc'] = test[col].map(fq_encode)\n",
    "\n",
    "# Same stuff with other variables and a different naming... why ?\n",
    "for col in ['DT_M', 'DT_W', 'DT_D']:\n",
    "    temp_df = pd.concat([train[[col]], test[[col]]])\n",
    "    fq_encode = temp_df[col].value_counts().to_dict()\n",
    "\n",
    "    train[col+'_total'] = train[col].map(fq_encode)\n",
    "    test[col+'_total'] = test[col].map(fq_encode)"
   ]
  },
  {
   "cell_type": "code",
   "execution_count": 39,
   "metadata": {},
   "outputs": [
    {
     "name": "stderr",
     "output_type": "stream",
     "text": [
      "18:30: E127 continuation line over-indented for visual indent\n"
     ]
    }
   ],
   "source": [
    "# frequency encoding of a mix between uid and periods\n",
    "# Test different options for this (different uids ?)\n",
    "\n",
    "periods = ['DT_M', 'DT_W', 'DT_D']\n",
    "i_cols = ['uid']\n",
    "for period in periods:\n",
    "    for col in i_cols:\n",
    "        new_column = col + '_' + period\n",
    "\n",
    "        temp_df = pd.concat([train[[col, period]], test[[col, period]]])\n",
    "        temp_df[new_column] = temp_df[col].astype(str) + '_' + \\\n",
    "            (temp_df[period]).astype(str)\n",
    "        fq_encode = temp_df[new_column].value_counts().to_dict()\n",
    "\n",
    "        train[new_column] = (train[col].astype(str) + '_' +\n",
    "                             train[period].astype(str)).map(fq_encode)\n",
    "        test[new_column] = (test[col].astype(str) + '_' +\n",
    "                            test[period].astype(str)).map(fq_encode)\n",
    "\n",
    "        train[new_column] /= train[period + '_total']\n",
    "        test[new_column] /= test[period + '_total']"
   ]
  },
  {
   "cell_type": "code",
   "execution_count": null,
   "metadata": {},
   "outputs": [],
   "source": [
    "def id_split(dataframe):\n",
    "    dataframe['device_name'] = dataframe['DeviceInfo'].str.split('/', expand=True)[0]\n",
    "    dataframe['device_version'] = dataframe['DeviceInfo'].str.split('/', expand=True)[1]\n",
    "\n",
    "    dataframe['OS_id_30'] = dataframe['id_30'].str.split(' ', expand=True)[0]\n",
    "    dataframe['version_id_30'] = dataframe['id_30'].str.split(' ', expand=True)[1]\n",
    "\n",
    "    dataframe['browser_id_31'] = dataframe['id_31'].str.split(' ', expand=True)[0]\n",
    "    dataframe['version_id_31'] = dataframe['id_31'].str.split(' ', expand=True)[1]\n",
    "\n",
    "    dataframe['screen_width'] = dataframe['id_33'].str.split('x', expand=True)[0]\n",
    "    dataframe['screen_height'] = dataframe['id_33'].str.split('x', expand=True)[1]\n",
    "\n",
    "    dataframe.loc[dataframe['device_name'].str.contains('SM', na=False), 'device_name'] = 'Samsung'\n",
    "    dataframe.loc[dataframe['device_name'].str.contains('SAMSUNG', na=False), 'device_name'] = 'Samsung'\n",
    "    dataframe.loc[dataframe['device_name'].str.contains('GT-', na=False), 'device_name'] = 'Samsung'\n",
    "    dataframe.loc[dataframe['device_name'].str.contains('Moto G', na=False), 'device_name'] = 'Motorola'\n",
    "    dataframe.loc[dataframe['device_name'].str.contains('Moto', na=False), 'device_name'] = 'Motorola'\n",
    "    dataframe.loc[dataframe['device_name'].str.contains('moto', na=False), 'device_name'] = 'Motorola'\n",
    "    dataframe.loc[dataframe['device_name'].str.contains('LG-', na=False), 'device_name'] = 'LG'\n",
    "    dataframe.loc[dataframe['device_name'].str.contains('rv:', na=False), 'device_name'] = 'RV'\n",
    "    dataframe.loc[dataframe['device_name'].str.contains('HUAWEI', na=False), 'device_name'] = 'Huawei'\n",
    "    dataframe.loc[dataframe['device_name'].str.contains('ALE-', na=False), 'device_name'] = 'Huawei'\n",
    "    dataframe.loc[dataframe['device_name'].str.contains('-L', na=False), 'device_name'] = 'Huawei'\n",
    "    dataframe.loc[dataframe['device_name'].str.contains('Blade', na=False), 'device_name'] = 'ZTE'\n",
    "    dataframe.loc[dataframe['device_name'].str.contains('BLADE', na=False), 'device_name'] = 'ZTE'\n",
    "    dataframe.loc[dataframe['device_name'].str.contains('Linux', na=False), 'device_name'] = 'Linux'\n",
    "    dataframe.loc[dataframe['device_name'].str.contains('XT', na=False), 'device_name'] = 'Sony'\n",
    "    dataframe.loc[dataframe['device_name'].str.contains('HTC', na=False), 'device_name'] = 'HTC'\n",
    "    dataframe.loc[dataframe['device_name'].str.contains('ASUS', na=False), 'device_name'] = 'Asus'\n",
    "\n",
    "    dataframe.loc[dataframe.device_name.isin(dataframe.device_name.value_counts()[dataframe.device_name.value_counts() < 200].index), 'device_name'] = \"Others\"\n",
    "    dataframe['had_id'] = 1\n",
    "    gc.collect()\n",
    "    \n",
    "    return dataframe\n",
    "train=id_split(train)\n",
    "test=id_split(test)"
   ]
  },
  {
   "cell_type": "code",
   "execution_count": null,
   "metadata": {},
   "outputs": [],
   "source": [
    "train['id_02_to_mean_card1'] = train['id_02'] / train.groupby(['card1'])['id_02'].transform('mean')\n",
    "train['id_02_to_mean_card4'] = train['id_02'] / train.groupby(['card4'])['id_02'].transform('mean')\n",
    "train['id_02_to_std_card1'] = train['id_02'] / train.groupby(['card1'])['id_02'].transform('std')\n",
    "train['id_02_to_std_card4'] = train['id_02'] / train.groupby(['card4'])['id_02'].transform('std')\n",
    "\n",
    "test['id_02_to_mean_card1'] = test['id_02'] / test.groupby(['card1'])['id_02'].transform('mean')\n",
    "test['id_02_to_mean_card4'] = test['id_02'] / test.groupby(['card4'])['id_02'].transform('mean')\n",
    "test['id_02_to_std_card1'] = test['id_02'] / test.groupby(['card1'])['id_02'].transform('std')\n",
    "test['id_02_to_std_card4'] = test['id_02'] / test.groupby(['card4'])['id_02'].transform('std')\n",
    "\n",
    "train['D15_to_mean_card1'] = train['D15'] / train.groupby(['card1'])['D15'].transform('mean')\n",
    "train['D15_to_mean_card4'] = train['D15'] / train.groupby(['card4'])['D15'].transform('mean')\n",
    "train['D15_to_std_card1'] = train['D15'] / train.groupby(['card1'])['D15'].transform('std')\n",
    "train['D15_to_std_card4'] = train['D15'] / train.groupby(['card4'])['D15'].transform('std')\n",
    "\n",
    "test['D15_to_mean_card1'] = test['D15'] / test.groupby(['card1'])['D15'].transform('mean')\n",
    "test['D15_to_mean_card4'] = test['D15'] / test.groupby(['card4'])['D15'].transform('mean')\n",
    "test['D15_to_std_card1'] = test['D15'] / test.groupby(['card1'])['D15'].transform('std')\n",
    "test['D15_to_std_card4'] = test['D15'] / test.groupby(['card4'])['D15'].transform('std')\n",
    "\n",
    "train['D15_to_mean_addr1'] = train['D15'] / train.groupby(['addr1'])['D15'].transform('mean')\n",
    "train['D15_to_mean_card4'] = train['D15'] / train.groupby(['card4'])['D15'].transform('mean')\n",
    "train['D15_to_std_addr1'] = train['D15'] / train.groupby(['addr1'])['D15'].transform('std')\n",
    "train['D15_to_std_card4'] = train['D15'] / train.groupby(['card4'])['D15'].transform('std')\n",
    "\n",
    "test['D15_to_mean_addr1'] = test['D15'] / test.groupby(['addr1'])['D15'].transform('mean')\n",
    "test['D15_to_mean_card4'] = test['D15'] / test.groupby(['card4'])['D15'].transform('mean')\n",
    "test['D15_to_std_addr1'] = test['D15'] / test.groupby(['addr1'])['D15'].transform('std')\n",
    "test['D15_to_std_card4'] = test['D15'] / test.groupby(['card4'])['D15'].transform('std')"
   ]
  },
  {
   "cell_type": "code",
   "execution_count": null,
   "metadata": {},
   "outputs": [],
   "source": [
    "# New feature - decimal part of the transaction amount.\n",
    "train['TransactionAmt_decimal'] = ((train['TransactionAmt'] - train['TransactionAmt'].astype(int)) * 1000).astype(int)\n",
    "test['TransactionAmt_decimal'] = ((test['TransactionAmt'] - test['TransactionAmt'].astype(int)) * 1000).astype(int)"
   ]
  },
  {
   "cell_type": "code",
   "execution_count": null,
   "metadata": {},
   "outputs": [],
   "source": [
    "# combination of categorical variables\n",
    "for feature in ['id_02__id_20', 'id_02__D8', 'D11__DeviceInfo', 'DeviceInfo__P_emaildomain', 'P_emaildomain__C2', \n",
    "                'card2__dist1', 'card1__card5', 'card2__id_20', 'card5__P_emaildomain', 'addr1__card1',\n",
    "                'id_02__id_14','id_14__id_20','id_02__id_17','id_14__id_17','id_17__id_20','id_02__id_19','id_14__id_19','id_17__id_19',\n",
    "                'id_19__id_20'\n",
    "               ]:\n",
    "\n",
    "    f1, f2 = feature.split('__')\n",
    "    train[feature] = train[f1].astype(str) + '_' + train[f2].astype(str)\n",
    "    test[feature] = test[f1].astype(str) + '_' + test[f2].astype(str)\n",
    "\n",
    "    le = LabelEncoder()\n",
    "    le.fit(list(train[feature].astype(str).values) + list(test[feature].astype(str).values))\n",
    "    train[feature] = le.transform(list(train[feature].astype(str).values))\n",
    "    test[feature] = le.transform(list(test[feature].astype(str).values))"
   ]
  },
  {
   "cell_type": "code",
   "execution_count": null,
   "metadata": {},
   "outputs": [
    {
     "name": "stderr",
     "output_type": "stream",
     "text": [
      "100%|██████████| 642/642 [01:24<00:00,  9.29it/s]\n"
     ]
    }
   ],
   "source": [
    "## Test different options for this (with p-value and statistic changing)\n",
    "## Test different options for this \n",
    "\n",
    "def get_diff_columns(train_df, test_df, show_plots=True, show_all=False, threshold=0.01):\n",
    "    \"\"\"\"Use KS to estimate columns where distributions differ a lot from each other\"\"\"\n",
    "    numerics = ['int8', 'int16', 'int32', 'int64', 'float16', 'float32', 'float64']\n",
    "    # Find the columns where the distributions are very different\n",
    "    diff_data = []\n",
    "    for col in tqdm(test_df.columns):\n",
    "        if (test_df[col].dtypes in numerics) and (col!='TransactionID'):\n",
    "            statistic, pvalue = ks_2samp(\n",
    "                train_df[col].values, \n",
    "                test_df[col].values\n",
    "            )\n",
    "            if pvalue == 0:\n",
    "                diff_data.append({'feature': col, 'p': np.round(pvalue, 5), 'statistic': np.round(np.abs(statistic), 2)})\n",
    "\n",
    "    # Put the differences into a dataframe\n",
    "    diff_df = pd.DataFrame(diff_data).sort_values(by='statistic', ascending=False)\n",
    "    return diff_df\n",
    "\n",
    "diff_df=get_diff_columns(train,test)"
   ]
  },
  {
   "cell_type": "code",
   "execution_count": null,
   "metadata": {},
   "outputs": [
    {
     "data": {
      "text/plain": [
       "['TransactionDT',\n",
       " 'DT_M',\n",
       " 'DT_W',\n",
       " 'DT_D',\n",
       " 'id_33_count_dist',\n",
       " 'DT_M_total',\n",
       " 'id_01_count_dist',\n",
       " 'id_31_count_dist',\n",
       " 'id_36_count_dist',\n",
       " 'D15_to_std_card4',\n",
       " 'D15_to_std_addr1',\n",
       " 'DT_W_total',\n",
       " 'D15_to_std_card1',\n",
       " 'DT_D_total']"
      ]
     },
     "execution_count": 22,
     "metadata": {},
     "output_type": "execute_result"
    }
   ],
   "source": [
    "diff_df[ diff_df['statistic'] > 0.15]['feature'].tolist()"
   ]
  },
  {
   "cell_type": "code",
   "execution_count": null,
   "metadata": {},
   "outputs": [],
   "source": [
    "train=train.drop(diff_df[ diff_df['statistic'] > 0.15]['feature'].tolist(),axis=1)\n",
    "test=test.drop(diff_df[ diff_df['statistic'] > 0.15]['feature'].tolist(),axis=1)\n",
    "del(diff_df)"
   ]
  },
  {
   "cell_type": "code",
   "execution_count": null,
   "metadata": {},
   "outputs": [],
   "source": [
    "for col in list(train):\n",
    "    if train[col].dtype=='O':\n",
    "        train[col] = train[col].fillna('unseen_before_label')\n",
    "        test[col]  = test[col].fillna('unseen_before_label')\n",
    "        \n",
    "        train[col] = train[col].astype(str)\n",
    "        test[col] = test[col].astype(str)\n",
    "        \n",
    "        le = LabelEncoder()\n",
    "        le.fit(list(train[col])+list(test[col]))\n",
    "        train[col] = le.transform(train[col])\n",
    "        test[col]  = le.transform(test[col])\n",
    "        \n",
    "        train[col] = train[col].astype('category')\n",
    "        test[col] = test[col].astype('category')"
   ]
  },
  {
   "cell_type": "code",
   "execution_count": null,
   "metadata": {},
   "outputs": [],
   "source": [
    "rm_cols = [\n",
    "    'TransactionID','TransactionDT', # These columns are pure noise right now\n",
    "    TARGET,                          # Not target in features))\n",
    "    'uid','uid2','uid3',             # Our new client uID -> very noisy data\n",
    "    'bank_type',                     # Victims bank could differ by time\n",
    "    'DT','DT_M','DT_W','DT_D',       # Temporary Variables\n",
    "    'DT_hour','DT_day_week','DT_day',\n",
    "    'DT_D_total','DT_W_total','DT_M_total',\n",
    "    'id_30','id_31','id_33',\n",
    "]"
   ]
  },
  {
   "cell_type": "code",
   "execution_count": null,
   "metadata": {},
   "outputs": [],
   "source": [
    "features_columns = [col for col in list(train) if col not in rm_cols]"
   ]
  },
  {
   "cell_type": "code",
   "execution_count": 43,
   "metadata": {},
   "outputs": [
    {
     "name": "stdout",
     "output_type": "stream",
     "text": [
      "2018-05-31 23:58:51\n",
      "2018-07-01 00:00:24\n"
     ]
    }
   ],
   "source": [
    "# The June month drops entirely\n",
    "train['random_noise'] = np.random.randn(len(train))\n",
    "print(train['DT'].max())\n",
    "print(test['DT'].min())\n",
    "# So we need to get rid of April and keep May as validation set\n",
    "X_train = train[ train['DT'] <= '2018-03-31']\n",
    "y_train = X_train[TARGET]\n",
    "X_train = X_train[features_columns]\n",
    "X_valid = train[ (train['DT'] >= '2018-05-01')]\n",
    "y_valid = X_valid[TARGET]\n",
    "X_valid = X_valid[features_columns]"
   ]
  },
  {
   "cell_type": "code",
   "execution_count": 30,
   "metadata": {},
   "outputs": [],
   "source": [
    "lgb_params = {\n",
    "                    'objective':'binary',\n",
    "                    'boosting_type':'gbdt',\n",
    "                    'metric':'auc',\n",
    "                    'n_jobs':-1,\n",
    "                    'learning_rate':0.01,\n",
    "                    'num_leaves': 496,\n",
    "                    'max_depth':-1,\n",
    "                    'min_data_in_leaf':50,\n",
    "                    'tree_learner':'serial',\n",
    "                    'colsample_bytree': 0.7,\n",
    "                    'subsample_freq':1,\n",
    "                    'subsample':0.7,\n",
    "                    'n_estimators':800,\n",
    "                    'max_bin':255,\n",
    "                    'verbose':-1,\n",
    "                    'seed': 24,\n",
    "                    'early_stopping_rounds':100, \n",
    "                } "
   ]
  },
  {
   "cell_type": "code",
   "execution_count": 29,
   "metadata": {},
   "outputs": [
    {
     "name": "stdout",
     "output_type": "stream",
     "text": [
      "Training until validation scores don't improve for 100 rounds.\n",
      "[100]\ttraining's auc: 0.962848\tvalid_1's auc: 0.895265\n",
      "[400]\ttraining's auc: 0.998079\tvalid_1's auc: 0.918299\n",
      "[500]\ttraining's auc: 0.999401\tvalid_1's auc: 0.919544\n",
      "[800]\ttraining's auc: 0.999987\tvalid_1's auc: 0.92052\n",
      "Did not meet early stopping. Best iteration is:\n",
      "[800]\ttraining's auc: 0.999987\tvalid_1's auc: 0.92052\n"
     ]
    }
   ],
   "source": [
    "tr_data = lgb.Dataset(X_train, label=y_train)\n",
    "vl_data = lgb.Dataset(X_valid, label=y_valid)  \n",
    "        \n",
    "estimator = lgb.train(\n",
    "                lgb_params,\n",
    "                tr_data,\n",
    "                valid_sets = [tr_data, vl_data],\n",
    "                verbose_eval = 100)   \n",
    "\n",
    "#Early stopping, best iteration is:\n",
    "#[518]\ttraining's auc: 0.999265\tvalid_1's auc: 0.916453\n",
    "#Early stopping, best iteration is:\n",
    "#[661]\ttraining's auc: 0.999878\tvalid_1's auc: 0.915671\n",
    "\n",
    "# How much does is change when I keep a lot of V's ? \n",
    "#Early stopping, best iteration is:\n",
    "#[540]\ttraining's auc: 0.999628\tvalid_1's auc: 0.919858\n",
    "#[800]\ttraining's auc: 0.999987\tvalid_1's auc: 0.92052"
   ]
  },
  {
   "cell_type": "markdown",
   "metadata": {},
   "source": [
    "# Try differentiating train and valid"
   ]
  },
  {
   "cell_type": "code",
   "execution_count": 85,
   "metadata": {},
   "outputs": [],
   "source": [
    "train['isValid'] = 0\n",
    "train.loc[X_valid.index, 'isValid'] = 1\n",
    "y_isvalid = train['isValid']\n",
    "train.drop('isValid', axis=1, inplace=True)\n",
    "\n",
    "train_isvalid = train.copy()\n",
    "valid_isvalid = train_isvalid.sample(frac=0.2)\n",
    "train_isvalid.drop(valid_isvalid.index, inplace=True)\n",
    "assert len(train_isvalid) + len(valid_isvalid) == len(train)\n",
    "\n",
    "y_train_isvalid = y_isvalid[train_isvalid.index]\n",
    "y_valid_isvalid = y_isvalid[valid_isvalid.index]\n",
    "assert len(y_train_isvalid) + len(y_valid_isvalid) == len(y_isvalid)"
   ]
  },
  {
   "cell_type": "code",
   "execution_count": 86,
   "metadata": {},
   "outputs": [
    {
     "name": "stdout",
     "output_type": "stream",
     "text": [
      "Training until validation scores don't improve for 100 rounds.\n",
      "[100]\ttraining's auc: 0.955707\tvalid_1's auc: 0.950861\n",
      "[200]\ttraining's auc: 0.977255\tvalid_1's auc: 0.972804\n",
      "[300]\ttraining's auc: 0.990781\tvalid_1's auc: 0.987046\n",
      "[400]\ttraining's auc: 0.997152\tvalid_1's auc: 0.994941\n",
      "[500]\ttraining's auc: 0.998789\tvalid_1's auc: 0.996869\n",
      "[600]\ttraining's auc: 0.999486\tvalid_1's auc: 0.997958\n",
      "[700]\ttraining's auc: 0.999786\tvalid_1's auc: 0.998517\n",
      "[800]\ttraining's auc: 0.999912\tvalid_1's auc: 0.99883\n",
      "Did not meet early stopping. Best iteration is:\n",
      "[800]\ttraining's auc: 0.999912\tvalid_1's auc: 0.99883\n"
     ]
    }
   ],
   "source": [
    "tr_data = lgb.Dataset(train_isvalid[features_columns], label=y_train_isvalid)\n",
    "vl_data = lgb.Dataset(valid_isvalid[features_columns], label=y_valid_isvalid)  \n",
    "        \n",
    "estimator = lgb.train(\n",
    "                lgb_params,\n",
    "                tr_data,\n",
    "                valid_sets = [tr_data, vl_data],\n",
    "                verbose_eval = 100)"
   ]
  },
  {
   "cell_type": "code",
   "execution_count": 88,
   "metadata": {},
   "outputs": [
    {
     "data": {
      "image/png": "[encoded data removed]",
      "text/plain": [
       "<Figure size 576x864 with 1 Axes>"
      ]
     },
     "metadata": {
      "needs_background": "light"
     },
     "output_type": "display_data"
    }
   ],
   "source": [
    "plt.figure(figsize=(8,12))\n",
    "plt.barh(np.array(estimator.feature_name())[estimator.feature_importance() > 5000],\n",
    "         estimator.feature_importance()[estimator.feature_importance() > 5000])\n",
    "plt.xticks(rotation=90)\n",
    "plt.show()"
   ]
  },
  {
   "cell_type": "code",
   "execution_count": 89,
   "metadata": {},
   "outputs": [
    {
     "data": {
      "text/plain": [
       "array(['card1', 'card2', 'card1_count_full', 'card2_count_full',\n",
       "       'card1_TransactionAmt_mean', 'card2_TransactionAmt_mean',\n",
       "       'uid_fq_enc', 'uid3_fq_enc', 'uid_DT_M', 'uid_DT_W', 'uid_DT_D',\n",
       "       'card1__card5'], dtype='<U29')"
      ]
     },
     "execution_count": 89,
     "metadata": {},
     "output_type": "execute_result"
    }
   ],
   "source": [
    "np.array(estimator.feature_name())[estimator.feature_importance() > 5000]"
   ]
  },
  {
   "cell_type": "code",
   "execution_count": 110,
   "metadata": {},
   "outputs": [
    {
     "name": "stdout",
     "output_type": "stream",
     "text": [
      "Training until validation scores don't improve for 100 rounds.\n",
      "[100]\ttraining's auc: 0.961737\tvalid_1's auc: 0.894886\n",
      "[200]\ttraining's auc: 0.98223\tvalid_1's auc: 0.907333\n",
      "[300]\ttraining's auc: 0.993281\tvalid_1's auc: 0.914879\n",
      "[400]\ttraining's auc: 0.997704\tvalid_1's auc: 0.918281\n",
      "[500]\ttraining's auc: 0.999225\tvalid_1's auc: 0.91934\n",
      "[600]\ttraining's auc: 0.999748\tvalid_1's auc: 0.919381\n",
      "[700]\ttraining's auc: 0.999917\tvalid_1's auc: 0.91975\n",
      "[800]\ttraining's auc: 0.999972\tvalid_1's auc: 0.919945\n",
      "Did not meet early stopping. Best iteration is:\n",
      "[800]\ttraining's auc: 0.999972\tvalid_1's auc: 0.919945\n"
     ]
    }
   ],
   "source": [
    "changing_vars = ['card1', 'card1_count_full', 'uid_DT_M', 'uid_DT_W', 'uid_DT_D']\n",
    "tr_data = lgb.Dataset(X_train.drop(changing_vars, axis=1), label=y_train)\n",
    "vl_data = lgb.Dataset(X_valid.drop(changing_vars, axis=1), label=y_valid)  \n",
    "        \n",
    "estimator = lgb.train(\n",
    "                lgb_params,\n",
    "                tr_data,\n",
    "                valid_sets = [tr_data, vl_data],\n",
    "                verbose_eval = 100)"
   ]
  },
  {
   "cell_type": "code",
   "execution_count": 111,
   "metadata": {},
   "outputs": [
    {
     "name": "stdout",
     "output_type": "stream",
     "text": [
      "Training until validation scores don't improve for 100 rounds.\n",
      "[100]\ttraining's auc: 0.962542\tvalid_1's auc: 0.894792\n",
      "[200]\ttraining's auc: 0.982332\tvalid_1's auc: 0.907133\n",
      "[300]\ttraining's auc: 0.993556\tvalid_1's auc: 0.914282\n",
      "[400]\ttraining's auc: 0.997803\tvalid_1's auc: 0.917835\n",
      "[500]\ttraining's auc: 0.999285\tvalid_1's auc: 0.918992\n",
      "[600]\ttraining's auc: 0.999762\tvalid_1's auc: 0.919684\n",
      "[700]\ttraining's auc: 0.999918\tvalid_1's auc: 0.91982\n",
      "Early stopping, best iteration is:\n",
      "[691]\ttraining's auc: 0.99991\tvalid_1's auc: 0.919908\n"
     ]
    }
   ],
   "source": [
    "changing_vars = ['uid_DT_M', 'uid_DT_W', 'uid_DT_D']\n",
    "tr_data = lgb.Dataset(X_train.drop(changing_vars, axis=1), label=y_train)\n",
    "vl_data = lgb.Dataset(X_valid.drop(changing_vars, axis=1), label=y_valid)  \n",
    "        \n",
    "estimator = lgb.train(\n",
    "                lgb_params,\n",
    "                tr_data,\n",
    "                valid_sets = [tr_data, vl_data],\n",
    "                verbose_eval = 100)"
   ]
  },
  {
   "cell_type": "markdown",
   "metadata": {},
   "source": [
    "# Downsampling"
   ]
  },
  {
   "cell_type": "code",
   "execution_count": 44,
   "metadata": {},
   "outputs": [],
   "source": [
    "X_subsample = pd.concat([X_train[ y_train == 0].sample(frac=0.1, random_state=42), X_train[ y_train == 1]])\n",
    "X_subsample = X_subsample.sample(frac=1)\n",
    "y_subsample = y_train[X_subsample.index]\n",
    "assert len(X_subsample) == len(y_subsample)\n",
    "assert (X_subsample.index == y_subsample.index).all()"
   ]
  },
  {
   "cell_type": "code",
   "execution_count": 45,
   "metadata": {},
   "outputs": [
    {
     "name": "stdout",
     "output_type": "stream",
     "text": [
      "Training until validation scores don't improve for 100 rounds.\n",
      "[100]\ttraining's auc: 0.964975\tvalid_1's auc: 0.892946\n",
      "[300]\ttraining's auc: 0.990899\tvalid_1's auc: 0.910113\n",
      "[400]\ttraining's auc: 0.996235\tvalid_1's auc: 0.914661\n",
      "[600]\ttraining's auc: 0.999586\tvalid_1's auc: 0.916659\n",
      "[800]\ttraining's auc: 0.999978\tvalid_1's auc: 0.917426\n",
      "Did not meet early stopping. Best iteration is:\n",
      "[800]\ttraining's auc: 0.999978\tvalid_1's auc: 0.917426\n"
     ]
    }
   ],
   "source": [
    "tr_data = lgb.Dataset(X_subsample, label=y_subsample)\n",
    "vl_data = lgb.Dataset(X_valid, label=y_valid)  \n",
    "        \n",
    "estimator = lgb.train(\n",
    "                lgb_params,\n",
    "                tr_data,\n",
    "                valid_sets = [tr_data, vl_data],\n",
    "                verbose_eval = 100) \n",
    "\n",
    "# bestS: 0.912585, 0.915495, 0.9138(this one with random state=42)\n",
    "# if keep Vcols with 0.15 k2s: 0.917, 0.916, 0.918"
   ]
  },
  {
   "cell_type": "markdown",
   "metadata": {},
   "source": [
    "# Try modeling without those columns whose distribution changes"
   ]
  },
  {
   "cell_type": "code",
   "execution_count": 95,
   "metadata": {},
   "outputs": [],
   "source": [
    "changing_vars = ['card1', 'card1_count_full', 'uid_DT_M', 'uid_DT_W', 'uid_DT_D']"
   ]
  },
  {
   "cell_type": "code",
   "execution_count": 96,
   "metadata": {},
   "outputs": [
    {
     "name": "stdout",
     "output_type": "stream",
     "text": [
      "Training until validation scores don't improve for 100 rounds.\n",
      "[100]\ttraining's auc: 0.963784\tvalid_1's auc: 0.892543\n",
      "[200]\ttraining's auc: 0.979752\tvalid_1's auc: 0.903411\n",
      "[300]\ttraining's auc: 0.990337\tvalid_1's auc: 0.910968\n",
      "[500]\ttraining's auc: 0.99845\tvalid_1's auc: 0.918172\n",
      "[600]\ttraining's auc: 0.99949\tvalid_1's auc: 0.919156\n",
      "[700]\ttraining's auc: 0.999859\tvalid_1's auc: 0.918857\n",
      "Early stopping, best iteration is:\n",
      "[601]\ttraining's auc: 0.999496\tvalid_1's auc: 0.919164\n"
     ]
    }
   ],
   "source": [
    "changing_vars = ['card1', 'card1_count_full', 'uid_DT_M', 'uid_DT_W', 'uid_DT_D']\n",
    "tr_data = lgb.Dataset(X_subsample.drop(changing_vars, axis=1), label=y_subsample)\n",
    "vl_data = lgb.Dataset(X_valid.drop(changing_vars, axis=1), label=y_valid)  \n",
    "        \n",
    "estimator = lgb.train(\n",
    "                lgb_params,\n",
    "                tr_data,\n",
    "                valid_sets = [tr_data, vl_data],\n",
    "                verbose_eval = 100) "
   ]
  },
  {
   "cell_type": "code",
   "execution_count": 103,
   "metadata": {},
   "outputs": [
    {
     "name": "stdout",
     "output_type": "stream",
     "text": [
      "Training until validation scores don't improve for 100 rounds.\n",
      "[100]\ttraining's auc: 0.964418\tvalid_1's auc: 0.892826\n",
      "[200]\ttraining's auc: 0.980379\tvalid_1's auc: 0.902919\n",
      "[400]\ttraining's auc: 0.996053\tvalid_1's auc: 0.915996\n",
      "[500]\ttraining's auc: 0.998533\tvalid_1's auc: 0.917911\n",
      "[600]\ttraining's auc: 0.999522\tvalid_1's auc: 0.918331\n",
      "[700]\ttraining's auc: 0.999874\tvalid_1's auc: 0.918302\n",
      "Early stopping, best iteration is:\n",
      "[639]\ttraining's auc: 0.999708\tvalid_1's auc: 0.918539\n"
     ]
    }
   ],
   "source": [
    "changing_vars = ['uid_DT_M', 'uid_DT_D']\n",
    "tr_data = lgb.Dataset(X_subsample.drop(changing_vars, axis=1), label=y_subsample)\n",
    "vl_data = lgb.Dataset(X_valid.drop(changing_vars, axis=1), label=y_valid)  \n",
    "        \n",
    "estimator = lgb.train(\n",
    "                lgb_params,\n",
    "                tr_data,\n",
    "                valid_sets = [tr_data, vl_data],\n",
    "                verbose_eval = 100) \n",
    "# ['uid_DT_M', 'uid_DT_W', 'uid_DT_D'] : valid_1's auc: 0.919001\n",
    "# ['uid_DT_M', 'uid_DT_W'] : valid_1's auc: 0.918636\n",
    "# ['uid_DT_W', 'uid_DT_D'] : 0.918219\n",
    "# ['uid_DT_M', 'uid_DT_D'] : 0.918539"
   ]
  },
  {
   "cell_type": "code",
   "execution_count": 90,
   "metadata": {},
   "outputs": [],
   "source": [
    "changing_vars2 = ['card1', 'card2', 'card1_count_full', 'card2_count_full',\n",
    "       'card1_TransactionAmt_mean', 'card2_TransactionAmt_mean',\n",
    "       'uid_fq_enc', 'uid3_fq_enc', 'uid_DT_M', 'uid_DT_W', 'uid_DT_D',\n",
    "       'card1__card5']\n",
    "\n",
    "# Without all of them:\n",
    "# Training until validation scores don't improve for 100 rounds.\n",
    "# [100]\ttraining's auc: 0.962713\tvalid_1's auc: 0.892434\n",
    "# [200]\ttraining's auc: 0.978885\tvalid_1's auc: 0.902168\n",
    "# [300]\ttraining's auc: 0.989625\tvalid_1's auc: 0.910266\n",
    "# [400]\ttraining's auc: 0.995496\tvalid_1's auc: 0.914778\n",
    "# [500]\ttraining's auc: 0.998231\tvalid_1's auc: 0.916779\n",
    "# [600]\ttraining's auc: 0.999376\tvalid_1's auc: 0.917259\n",
    "# [700]\ttraining's auc: 0.999817\tvalid_1's auc: 0.917362\n",
    "# Early stopping, best iteration is:\n",
    "# [666]\ttraining's auc: 0.999715\tvalid_1's auc: 0.917412"
   ]
  },
  {
   "cell_type": "code",
   "execution_count": 94,
   "metadata": {},
   "outputs": [
    {
     "name": "stdout",
     "output_type": "stream",
     "text": [
      "card1 0.9173937618371477 False\n",
      "card2 0.9170511574565139 False\n",
      "card1_count_full 0.9189214927185366 True\n",
      "card1_TransactionAmt_mean 0.916781844048551 False\n",
      "card2_TransactionAmt_mean 0.9160713656207558 False\n",
      "uid_fq_enc 0.918570172090899 False\n",
      "uid3_fq_enc 0.9179699988864063 False\n",
      "uid_DT_M 0.917862870995879 False\n",
      "uid_DT_W 0.9176721528066271 False\n",
      "uid_DT_D 0.9172295835025551 False\n",
      "card1__card5 0.917873293243365 False\n"
     ]
    }
   ],
   "source": [
    "results_c_cols = {}\n",
    "\n",
    "for col in changing_vars2:\n",
    "    tr_data = lgb.Dataset(X_subsample.drop(col, axis=1), label=y_subsample)\n",
    "    vl_data = lgb.Dataset(X_valid.drop(col, axis=1), label=y_valid)  \n",
    "            \n",
    "    estimator = lgb.train(\n",
    "                    lgb_params,\n",
    "                    tr_data,\n",
    "                    valid_sets = [tr_data, vl_data],\n",
    "                    verbose_eval = 0) \n",
    "    print(col, estimator.best_score['valid_1']['auc'], estimator.best_score['valid_1']['auc'] > 0.918734)\n",
    "    results_c_cols[col] = estimator.best_score['valid_1']['auc'] - 0.918734"
   ]
  },
  {
   "cell_type": "code",
   "execution_count": null,
   "metadata": {},
   "outputs": [],
   "source": []
  },
  {
   "cell_type": "markdown",
   "metadata": {},
   "source": [
    "# Permutation importance"
   ]
  },
  {
   "cell_type": "code",
   "execution_count": null,
   "metadata": {},
   "outputs": [],
   "source": [
    "permut_importances = np.zeros_like(X_subsample.columns)\n",
    "base_roc =  roc_auc_score(y_valid, estimator.predict(X_valid))"
   ]
  },
  {
   "cell_type": "code",
   "execution_count": null,
   "metadata": {},
   "outputs": [
    {
     "data": {
      "application/vnd.jupyter.widget-view+json": {
       "model_id": "e5a5eba7ebfb476c8e73e01707c29f21",
       "version_major": 2,
       "version_minor": 0
      },
      "text/plain": [
       "HBox(children=(IntProgress(value=0, max=454), HTML(value='')))"
      ]
     },
     "metadata": {},
     "output_type": "display_data"
    }
   ],
   "source": [
    "for i, col in enumerate(tqdm_notebook(X_subsample.columns[164:])):\n",
    "    save = X_valid[col].copy()\n",
    "   \n",
    "    dtype = X_valid[col].dtype\n",
    "    X_valid[col] = np.random.permutation(X_valid[col])\n",
    "    X_valid[col] = X_valid[col].astype(dtype)\n",
    "    predict_permutation = estimator.predict(X_valid)\n",
    "        \n",
    "    score_after_permut = roc_auc_score(y_valid, predict_permutation)\n",
    "    perte = base_roc - score_after_permut\n",
    "    permut_importances[i+164] = perte * 100 \n",
    "    X_valid[col] = save"
   ]
  },
  {
   "cell_type": "code",
   "execution_count": 66,
   "metadata": {},
   "outputs": [
    {
     "data": {
      "image/png": "[encoded data removed]",
      "text/plain": [
       "<Figure size 576x864 with 1 Axes>"
      ]
     },
     "metadata": {
      "needs_background": "light"
     },
     "output_type": "display_data"
    }
   ],
   "source": [
    "plt.figure(figsize=(8,12))\n",
    "plt.barh(X_subsample.columns[ permut_importances > 0.05], permut_importances[ permut_importances > 0.05]) #45 variables\n",
    "plt.xticks(rotation=90)\n",
    "plt.show()"
   ]
  },
  {
   "cell_type": "code",
   "execution_count": 68,
   "metadata": {},
   "outputs": [],
   "source": [
    "permut_imp_df = pd.DataFrame()\n",
    "permut_imp_df['permut_importances'] = permut_importances\n",
    "permut_imp_df['cols'] = X_subsample.columns.tolist()"
   ]
  },
  {
   "cell_type": "code",
   "execution_count": 76,
   "metadata": {},
   "outputs": [
    {
     "data": {
      "text/html": [
       "<div>\n",
       "<style scoped>\n",
       "    .dataframe tbody tr th:only-of-type {\n",
       "        vertical-align: middle;\n",
       "    }\n",
       "\n",
       "    .dataframe tbody tr th {\n",
       "        vertical-align: top;\n",
       "    }\n",
       "\n",
       "    .dataframe thead th {\n",
       "        text-align: right;\n",
       "    }\n",
       "</style>\n",
       "<table border=\"1\" class=\"dataframe\">\n",
       "  <thead>\n",
       "    <tr style=\"text-align: right;\">\n",
       "      <th></th>\n",
       "      <th>permut_importances</th>\n",
       "      <th>cols</th>\n",
       "    </tr>\n",
       "  </thead>\n",
       "  <tbody>\n",
       "  </tbody>\n",
       "</table>\n",
       "</div>"
      ],
      "text/plain": [
       "Empty DataFrame\n",
       "Columns: [permut_importances, cols]\n",
       "Index: []"
      ]
     },
     "execution_count": 76,
     "metadata": {},
     "output_type": "execute_result"
    }
   ],
   "source": [
    "permut_imp_df[ permut_imp_df['cols'] == 'random_noise']"
   ]
  },
  {
   "cell_type": "code",
   "execution_count": 77,
   "metadata": {},
   "outputs": [
    {
     "data": {
      "text/html": [
       "<div>\n",
       "<style scoped>\n",
       "    .dataframe tbody tr th:only-of-type {\n",
       "        vertical-align: middle;\n",
       "    }\n",
       "\n",
       "    .dataframe tbody tr th {\n",
       "        vertical-align: top;\n",
       "    }\n",
       "\n",
       "    .dataframe thead th {\n",
       "        text-align: right;\n",
       "    }\n",
       "</style>\n",
       "<table border=\"1\" class=\"dataframe\">\n",
       "  <thead>\n",
       "    <tr style=\"text-align: right;\">\n",
       "      <th></th>\n",
       "      <th>permut_importances</th>\n",
       "      <th>cols</th>\n",
       "    </tr>\n",
       "  </thead>\n",
       "  <tbody>\n",
       "    <tr>\n",
       "      <th>540</th>\n",
       "      <td>0.612967</td>\n",
       "      <td>C1_fq_enc</td>\n",
       "    </tr>\n",
       "    <tr>\n",
       "      <th>26</th>\n",
       "      <td>0.606885</td>\n",
       "      <td>C13</td>\n",
       "    </tr>\n",
       "    <tr>\n",
       "      <th>0</th>\n",
       "      <td>0.347677</td>\n",
       "      <td>TransactionAmt</td>\n",
       "    </tr>\n",
       "    <tr>\n",
       "      <th>12</th>\n",
       "      <td>0.33364</td>\n",
       "      <td>P_emaildomain</td>\n",
       "    </tr>\n",
       "    <tr>\n",
       "      <th>27</th>\n",
       "      <td>0.271911</td>\n",
       "      <td>C14</td>\n",
       "    </tr>\n",
       "    <tr>\n",
       "      <th>14</th>\n",
       "      <td>0.267278</td>\n",
       "      <td>C1</td>\n",
       "    </tr>\n",
       "    <tr>\n",
       "      <th>29</th>\n",
       "      <td>0.181855</td>\n",
       "      <td>D2</td>\n",
       "    </tr>\n",
       "    <tr>\n",
       "      <th>454</th>\n",
       "      <td>0.177171</td>\n",
       "      <td>uid3_TransactionAmt_mean</td>\n",
       "    </tr>\n",
       "    <tr>\n",
       "      <th>15</th>\n",
       "      <td>0.164787</td>\n",
       "      <td>C2</td>\n",
       "    </tr>\n",
       "    <tr>\n",
       "      <th>309</th>\n",
       "      <td>0.164335</td>\n",
       "      <td>V258</td>\n",
       "    </tr>\n",
       "  </tbody>\n",
       "</table>\n",
       "</div>"
      ],
      "text/plain": [
       "    permut_importances                      cols\n",
       "540           0.612967                 C1_fq_enc\n",
       "26            0.606885                       C13\n",
       "0             0.347677            TransactionAmt\n",
       "12             0.33364             P_emaildomain\n",
       "27            0.271911                       C14\n",
       "14            0.267278                        C1\n",
       "29            0.181855                        D2\n",
       "454           0.177171  uid3_TransactionAmt_mean\n",
       "15            0.164787                        C2\n",
       "309           0.164335                      V258"
      ]
     },
     "execution_count": 77,
     "metadata": {},
     "output_type": "execute_result"
    }
   ],
   "source": [
    "permut_imp_df.sort_values('permut_importances', ascending=False).head(10)"
   ]
  },
  {
   "cell_type": "code",
   "execution_count": 56,
   "metadata": {},
   "outputs": [
    {
     "data": {
      "image/png": "[encoded data removed]",
      "text/plain": [
       "<Figure size 576x864 with 1 Axes>"
      ]
     },
     "metadata": {
      "needs_background": "light"
     },
     "output_type": "display_data"
    }
   ],
   "source": [
    "plt.figure(figsize=(8,12))\n",
    "plt.barh(X_subsample.columns[ permut_importances > 0.05], permut_importances[ permut_importances > 0.05]) #45 variables\n",
    "plt.xticks(rotation=90)\n",
    "plt.show()"
   ]
  },
  {
   "cell_type": "code",
   "execution_count": 49,
   "metadata": {},
   "outputs": [
    {
     "data": {
      "image/png": "[encoded data removed]",
      "text/plain": [
       "<Figure size 576x864 with 1 Axes>"
      ]
     },
     "metadata": {
      "needs_background": "light"
     },
     "output_type": "display_data"
    }
   ],
   "source": [
    "# ancien sans Vs\n",
    "plt.figure(figsize=(8,12))\n",
    "plt.barh(X_subsample.columns[ permut_importances > 0.05], permut_importances[ permut_importances > 0.05]) #45 variables\n",
    "plt.xticks(rotation=90)\n",
    "plt.show()"
   ]
  },
  {
   "cell_type": "code",
   "execution_count": 78,
   "metadata": {},
   "outputs": [
    {
     "data": {
      "text/plain": [
       "<BarContainer object of 2 artists>"
      ]
     },
     "execution_count": 78,
     "metadata": {},
     "output_type": "execute_result"
    },
    {
     "data": {
      "image/png": "[encoded data removed]",
      "text/plain": [
       "<Figure size 432x288 with 1 Axes>"
      ]
     },
     "metadata": {
      "needs_background": "light"
     },
     "output_type": "display_data"
    }
   ],
   "source": [
    "plt.barh(X_subsample.columns[ permut_importances > 0.5], permut_importances[ permut_importances > 0.5]) "
   ]
  },
  {
   "cell_type": "markdown",
   "metadata": {},
   "source": [
    "# Try modeling with SUM_ID_NANs"
   ]
  },
  {
   "cell_type": "code",
   "execution_count": 73,
   "metadata": {},
   "outputs": [],
   "source": [
    "id_cols = [col for col in X_subsample.columns if 'id' in col and len(col) < 6]"
   ]
  },
  {
   "cell_type": "code",
   "execution_count": 74,
   "metadata": {},
   "outputs": [],
   "source": [
    "for col in id_cols:\n",
    "    X_subsample[col] = X_subsample[col].apply(lambda x: np.nan if x == 'nan' else x)"
   ]
  },
  {
   "cell_type": "code",
   "execution_count": 75,
   "metadata": {},
   "outputs": [],
   "source": [
    "X_subsample['id_nan_count'] = X_subsample[id_cols].isnull().sum(axis=1) **2\n",
    "X_valid['id_nan_count'] = X_valid[id_cols].isnull().sum(axis=1) **2"
   ]
  },
  {
   "cell_type": "code",
   "execution_count": 76,
   "metadata": {},
   "outputs": [
    {
     "name": "stdout",
     "output_type": "stream",
     "text": [
      "Training until validation scores don't improve for 100 rounds.\n",
      "[100]\ttraining's auc: 0.964493\tvalid_1's auc: 0.892541\n",
      "[200]\ttraining's auc: 0.980569\tvalid_1's auc: 0.901461\n",
      "[300]\ttraining's auc: 0.99086\tvalid_1's auc: 0.909293\n",
      "[400]\ttraining's auc: 0.996249\tvalid_1's auc: 0.914079\n",
      "[500]\ttraining's auc: 0.998646\tvalid_1's auc: 0.916374\n",
      "[600]\ttraining's auc: 0.999571\tvalid_1's auc: 0.917245\n",
      "[700]\ttraining's auc: 0.999891\tvalid_1's auc: 0.916991\n",
      "Early stopping, best iteration is:\n",
      "[600]\ttraining's auc: 0.999571\tvalid_1's auc: 0.917245\n"
     ]
    }
   ],
   "source": [
    "tr_data = lgb.Dataset(X_subsample, label=y_subsample)\n",
    "vl_data = lgb.Dataset(X_valid, label=y_valid)  \n",
    "        \n",
    "estimator = lgb.train(\n",
    "                lgb_params,\n",
    "                tr_data,\n",
    "                valid_sets = [tr_data, vl_data],\n",
    "                verbose_eval = 100) \n",
    "\n",
    "# bestS: 0.912585, 0.915495, 0.9138(this one with random state=42)\n",
    "# if keep Vcols with 0.15 k2s: 0.917, 0.916\n",
    "# with id_nans_sum on top: 0.916362"
   ]
  },
  {
   "cell_type": "code",
   "execution_count": null,
   "metadata": {},
   "outputs": [],
   "source": []
  },
  {
   "cell_type": "markdown",
   "metadata": {},
   "source": [
    "# Try modeling with only subset of vars"
   ]
  },
  {
   "cell_type": "code",
   "execution_count": 79,
   "metadata": {},
   "outputs": [
    {
     "name": "stdout",
     "output_type": "stream",
     "text": [
      "Training until validation scores don't improve for 100 rounds.\n",
      "[100]\ttraining's auc: 0.962709\tvalid_1's auc: 0.89584\n",
      "[200]\ttraining's auc: 0.975909\tvalid_1's auc: 0.902489\n",
      "[300]\ttraining's auc: 0.985932\tvalid_1's auc: 0.907673\n",
      "[400]\ttraining's auc: 0.992248\tvalid_1's auc: 0.9103\n",
      "[500]\ttraining's auc: 0.995915\tvalid_1's auc: 0.911984\n",
      "[600]\ttraining's auc: 0.997914\tvalid_1's auc: 0.91252\n",
      "Early stopping, best iteration is:\n",
      "[582]\ttraining's auc: 0.997644\tvalid_1's auc: 0.912723\n"
     ]
    }
   ],
   "source": [
    "tr_data = lgb.Dataset(X_subsample[X_subsample.columns[ permut_importances > 0.05]], label=y_subsample)\n",
    "vl_data = lgb.Dataset(X_valid[X_subsample.columns[ permut_importances > 0.05]], label=y_valid)  \n",
    "        \n",
    "estimator = lgb.train(\n",
    "                lgb_params,\n",
    "                tr_data,\n",
    "                valid_sets = [tr_data, vl_data],\n",
    "                verbose_eval = 100) \n",
    "\n",
    "# valid_1's auc: 0.909696 \n",
    "# 2nd try: 0.912723 VS. 0.917426"
   ]
  },
  {
   "cell_type": "code",
   "execution_count": 80,
   "metadata": {},
   "outputs": [
    {
     "name": "stdout",
     "output_type": "stream",
     "text": [
      "Training until validation scores don't improve for 100 rounds.\n",
      "[100]\ttraining's auc: 0.963546\tvalid_1's auc: 0.895558\n",
      "[300]\ttraining's auc: 0.989719\tvalid_1's auc: 0.913863\n",
      "[400]\ttraining's auc: 0.995402\tvalid_1's auc: 0.918324\n",
      "[500]\ttraining's auc: 0.998171\tvalid_1's auc: 0.920534\n",
      "[600]\ttraining's auc: 0.999348\tvalid_1's auc: 0.92151\n",
      "[700]\ttraining's auc: 0.999795\tvalid_1's auc: 0.921841\n",
      "[800]\ttraining's auc: 0.999946\tvalid_1's auc: 0.921732\n",
      "Did not meet early stopping. Best iteration is:\n",
      "[800]\ttraining's auc: 0.999946\tvalid_1's auc: 0.921732\n"
     ]
    }
   ],
   "source": [
    "tr_data = lgb.Dataset(X_subsample[X_subsample.columns[ permut_importances > 0.001]], label=y_subsample)\n",
    "vl_data = lgb.Dataset(X_valid[X_subsample.columns[ permut_importances > 0.001]], label=y_valid)  \n",
    "        \n",
    "estimator = lgb.train(\n",
    "                lgb_params,\n",
    "                tr_data,\n",
    "                valid_sets = [tr_data, vl_data],\n",
    "                verbose_eval = 100) \n",
    "\n",
    "#  0.914075 => 0.91819\n",
    "#  0.909696 => 0.919665\n",
    "#  ( 0.912723 VS. 0.917426) => 0.921732\n",
    "# 0.001 seems to be the winner, but it means keeping the vars with an AUC increase of 0.00001... likely to overfit valid set"
   ]
  },
  {
   "cell_type": "code",
   "execution_count": null,
   "metadata": {},
   "outputs": [],
   "source": []
  },
  {
   "cell_type": "code",
   "execution_count": 81,
   "metadata": {},
   "outputs": [],
   "source": [
    "permut_imp_df.to_csv('permut_imp_df.csv', index=False)"
   ]
  },
  {
   "cell_type": "code",
   "execution_count": null,
   "metadata": {},
   "outputs": [],
   "source": []
  },
  {
   "cell_type": "code",
   "execution_count": null,
   "metadata": {},
   "outputs": [],
   "source": [
    "# 0.001 seems to be the winner, but it means keeping the vars with an AUC increase of 0.00001... likely to overfit valid set\n",
    "\n",
    "# Danger: overfitter le validation set... test les deux sur test-set ? \n",
    "# Ou sur une cross-val ? \n",
    "\n"
   ]
  },
  {
   "cell_type": "code",
   "execution_count": null,
   "metadata": {},
   "outputs": [],
   "source": [
    "# # ID cols stuff : mostly NANs... won't work with that\n",
    "# train_identity = pd.read_csv('input/train_identity.csv', index_col='TransactionID', nrows=50)\n",
    "# id_cols = train_identity.columns\n",
    "# del(train_identity)\n",
    "\n",
    "# for col in train[id_cols].isnull().any()[train[id_cols].isnull().any() == False].index:\n",
    "#     train[col] = train[col].apply(lambda x: np.nan if x == 'nan' else x)\n",
    "    \n",
    "# len(id_cols)\n",
    "# train[id_cols].describe()\n",
    "# train[id_cols].isnull().sum()\n",
    "# (train[id_cols].isnull().sum(axis=1) ==40).sum()  # 446307/ 590540"
   ]
  },
  {
   "cell_type": "code",
   "execution_count": null,
   "metadata": {},
   "outputs": [],
   "source": []
  },
  {
   "cell_type": "code",
   "execution_count": null,
   "metadata": {},
   "outputs": [],
   "source": []
  },
  {
   "cell_type": "markdown",
   "metadata": {},
   "source": [
    "# Try adding new features "
   ]
  },
  {
   "cell_type": "code",
   "execution_count": 114,
   "metadata": {},
   "outputs": [],
   "source": [
    "X_subsample['uid'] = X_subsample['card1'].astype(str)+'_'+X_subsample['card2'].astype(str)\n",
    "X_valid['uid'] = X_valid['card1'].astype(str)+'_'+X_valid['card2'].astype(str)\n",
    "\n",
    "X_subsample['uid2'] = X_subsample['uid'].astype(str)+'_'+X_subsample['card3'].astype(str)+'_'+X_subsample['card4'].astype(str)\n",
    "X_valid['uid2'] = X_valid['uid'].astype(str)+'_'+X_valid['card3'].astype(str)+'_'+X_valid['card4'].astype(str)\n",
    "\n",
    "X_subsample['uid3'] = X_subsample['uid2'].astype(str)+'_'+X_subsample['addr1'].astype(str)+'_'+X_subsample['addr2'].astype(str)\n",
    "X_valid['uid3'] = X_valid['uid2'].astype(str)+'_'+X_valid['addr1'].astype(str)+'_'+X_valid['addr2'].astype(str)"
   ]
  },
  {
   "cell_type": "code",
   "execution_count": 135,
   "metadata": {},
   "outputs": [],
   "source": [
    "X_subsample['C1_third_quartile'] = X_subsample.groupby('uid3')['C1'].transform(lambda x: x > x.quantile(0.75))\n",
    "X_valid['C1_third_quartile'] = X_valid.groupby('uid')['C1'].transform(lambda x: x > x.quantile(0.75))"
   ]
  },
  {
   "cell_type": "code",
   "execution_count": 143,
   "metadata": {},
   "outputs": [
    {
     "name": "stdout",
     "output_type": "stream",
     "text": [
      "Training until validation scores don't improve for 100 rounds.\n",
      "[100]\ttraining's auc: 0.964825\tvalid_1's auc: 0.895645\n",
      "[200]\ttraining's auc: 0.980188\tvalid_1's auc: 0.904202\n",
      "[400]\ttraining's auc: 0.995891\tvalid_1's auc: 0.91442\n",
      "[600]\ttraining's auc: 0.999492\tvalid_1's auc: 0.91819\n",
      "[800]\ttraining's auc: 0.999968\tvalid_1's auc: 0.918997\n",
      "Did not meet early stopping. Best iteration is:\n",
      "[800]\ttraining's auc: 0.999968\tvalid_1's auc: 0.918997\n"
     ]
    }
   ],
   "source": [
    "tr_data = lgb.Dataset(X_subsample[useful_vars.tolist() + ['C1_third_quartile']], label=y_subsample)\n",
    "vl_data = lgb.Dataset(X_valid[useful_vars.tolist() + ['C1_third_quartile']], label=y_valid)  \n",
    "        \n",
    "estimator = lgb.train(\n",
    "                lgb_params,\n",
    "                tr_data,\n",
    "                valid_sets = [tr_data, vl_data],\n",
    "                verbose_eval = 100) \n",
    "\n",
    "#  0.914075 => 0.91819\n",
    "#  0.909696 => 0.919665"
   ]
  },
  {
   "cell_type": "code",
   "execution_count": null,
   "metadata": {},
   "outputs": [
    {
     "name": "stdout",
     "output_type": "stream",
     "text": [
      "C2 0.920006456876584 True\n",
      "C3 0.9212837185780413 True\n",
      "C5 0.9193946359351762 False\n",
      "C6 0.9202151066953561 True\n",
      "C8 0.9201764721167557 True\n",
      "C10 0.9203012448201281 True\n",
      "C11 0.9195494387169016 False\n",
      "C13 0.9201650888471642 True\n"
     ]
    }
   ],
   "source": [
    "C_cols = [col for col in useful_vars if col.startswith('C') and '_' not in col]\n",
    "results_c_cols = {}\n",
    "for decile in [0.75,0.9]:\n",
    "    for col in C_cols: \n",
    "        X_subsample[col+'_third_quartile'] = X_subsample.groupby('uid3')[col].transform(lambda x: x > x.quantile(decile))\n",
    "        X_valid[col+'_third_quartile'] = X_valid.groupby('uid3')[col].transform(lambda x: x > x.quantile(decile))\n",
    "        \n",
    "        tr_data = lgb.Dataset(X_subsample[useful_vars.tolist()+[col+'_third_quartile']], label=y_subsample)\n",
    "        vl_data = lgb.Dataset(X_valid[useful_vars.tolist()+[col+'_third_quartile']], label=y_valid)  \n",
    "            \n",
    "        estimator3 = lgb.train(\n",
    "                    lgb_params,\n",
    "                    tr_data,\n",
    "                    valid_sets = [tr_data, vl_data],\n",
    "                    verbose_eval = 0) \n",
    "    \n",
    "        print(decile, col, estimator3.best_score['valid_1']['auc'], estimator3.best_score['valid_1']['auc'] > 0.919665)\n",
    "        results_c_cols[col+str(decile)] = estimator3.best_score['valid_1']['auc'] - 0.919665\n",
    "        del(X_subsample[col+'_third_quartile'])\n",
    "        del(X_valid[col+'_third_quartile'])"
   ]
  },
  {
   "cell_type": "code",
   "execution_count": 152,
   "metadata": {},
   "outputs": [
    {
     "name": "stdout",
     "output_type": "stream",
     "text": [
      "0.75 C1 0.9197192192888848 True\n",
      "0.75 C2 0.9206407053920135 True\n",
      "0.75 C5 0.9208753437814464 True\n",
      "0.75 C8 0.9206131672663296 True\n",
      "0.75 C9 0.9210218996525451 True\n",
      "0.75 C10 0.9203944006412059 True\n",
      "0.75 C11 0.9199956844892612 True\n",
      "0.75 C13 0.9204102053574613 True\n",
      "0.75 C14 0.9205487229118785 True\n",
      "0.9 C2 0.920006456876584 True\n",
      "0.9 C3 0.9212837185780413 True\n",
      "0.9 C5 0.9193946359351762 False\n",
      "0.9 C6 0.9202151066953561 True\n",
      "0.9 C8 0.9201764721167557 True\n",
      "0.9 C9 0.9200695937939845 True\n",
      "0.9 C11 0.9195494387169016 False\n",
      "0.9 C13 0.9201650888471642 True\n",
      "0.9 C14 0.9202578498297024 True\n"
     ]
    }
   ],
   "source": [
    "C_cols = [col for col in useful_vars if col.startswith('C') and '_' not in col]\n",
    "results_c_cols = {}\n",
    "for decile in [0.75,0.9]:\n",
    "    for col in C_cols: \n",
    "        X_subsample[col+'_third_quartile'] = X_subsample.groupby('uid3')[col].transform(lambda x: x > x.quantile(decile))\n",
    "        X_valid[col+'_third_quartile'] = X_valid.groupby('uid3')[col].transform(lambda x: x > x.quantile(decile))\n",
    "        \n",
    "        tr_data = lgb.Dataset(X_subsample[useful_vars.tolist()+[col+'_third_quartile']], label=y_subsample)\n",
    "        vl_data = lgb.Dataset(X_valid[useful_vars.tolist()+[col+'_third_quartile']], label=y_valid)  \n",
    "            \n",
    "        estimator3 = lgb.train(\n",
    "                    lgb_params,\n",
    "                    tr_data,\n",
    "                    valid_sets = [tr_data, vl_data],\n",
    "                    verbose_eval = 0) \n",
    "    \n",
    "        print(decile, col, estimator3.best_score['valid_1']['auc'], estimator3.best_score['valid_1']['auc'] > 0.919665)\n",
    "        results_c_cols[col+str(decile)] = estimator3.best_score['valid_1']['auc'] - 0.919665\n",
    "        del(X_subsample[col+'_third_quartile'])\n",
    "        del(X_valid[col+'_third_quartile'])"
   ]
  },
  {
   "cell_type": "code",
   "execution_count": 164,
   "metadata": {},
   "outputs": [
    {
     "name": "stdout",
     "output_type": "stream",
     "text": [
      "C10.75 0.054219288884826966\n",
      "C20.75 0.9757053920135261\n",
      "C30.75 1.6187185780413005\n",
      "C50.75 1.2103437814464657\n",
      "C60.75 0.9994255035182809\n",
      "C80.75 0.9481672663296248\n",
      "C90.75 1.3568996525451515\n",
      "C100.75 0.7294006412059684\n",
      "C110.75 0.33068448926121263\n",
      "C130.75 0.7452053574613648\n",
      "C140.75 0.8837229118785483\n",
      "C10.9 0.06720798687742668\n",
      "C20.9 0.34145687658404533\n",
      "C30.9 1.6187185780413005\n",
      "C50.9 -0.2703640648237249\n",
      "C60.9 0.5501066953561562\n",
      "C80.9 0.511472116755729\n",
      "C90.9 0.4045937939844979\n",
      "C100.9 0.6362448201281401\n",
      "C110.9 -0.11556128309830882\n",
      "C130.9 0.5000888471642373\n",
      "C140.9 0.5928498297024243\n"
     ]
    }
   ],
   "source": [
    "# Fonctionne mieux avec les 0.75\n",
    "for key, value in results_c_cols.items():\n",
    "    print(key, value*1000)"
   ]
  },
  {
   "cell_type": "code",
   "execution_count": null,
   "metadata": {},
   "outputs": [],
   "source": []
  },
  {
   "cell_type": "code",
   "execution_count": 112,
   "metadata": {},
   "outputs": [],
   "source": [
    "usecols = pd.read_csv('useful_vars.csv')"
   ]
  },
  {
   "cell_type": "code",
   "execution_count": null,
   "metadata": {},
   "outputs": [],
   "source": []
  },
  {
   "cell_type": "code",
   "execution_count": null,
   "metadata": {},
   "outputs": [],
   "source": [
    "X_subsample['AMT_95'] = X_subsample.groupby('uid3')['TransactionAmt'].transform(lambda x:  x > x.quantile(0.95))\n",
    "X_subsample['AMT_85'] = X_subsample.groupby('uid3')['TransactionAmt'].transform(lambda x:  x > x.quantile(0.85))\n",
    "X_subsample['AMT_75'] = X_subsample.groupby('uid3')['TransactionAmt'].transform(lambda x:  x > x.quantile(0.75))\n",
    "X_subsample['AMT_65'] = X_subsample.groupby('uid3')['TransactionAmt'].transform(lambda x:  x > x.quantile(0.65))\n",
    "X_subsample['AMT_55'] = X_subsample.groupby('uid3')['TransactionAmt'].transform(lambda x:  x > x.quantile(0.55))\n",
    "X_subsample['AMT_HH'] = X_subsample['AMT_55'] +X_subsample['AMT_65'] +X_subsample['AMT_75'] +X_subsample['AMT_85'] +X_subsample['AMT_95'] \n",
    "del(X_subsample['AMT_95'])\n",
    "del(X_subsample['AMT_85'])\n",
    "del(X_subsample['AMT_75'])\n",
    "del(X_subsample['AMT_65'])\n",
    "del(X_subsample['AMT_55'])\n",
    "X_valid['AMT_95'] = X_valid.groupby('uid3')['TransactionAmt'].transform(lambda x:  x > x.quantile(0.95))\n",
    "X_valid['AMT_85'] = X_valid.groupby('uid3')['TransactionAmt'].transform(lambda x:  x > x.quantile(0.85))\n",
    "X_valid['AMT_75'] = X_valid.groupby('uid3')['TransactionAmt'].transform(lambda x:  x > x.quantile(0.75))\n",
    "X_valid['AMT_65'] = X_valid.groupby('uid3')['TransactionAmt'].transform(lambda x:  x > x.quantile(0.65))\n",
    "X_valid['AMT_55'] = X_valid.groupby('uid3')['TransactionAmt'].transform(lambda x:  x > x.quantile(0.55))\n",
    "X_valid['AMT_HH'] = X_valid['AMT_55'] +X_valid['AMT_65'] +X_valid['AMT_75'] +X_valid['AMT_85'] +X_valid['AMT_95'] \n",
    "del(X_valid['AMT_95'])\n",
    "del(X_valid['AMT_85'])\n",
    "del(X_valid['AMT_75'])\n",
    "del(X_valid['AMT_65'])\n",
    "del(X_valid['AMT_55'])"
   ]
  },
  {
   "cell_type": "code",
   "execution_count": 122,
   "metadata": {},
   "outputs": [
    {
     "name": "stdout",
     "output_type": "stream",
     "text": [
      "Training until validation scores don't improve for 100 rounds.\n",
      "[100]\ttraining's auc: 0.96413\tvalid_1's auc: 0.895037\n",
      "[200]\ttraining's auc: 0.979642\tvalid_1's auc: 0.905219\n",
      "[300]\ttraining's auc: 0.989962\tvalid_1's auc: 0.912848\n",
      "[400]\ttraining's auc: 0.995617\tvalid_1's auc: 0.917755\n",
      "[500]\ttraining's auc: 0.998274\tvalid_1's auc: 0.919999\n",
      "[600]\ttraining's auc: 0.999402\tvalid_1's auc: 0.920786\n",
      "Early stopping, best iteration is:\n",
      "[580]\ttraining's auc: 0.999255\tvalid_1's auc: 0.920918\n"
     ]
    }
   ],
   "source": [
    "tr_data = lgb.Dataset(X_subsample[usecols['cols'].tolist()+['AMT_HH']], label=y_subsample)\n",
    "vl_data = lgb.Dataset(X_valid[usecols['cols'].tolist()+['AMT_HH']], label=y_valid)  \n",
    "\n",
    "estimator2 = lgb.train(\n",
    "                lgb_params,\n",
    "                tr_data,\n",
    "                valid_sets = [tr_data, vl_data],\n",
    "                verbose_eval = 100)"
   ]
  },
  {
   "cell_type": "code",
   "execution_count": 123,
   "metadata": {},
   "outputs": [
    {
     "name": "stdout",
     "output_type": "stream",
     "text": [
      "Training until validation scores don't improve for 100 rounds.\n",
      "[100]\ttraining's auc: 0.964518\tvalid_1's auc: 0.896355\n",
      "[200]\ttraining's auc: 0.979766\tvalid_1's auc: 0.905779\n",
      "[300]\ttraining's auc: 0.990106\tvalid_1's auc: 0.913728\n",
      "[400]\ttraining's auc: 0.995657\tvalid_1's auc: 0.918275\n",
      "[500]\ttraining's auc: 0.998291\tvalid_1's auc: 0.920023\n",
      "[600]\ttraining's auc: 0.999401\tvalid_1's auc: 0.920812\n",
      "[700]\ttraining's auc: 0.999826\tvalid_1's auc: 0.921461\n",
      "[800]\ttraining's auc: 0.999959\tvalid_1's auc: 0.921538\n",
      "Did not meet early stopping. Best iteration is:\n",
      "[800]\ttraining's auc: 0.999959\tvalid_1's auc: 0.921538\n"
     ]
    }
   ],
   "source": [
    "tr_data = lgb.Dataset(X_subsample[usecols['cols'].tolist()], label=y_subsample)\n",
    "vl_data = lgb.Dataset(X_valid[usecols['cols'].tolist()], label=y_valid)  \n",
    "\n",
    "estimator2 = lgb.train(\n",
    "                lgb_params,\n",
    "                tr_data,\n",
    "                valid_sets = [tr_data, vl_data],\n",
    "\n",
    "    verbose_eval = 100)"
   ]
  },
  {
   "cell_type": "code",
   "execution_count": 128,
   "metadata": {},
   "outputs": [
    {
     "name": "stdout",
     "output_type": "stream",
     "text": [
      "Training until validation scores don't improve for 100 rounds.\n",
      "[100]\ttraining's auc: 0.964171\tvalid_1's auc: 0.894751\n",
      "[200]\ttraining's auc: 0.979653\tvalid_1's auc: 0.905251\n",
      "[300]\ttraining's auc: 0.98997\tvalid_1's auc: 0.912885\n",
      "[400]\ttraining's auc: 0.995598\tvalid_1's auc: 0.917583\n",
      "[500]\ttraining's auc: 0.998274\tvalid_1's auc: 0.919519\n",
      "[600]\ttraining's auc: 0.999397\tvalid_1's auc: 0.920243\n",
      "[700]\ttraining's auc: 0.999825\tvalid_1's auc: 0.920638\n",
      "[800]\ttraining's auc: 0.999958\tvalid_1's auc: 0.920642\n",
      "Did not meet early stopping. Best iteration is:\n",
      "[800]\ttraining's auc: 0.999958\tvalid_1's auc: 0.920642\n"
     ]
    }
   ],
   "source": [
    "X_subsample['AMT_95'] = X_subsample.groupby('uid3')['TransactionAmt'].transform(lambda x:  x < x.quantile(0.05))\n",
    "X_valid['AMT_95'] = X_valid.groupby('uid3')['TransactionAmt'].transform(lambda x:  x < x.quantile(0.05))\n",
    "tr_data = lgb.Dataset(X_subsample[usecols['cols'].tolist()+['AMT_95']], label=y_subsample)\n",
    "vl_data = lgb.Dataset(X_valid[usecols['cols'].tolist()+['AMT_95']], label=y_valid)  \n",
    "\n",
    "estimator2 = lgb.train(\n",
    "                lgb_params,\n",
    "                tr_data,\n",
    "                valid_sets = [tr_data, vl_data],\n",
    "                verbose_eval = 100)"
   ]
  },
  {
   "cell_type": "code",
   "execution_count": 149,
   "metadata": {},
   "outputs": [
    {
     "data": {
      "text/plain": [
       "Int64Index([3128933, 2991817, 3177423, 3047754, 3181795, 2989705, 3392728,\n",
       "            3315764, 3069830, 3356330,\n",
       "            ...\n",
       "            3353014, 3349042, 3350195, 3257291, 3387533, 3356499, 2994892,\n",
       "            3040207, 3127807, 3077845],\n",
       "           dtype='int64', name='TransactionID', length=54594)"
      ]
     },
     "execution_count": 149,
     "metadata": {},
     "output_type": "execute_result"
    }
   ],
   "source": []
  },
  {
   "cell_type": "code",
   "execution_count": 204,
   "metadata": {},
   "outputs": [],
   "source": [
    "X_subsample['DT'] = train.loc[X_subsample.index]['DT']\n",
    "X_subsample['DT_H'] = X_subsample['DT'].dt.hour\n",
    "X_valid['DT'] = train.loc[X_valid.index]['DT']\n",
    "X_valid['DT_H'] = X_valid['DT'].dt.hour\n",
    "\n",
    "X_subsample['DT_H95'] = X_subsample.groupby('uid3')['DT_H'].transform(lambda x:  x > x.quantile(0.95))\n",
    "X_subsample['DT_H_mean_per_uid'] = X_subsample.groupby('uid3')['DT_H'].transform('mean')\n",
    "X_subsample['DT_H95_std_per_uid'] = X_subsample.groupby('uid3')['DT_H'].transform('std')"
   ]
  },
  {
   "cell_type": "code",
   "execution_count": 205,
   "metadata": {},
   "outputs": [
    {
     "name": "stdout",
     "output_type": "stream",
     "text": [
      "Training until validation scores don't improve for 100 rounds.\n",
      "[100]\ttraining's auc: 0.964343\tvalid_1's auc: 0.895109\n",
      "[200]\ttraining's auc: 0.979715\tvalid_1's auc: 0.905294\n",
      "[300]\ttraining's auc: 0.990008\tvalid_1's auc: 0.912558\n",
      "[400]\ttraining's auc: 0.995623\tvalid_1's auc: 0.917221\n",
      "[500]\ttraining's auc: 0.998265\tvalid_1's auc: 0.919516\n",
      "[600]\ttraining's auc: 0.999395\tvalid_1's auc: 0.920333\n",
      "[700]\ttraining's auc: 0.999823\tvalid_1's auc: 0.920449\n",
      "Early stopping, best iteration is:\n",
      "[692]\ttraining's auc: 0.999803\tvalid_1's auc: 0.920487\n"
     ]
    }
   ],
   "source": [
    "X_subsample['DT_H95'] = X_subsample.groupby('uid3')['DT_H'].transform(lambda x:  x > x.quantile(0.95))\n",
    "X_valid['DT_H95'] = X_valid.groupby('uid3')['DT_H'].transform(lambda x:  x > x.quantile(0.95))\n",
    "tr_data = lgb.Dataset(X_subsample[usecols['cols'].tolist()+['DT_H95']], label=y_subsample)\n",
    "vl_data = lgb.Dataset(X_valid[usecols['cols'].tolist()+['DT_H95']], label=y_valid)  \n",
    "\n",
    "estimator2 = lgb.train(\n",
    "                lgb_params,\n",
    "                tr_data,\n",
    "                valid_sets = [tr_data, vl_data],\n",
    "                verbose_eval = 100)"
   ]
  },
  {
   "cell_type": "code",
   "execution_count": 206,
   "metadata": {},
   "outputs": [
    {
     "name": "stdout",
     "output_type": "stream",
     "text": [
      "Training until validation scores don't improve for 100 rounds.\n",
      "[100]\ttraining's auc: 0.964534\tvalid_1's auc: 0.894206\n",
      "[200]\ttraining's auc: 0.980164\tvalid_1's auc: 0.904134\n",
      "[300]\ttraining's auc: 0.990495\tvalid_1's auc: 0.911428\n",
      "[400]\ttraining's auc: 0.995937\tvalid_1's auc: 0.916069\n",
      "[500]\ttraining's auc: 0.99843\tvalid_1's auc: 0.91806\n",
      "[600]\ttraining's auc: 0.999463\tvalid_1's auc: 0.918942\n",
      "[700]\ttraining's auc: 0.999848\tvalid_1's auc: 0.919632\n",
      "[800]\ttraining's auc: 0.999965\tvalid_1's auc: 0.919961\n",
      "Did not meet early stopping. Best iteration is:\n",
      "[800]\ttraining's auc: 0.999965\tvalid_1's auc: 0.919961\n"
     ]
    }
   ],
   "source": [
    "X_subsample['DT_H_mean_per_uid'] = X_subsample.groupby('uid3')['DT_H'].transform('mean')\n",
    "X_valid['DT_H_mean_per_uid'] = X_valid.groupby('uid3')['DT_H'].transform('mean')\n",
    "tr_data = lgb.Dataset(X_subsample[usecols['cols'].tolist()+['DT_H_mean_per_uid']], label=y_subsample)\n",
    "vl_data = lgb.Dataset(X_valid[usecols['cols'].tolist()+['DT_H_mean_per_uid']], label=y_valid)  \n",
    "\n",
    "estimator2 = lgb.train(\n",
    "                lgb_params,\n",
    "                tr_data,\n",
    "                valid_sets = [tr_data, vl_data],\n",
    "                verbose_eval = 100)"
   ]
  },
  {
   "cell_type": "code",
   "execution_count": 207,
   "metadata": {},
   "outputs": [
    {
     "name": "stdout",
     "output_type": "stream",
     "text": [
      "Training until validation scores don't improve for 100 rounds.\n",
      "[100]\ttraining's auc: 0.966781\tvalid_1's auc: 0.892308\n",
      "[200]\ttraining's auc: 0.98147\tvalid_1's auc: 0.900248\n",
      "[300]\ttraining's auc: 0.990941\tvalid_1's auc: 0.906536\n",
      "[400]\ttraining's auc: 0.996049\tvalid_1's auc: 0.909521\n",
      "[500]\ttraining's auc: 0.998464\tvalid_1's auc: 0.911599\n",
      "[600]\ttraining's auc: 0.999474\tvalid_1's auc: 0.912769\n",
      "[700]\ttraining's auc: 0.999851\tvalid_1's auc: 0.913405\n"
     ]
    }
   ],
   "source": [
    "X_subsample['DT_H_std_per_uid'] = X_subsample.groupby('uid3')['DT_H'].transform('std')\n",
    "X_valid['DT_H_std_per_uid'] = X_valid.groupby('uid3')['DT_H'].transform('std')\n",
    "tr_data = lgb.Dataset(X_subsample[usecols['cols'].tolist()+['DT_H_std_per_uid']], label=y_subsample)\n",
    "vl_data = lgb.Dataset(X_valid[usecols['cols'].tolist()+['DT_H_std_per_uid']], label=y_valid)  \n",
    "\n",
    "estimator2 = lgb.train(\n",
    "                lgb_params,\n",
    "                tr_data,\n",
    "                valid_sets = [tr_data, vl_data],\n",
    "                verbose_eval = 100)"
   ]
  },
  {
   "cell_type": "code",
   "execution_count": null,
   "metadata": {},
   "outputs": [],
   "source": []
  },
  {
   "cell_type": "code",
   "execution_count": null,
   "metadata": {},
   "outputs": [],
   "source": []
  },
  {
   "cell_type": "markdown",
   "metadata": {},
   "source": [
    "# Most important variables treatment"
   ]
  },
  {
   "cell_type": "code",
   "execution_count": 216,
   "metadata": {},
   "outputs": [
    {
     "data": {
      "text/plain": [
       "<matplotlib.axes._subplots.AxesSubplot at 0x7f9d27027b70>"
      ]
     },
     "execution_count": 216,
     "metadata": {},
     "output_type": "execute_result"
    },
    {
     "data": {
      "image/png": "[encoded data removed]",
      "text/plain": [
       "<Figure size 432x288 with 1 Axes>"
      ]
     },
     "metadata": {
      "needs_background": "light"
     },
     "output_type": "display_data"
    }
   ],
   "source": [
    "sns.distplot(X_subsample[y_subsample==1]['C1'])\n",
    "sns.distplot(X_subsample[y_subsample==0]['C1'])"
   ]
  },
  {
   "cell_type": "code",
   "execution_count": 109,
   "metadata": {},
   "outputs": [
    {
     "data": {
      "text/plain": [
       "0.0"
      ]
     },
     "execution_count": 109,
     "metadata": {},
     "output_type": "execute_result"
    }
   ],
   "source": [
    "X_subsample['C13'].min()"
   ]
  },
  {
   "cell_type": "code",
   "execution_count": 119,
   "metadata": {},
   "outputs": [
    {
     "data": {
      "text/plain": [
       "<matplotlib.axes._subplots.AxesSubplot at 0x7fd522fbff60>"
      ]
     },
     "execution_count": 119,
     "metadata": {},
     "output_type": "execute_result"
    },
    {
     "data": {
      "image/png": "[encoded data removed]",
      "text/plain": [
       "<Figure size 432x288 with 1 Axes>"
      ]
     },
     "metadata": {
      "needs_background": "light"
     },
     "output_type": "display_data"
    }
   ],
   "source": [
    "sns.distplot(np.log1p(X_subsample[y_subsample==1]['C14']))\n",
    "sns.distplot(np.log1p(X_subsample[y_subsample==0]['C14']))"
   ]
  },
  {
   "cell_type": "code",
   "execution_count": 114,
   "metadata": {},
   "outputs": [
    {
     "data": {
      "text/plain": [
       "<matplotlib.axes._subplots.AxesSubplot at 0x7fd523ebb630>"
      ]
     },
     "execution_count": 114,
     "metadata": {},
     "output_type": "execute_result"
    },
    {
     "data": {
      "image/png": "[encoded data removed]",
      "text/plain": [
       "<Figure size 432x288 with 1 Axes>"
      ]
     },
     "metadata": {
      "needs_background": "light"
     },
     "output_type": "display_data"
    }
   ],
   "source": [
    "sns.distplot(np.log1p(X_subsample[y_subsample==1]['C13']) + np.log1p(X_subsample[y_subsample==1]['C1']))\n",
    "sns.distplot(np.log1p(X_subsample[y_subsample==0]['C13']) + np.log1p(X_subsample[y_subsample==0]['C1']))"
   ]
  },
  {
   "cell_type": "code",
   "execution_count": 230,
   "metadata": {},
   "outputs": [
    {
     "data": {
      "text/plain": [
       "1.0     0.557134\n",
       "2.0     0.175026\n",
       "3.0     0.083963\n",
       "4.0     0.044632\n",
       "5.0     0.027229\n",
       "6.0     0.017153\n",
       "7.0     0.011277\n",
       "8.0     0.008676\n",
       "9.0     0.005526\n",
       "10.0    0.004951\n",
       "Name: C1, dtype: float64"
      ]
     },
     "execution_count": 230,
     "metadata": {},
     "output_type": "execute_result"
    }
   ],
   "source": [
    "(X_subsample[y_subsample==0]['C1'].value_counts() / len(X_subsample[y_subsample==0]))[:10]"
   ]
  },
  {
   "cell_type": "code",
   "execution_count": 231,
   "metadata": {},
   "outputs": [
    {
     "data": {
      "text/plain": [
       "1.0     0.375205\n",
       "2.0     0.154384\n",
       "3.0     0.082945\n",
       "4.0     0.052466\n",
       "5.0     0.051096\n",
       "6.0     0.029384\n",
       "7.0     0.020890\n",
       "8.0     0.015411\n",
       "10.0    0.013562\n",
       "Name: C1, dtype: float64"
      ]
     },
     "execution_count": 231,
     "metadata": {},
     "output_type": "execute_result"
    }
   ],
   "source": [
    "(X_subsample[y_subsample==1]['C1'].value_counts() / len(X_subsample[y_subsample==1]))[:10]"
   ]
  },
  {
   "cell_type": "markdown",
   "metadata": {},
   "source": [
    "# Add more Target_encoding"
   ]
  },
  {
   "cell_type": "code",
   "execution_count": 180,
   "metadata": {},
   "outputs": [],
   "source": [
    "# FAIL"
   ]
  },
  {
   "cell_type": "code",
   "execution_count": 87,
   "metadata": {},
   "outputs": [
    {
     "data": {
      "text/html": [
       "<div>\n",
       "<style scoped>\n",
       "    .dataframe tbody tr th:only-of-type {\n",
       "        vertical-align: middle;\n",
       "    }\n",
       "\n",
       "    .dataframe tbody tr th {\n",
       "        vertical-align: top;\n",
       "    }\n",
       "\n",
       "    .dataframe thead th {\n",
       "        text-align: right;\n",
       "    }\n",
       "</style>\n",
       "<table border=\"1\" class=\"dataframe\">\n",
       "  <thead>\n",
       "    <tr style=\"text-align: right;\">\n",
       "      <th></th>\n",
       "      <th>permut_importances</th>\n",
       "      <th>cols</th>\n",
       "    </tr>\n",
       "  </thead>\n",
       "  <tbody>\n",
       "    <tr>\n",
       "      <th>0</th>\n",
       "      <td>0.347677</td>\n",
       "      <td>TransactionAmt</td>\n",
       "    </tr>\n",
       "    <tr>\n",
       "      <th>1</th>\n",
       "      <td>0.043620</td>\n",
       "      <td>ProductCD</td>\n",
       "    </tr>\n",
       "    <tr>\n",
       "      <th>2</th>\n",
       "      <td>0.050782</td>\n",
       "      <td>card1</td>\n",
       "    </tr>\n",
       "    <tr>\n",
       "      <th>3</th>\n",
       "      <td>0.072031</td>\n",
       "      <td>card2</td>\n",
       "    </tr>\n",
       "    <tr>\n",
       "      <th>4</th>\n",
       "      <td>0.000920</td>\n",
       "      <td>card3</td>\n",
       "    </tr>\n",
       "  </tbody>\n",
       "</table>\n",
       "</div>"
      ],
      "text/plain": [
       "   permut_importances            cols\n",
       "0            0.347677  TransactionAmt\n",
       "1            0.043620       ProductCD\n",
       "2            0.050782           card1\n",
       "3            0.072031           card2\n",
       "4            0.000920           card3"
      ]
     },
     "execution_count": 87,
     "metadata": {},
     "output_type": "execute_result"
    }
   ],
   "source": [
    "permut_imp_df = pd.read_csv('permut_imp_df.csv')\n",
    "permut_imp_df.head()"
   ]
  },
  {
   "cell_type": "code",
   "execution_count": 93,
   "metadata": {},
   "outputs": [],
   "source": [
    "useful_cols = permut_imp_df[ permut_imp_df['permut_importances'] > 0.001]['cols'].tolist()"
   ]
  },
  {
   "cell_type": "code",
   "execution_count": 94,
   "metadata": {},
   "outputs": [
    {
     "name": "stdout",
     "output_type": "stream",
     "text": [
      "Training until validation scores don't improve for 100 rounds.\n",
      "[100]\ttraining's auc: 0.963546\tvalid_1's auc: 0.895558\n",
      "[200]\ttraining's auc: 0.97926\tvalid_1's auc: 0.906262\n",
      "[300]\ttraining's auc: 0.989719\tvalid_1's auc: 0.913863\n",
      "[400]\ttraining's auc: 0.995402\tvalid_1's auc: 0.918324\n",
      "[500]\ttraining's auc: 0.998171\tvalid_1's auc: 0.920534\n",
      "[600]\ttraining's auc: 0.999348\tvalid_1's auc: 0.92151\n",
      "[700]\ttraining's auc: 0.999795\tvalid_1's auc: 0.921841\n",
      "[800]\ttraining's auc: 0.999946\tvalid_1's auc: 0.921732\n",
      "Did not meet early stopping. Best iteration is:\n",
      "[800]\ttraining's auc: 0.999946\tvalid_1's auc: 0.921732\n"
     ]
    }
   ],
   "source": [
    "#baseline\n",
    "tr_data = lgb.Dataset(X_subsample[useful_cols], label=y_subsample)\n",
    "vl_data = lgb.Dataset(X_valid[useful_cols], label=y_valid)  \n",
    "        \n",
    "estimator = lgb.train(\n",
    "                lgb_params,\n",
    "                tr_data,\n",
    "                valid_sets = [tr_data, vl_data],\n",
    "                verbose_eval = 100) "
   ]
  },
  {
   "cell_type": "code",
   "execution_count": null,
   "metadata": {},
   "outputs": [],
   "source": [
    "categorical_cols = X_subsample.select_dtypes('category').columns\n",
    "X_subsample['isFraud'] = y_subsample\n",
    "for col in categorical_cols:\n",
    "    temp_dict = X_subsample.groupby([col])['isFraud'].agg(['mean']).reset_index().rename(\n",
    "                                                        columns={'mean': col+'_target_mean'})\n",
    "    temp_dict.index = temp_dict[col].values\n",
    "    temp_dict = temp_dict[col+'_target_mean'].to_dict()\n",
    "\n",
    "    X_subsample[col+'_target_mean'] = X_subsample[col].map(temp_dict)\n",
    "    X_valid[col+'_target_mean']  = X_valid[col].map(temp_dict)\n",
    "del(X_subsample['isFraud'])\n",
    "\n",
    "# ProductCD\n",
    "# card1 - card6\n",
    "# addr1, addr2\n",
    "# Pemaildomain Remaildomain\n",
    "# M1 - M9"
   ]
  },
  {
   "cell_type": "code",
   "execution_count": null,
   "metadata": {},
   "outputs": [],
   "source": [
    "# didn't work\n",
    "results_categories = {}\n",
    "for col in categorical_cols:\n",
    "    tr_data = lgb.Dataset(X_subsample[useful_cols +[col+'_target_mean']], label=y_subsample)\n",
    "    vl_data = lgb.Dataset(X_valid[useful_cols+[col+'_target_mean']], label=y_valid)  \n",
    "        \n",
    "    estimator = lgb.train(\n",
    "                lgb_params,\n",
    "                tr_data,\n",
    "                valid_sets = [tr_data, vl_data],\n",
    "                verbose_eval = 0) \n",
    "    print(col+'_target_mean', estimator.best_score['valid_1']['auc'])\n",
    "    results_categories[col+'_target_mean'] = estimator.best_score['valid_1']['auc'] - 0.921732"
   ]
  },
  {
   "cell_type": "code",
   "execution_count": 184,
   "metadata": {},
   "outputs": [
    {
     "data": {
      "text/plain": [
       "<matplotlib.axes._subplots.AxesSubplot at 0x7fd4f2dc80f0>"
      ]
     },
     "execution_count": 184,
     "metadata": {},
     "output_type": "execute_result"
    },
    {
     "data": {
      "image/png": "[encoded data removed]",
      "text/plain": [
       "<Figure size 432x288 with 1 Axes>"
      ]
     },
     "metadata": {
      "needs_background": "light"
     },
     "output_type": "display_data"
    }
   ],
   "source": [
    "sns.distplot(np.log1p(X_subsample[y_subsample==1]['V217'].dropna()))\n",
    "sns.distplot(np.log1p(X_subsample[y_subsample==0]['V217'].dropna()))"
   ]
  },
  {
   "cell_type": "code",
   "execution_count": 187,
   "metadata": {},
   "outputs": [
    {
     "name": "stdout",
     "output_type": "stream",
     "text": [
      "Training until validation scores don't improve for 100 rounds.\n",
      "[100]\ttraining's auc: 0.963548\tvalid_1's auc: 0.89261\n",
      "[200]\ttraining's auc: 0.979442\tvalid_1's auc: 0.90421\n",
      "[300]\ttraining's auc: 0.989825\tvalid_1's auc: 0.911988\n",
      "[400]\ttraining's auc: 0.995464\tvalid_1's auc: 0.916783\n",
      "[500]\ttraining's auc: 0.998203\tvalid_1's auc: 0.919495\n",
      "[600]\ttraining's auc: 0.999355\tvalid_1's auc: 0.920534\n",
      "[700]\ttraining's auc: 0.999804\tvalid_1's auc: 0.920776\n",
      "[800]\ttraining's auc: 0.999949\tvalid_1's auc: 0.92123\n",
      "Did not meet early stopping. Best iteration is:\n",
      "[800]\ttraining's auc: 0.999949\tvalid_1's auc: 0.92123\n"
     ]
    }
   ],
   "source": [
    "X_subsample['V217log'] = np.log1p(X_subsample['V217'] )\n",
    "X_valid['V217log'] = np.log1p(X_valid['V217'] )\n",
    "tr_data = lgb.Dataset(X_subsample[useful_cols + ['V217log']], label=y_subsample)\n",
    "vl_data = lgb.Dataset(X_valid[useful_cols + ['V217log']], label=y_valid)  \n",
    "        \n",
    "estimator = lgb.train(\n",
    "                lgb_params,\n",
    "                tr_data,\n",
    "                valid_sets = [tr_data, vl_data],\n",
    "                verbose_eval = 100) "
   ]
  },
  {
   "cell_type": "code",
   "execution_count": null,
   "metadata": {},
   "outputs": [],
   "source": []
  },
  {
   "cell_type": "markdown",
   "metadata": {},
   "source": [
    "### some V cols "
   ]
  },
  {
   "cell_type": "code",
   "execution_count": 195,
   "metadata": {},
   "outputs": [
    {
     "data": {
      "text/plain": [
       "0    30614\n",
       "1     7308\n",
       "Name: isFraud, dtype: int64"
      ]
     },
     "execution_count": 195,
     "metadata": {},
     "output_type": "execute_result"
    }
   ],
   "source": [
    "y_subsample[X_subsample[ X_subsample['V217'].isnull()].index].value_counts()"
   ]
  },
  {
   "cell_type": "code",
   "execution_count": 200,
   "metadata": {},
   "outputs": [
    {
     "data": {
      "text/plain": [
       "0    9380\n",
       "1    7292\n",
       "Name: isFraud, dtype: int64"
      ]
     },
     "execution_count": 200,
     "metadata": {},
     "output_type": "execute_result"
    }
   ],
   "source": [
    "y_subsample[X_subsample[ X_subsample['V217'].notnull()].index].value_counts()"
   ]
  },
  {
   "cell_type": "code",
   "execution_count": 201,
   "metadata": {},
   "outputs": [
    {
     "data": {
      "text/plain": [
       "0    9380\n",
       "1    7292\n",
       "Name: isFraud, dtype: int64"
      ]
     },
     "execution_count": 201,
     "metadata": {},
     "output_type": "execute_result"
    }
   ],
   "source": [
    "y_subsample[X_subsample[ X_subsample['V218'].notnull()].index].value_counts()"
   ]
  },
  {
   "cell_type": "code",
   "execution_count": 202,
   "metadata": {},
   "outputs": [
    {
     "data": {
      "text/plain": [
       "0    9380\n",
       "1    7292\n",
       "Name: isFraud, dtype: int64"
      ]
     },
     "execution_count": 202,
     "metadata": {},
     "output_type": "execute_result"
    }
   ],
   "source": [
    "y_subsample[X_subsample[ X_subsample['V219'].notnull()].index].value_counts()"
   ]
  },
  {
   "cell_type": "code",
   "execution_count": 205,
   "metadata": {},
   "outputs": [
    {
     "data": {
      "text/plain": [
       "True"
      ]
     },
     "execution_count": 205,
     "metadata": {},
     "output_type": "execute_result"
    }
   ],
   "source": [
    "(X_subsample['V218'].notnull().index == X_subsample['V217'].notnull().index ).all()"
   ]
  },
  {
   "cell_type": "code",
   "execution_count": 221,
   "metadata": {},
   "outputs": [
    {
     "data": {
      "text/plain": [
       "0.9198656429942419"
      ]
     },
     "execution_count": 221,
     "metadata": {},
     "output_type": "execute_result"
    }
   ],
   "source": [
    "(X_subsample[ X_subsample['V217'].notnull() ]['V218'] == X_subsample[ X_subsample['V218'].notnull() ]['V219']).mean()"
   ]
  },
  {
   "cell_type": "code",
   "execution_count": 208,
   "metadata": {},
   "outputs": [
    {
     "data": {
      "text/plain": [
       "True"
      ]
     },
     "execution_count": 208,
     "metadata": {},
     "output_type": "execute_result"
    }
   ],
   "source": [
    "(X_subsample['V217'].notnull() == X_subsample['V219'].notnull()).all()"
   ]
  },
  {
   "cell_type": "code",
   "execution_count": 210,
   "metadata": {},
   "outputs": [
    {
     "data": {
      "text/html": [
       "<div>\n",
       "<style scoped>\n",
       "    .dataframe tbody tr th:only-of-type {\n",
       "        vertical-align: middle;\n",
       "    }\n",
       "\n",
       "    .dataframe tbody tr th {\n",
       "        vertical-align: top;\n",
       "    }\n",
       "\n",
       "    .dataframe thead th {\n",
       "        text-align: right;\n",
       "    }\n",
       "</style>\n",
       "<table border=\"1\" class=\"dataframe\">\n",
       "  <thead>\n",
       "    <tr style=\"text-align: right;\">\n",
       "      <th></th>\n",
       "      <th>V217</th>\n",
       "      <th>V218</th>\n",
       "      <th>V219</th>\n",
       "    </tr>\n",
       "    <tr>\n",
       "      <th>TransactionID</th>\n",
       "      <th></th>\n",
       "      <th></th>\n",
       "      <th></th>\n",
       "    </tr>\n",
       "  </thead>\n",
       "  <tbody>\n",
       "    <tr>\n",
       "      <th>3101755</th>\n",
       "      <td>NaN</td>\n",
       "      <td>NaN</td>\n",
       "      <td>NaN</td>\n",
       "    </tr>\n",
       "    <tr>\n",
       "      <th>3391469</th>\n",
       "      <td>3.0</td>\n",
       "      <td>3.0</td>\n",
       "      <td>3.0</td>\n",
       "    </tr>\n",
       "    <tr>\n",
       "      <th>3365074</th>\n",
       "      <td>0.0</td>\n",
       "      <td>0.0</td>\n",
       "      <td>0.0</td>\n",
       "    </tr>\n",
       "    <tr>\n",
       "      <th>3075855</th>\n",
       "      <td>NaN</td>\n",
       "      <td>NaN</td>\n",
       "      <td>NaN</td>\n",
       "    </tr>\n",
       "    <tr>\n",
       "      <th>2994302</th>\n",
       "      <td>NaN</td>\n",
       "      <td>NaN</td>\n",
       "      <td>NaN</td>\n",
       "    </tr>\n",
       "    <tr>\n",
       "      <th>3342225</th>\n",
       "      <td>NaN</td>\n",
       "      <td>NaN</td>\n",
       "      <td>NaN</td>\n",
       "    </tr>\n",
       "    <tr>\n",
       "      <th>3182463</th>\n",
       "      <td>NaN</td>\n",
       "      <td>NaN</td>\n",
       "      <td>NaN</td>\n",
       "    </tr>\n",
       "    <tr>\n",
       "      <th>3319836</th>\n",
       "      <td>1.0</td>\n",
       "      <td>1.0</td>\n",
       "      <td>1.0</td>\n",
       "    </tr>\n",
       "    <tr>\n",
       "      <th>3002040</th>\n",
       "      <td>NaN</td>\n",
       "      <td>NaN</td>\n",
       "      <td>NaN</td>\n",
       "    </tr>\n",
       "    <tr>\n",
       "      <th>3168559</th>\n",
       "      <td>NaN</td>\n",
       "      <td>NaN</td>\n",
       "      <td>NaN</td>\n",
       "    </tr>\n",
       "    <tr>\n",
       "      <th>3006164</th>\n",
       "      <td>12.0</td>\n",
       "      <td>14.0</td>\n",
       "      <td>14.0</td>\n",
       "    </tr>\n",
       "    <tr>\n",
       "      <th>2987594</th>\n",
       "      <td>NaN</td>\n",
       "      <td>NaN</td>\n",
       "      <td>NaN</td>\n",
       "    </tr>\n",
       "    <tr>\n",
       "      <th>3371271</th>\n",
       "      <td>NaN</td>\n",
       "      <td>NaN</td>\n",
       "      <td>NaN</td>\n",
       "    </tr>\n",
       "    <tr>\n",
       "      <th>3227595</th>\n",
       "      <td>NaN</td>\n",
       "      <td>NaN</td>\n",
       "      <td>NaN</td>\n",
       "    </tr>\n",
       "    <tr>\n",
       "      <th>3230132</th>\n",
       "      <td>NaN</td>\n",
       "      <td>NaN</td>\n",
       "      <td>NaN</td>\n",
       "    </tr>\n",
       "    <tr>\n",
       "      <th>3028031</th>\n",
       "      <td>NaN</td>\n",
       "      <td>NaN</td>\n",
       "      <td>NaN</td>\n",
       "    </tr>\n",
       "    <tr>\n",
       "      <th>3137296</th>\n",
       "      <td>1.0</td>\n",
       "      <td>1.0</td>\n",
       "      <td>1.0</td>\n",
       "    </tr>\n",
       "    <tr>\n",
       "      <th>3295766</th>\n",
       "      <td>NaN</td>\n",
       "      <td>NaN</td>\n",
       "      <td>NaN</td>\n",
       "    </tr>\n",
       "  </tbody>\n",
       "</table>\n",
       "</div>"
      ],
      "text/plain": [
       "               V217  V218  V219\n",
       "TransactionID                  \n",
       "3101755         NaN   NaN   NaN\n",
       "3391469         3.0   3.0   3.0\n",
       "3365074         0.0   0.0   0.0\n",
       "3075855         NaN   NaN   NaN\n",
       "2994302         NaN   NaN   NaN\n",
       "3342225         NaN   NaN   NaN\n",
       "3182463         NaN   NaN   NaN\n",
       "3319836         1.0   1.0   1.0\n",
       "3002040         NaN   NaN   NaN\n",
       "3168559         NaN   NaN   NaN\n",
       "3006164        12.0  14.0  14.0\n",
       "2987594         NaN   NaN   NaN\n",
       "3371271         NaN   NaN   NaN\n",
       "3227595         NaN   NaN   NaN\n",
       "3230132         NaN   NaN   NaN\n",
       "3028031         NaN   NaN   NaN\n",
       "3137296         1.0   1.0   1.0\n",
       "3295766         NaN   NaN   NaN"
      ]
     },
     "execution_count": 210,
     "metadata": {},
     "output_type": "execute_result"
    }
   ],
   "source": [
    "X_subsample[['V217', 'V218', 'V219']].sample(18)"
   ]
  },
  {
   "cell_type": "code",
   "execution_count": null,
   "metadata": {},
   "outputs": [],
   "source": [
    "# ideés: \n",
    "# -revoir le uid avec addr1__addr2 + ALLcards\n",
    "# -revoir le uid avec addr1__addr2 + ALLcards + concatALLIDS\n",
    "# -Use D columns to figure out better ways to make sure the above makes sense :\n",
    "#    see https://www.kaggle.com/akasyanama13/eda-what-s-behind-d-features\n",
    "\n",
    "# that stuff: https://www.kaggle.com/kyakovlev/ieee-fe-with-some-eda\n",
    "# and here : https://www.kaggle.com/c/ieee-fraud-detection/discussion/108467#624394"
   ]
  }
 ],
 "metadata": {
  "kernelspec": {
   "display_name": "Python 3",
   "language": "python",
   "name": "python3"
  },
  "language_info": {
   "codemirror_mode": {
    "name": "ipython",
    "version": 3
   },
   "file_extension": ".py",
   "mimetype": "text/x-python",
   "name": "python",
   "nbconvert_exporter": "python",
   "pygments_lexer": "ipython3",
   "version": "3.7.3"
  }
 },
 "nbformat": 4,
 "nbformat_minor": 2
}
