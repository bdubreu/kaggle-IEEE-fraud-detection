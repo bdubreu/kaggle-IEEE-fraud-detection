{
 "cells": [
  {
   "cell_type": "code",
   "execution_count": 1,
   "metadata": {},
   "outputs": [],
   "source": [
    "%load_ext pycodestyle_magic\n",
    "%flake8_on"
   ]
  },
  {
   "cell_type": "markdown",
   "metadata": {},
   "source": [
    "# Goals:\n",
    "* Test a different validation scheme for this competition (a few month of data, drop one month, valid one month\n",
    "* get validation/ public LB for each fold\n",
    "* see if the results correlate (i.e: is this validation strategy correct ?)"
   ]
  },
  {
   "cell_type": "code",
   "execution_count": 7,
   "metadata": {},
   "outputs": [],
   "source": [
    "import os\n",
    "\n",
    "import numpy as np\n",
    "import pandas as pd\n",
    "import matplotlib.pyplot as plt\n",
    "import seaborn as sns\n",
    "\n",
    "from sklearn import preprocessing\n",
    "from sklearn.model_selection import train_test_split\n",
    "from sklearn.metrics import roc_auc_score, f1_score, \\\n",
    "                            precision_score, recall_score\n",
    "from sklearn.ensemble import RandomForestClassifier, ExtraTreesClassifier\n",
    "from sklearn.linear_model import LogisticRegression\n",
    "import xgboost as xgb\n",
    "import lightgbm as lgb\n",
    "\n",
    "import datetime\n",
    "from reduce_mem_usage import reduce_mem_usage\n",
    "\n",
    "pd.set_option('max_columns', 100)\n",
    "pd.set_option('max_rows', 1000)"
   ]
  },
  {
   "cell_type": "code",
   "execution_count": 3,
   "metadata": {},
   "outputs": [
    {
     "name": "stdout",
     "output_type": "stream",
     "text": [
      "(590540, 433)\n",
      "(506691, 432)\n"
     ]
    }
   ],
   "source": [
    "train_transaction = pd.read_csv('input/train_transaction.csv',\n",
    "                                index_col='TransactionID')\n",
    "test_transaction = pd.read_csv('input/test_transaction.csv',\n",
    "                               index_col='TransactionID')\n",
    "\n",
    "train_identity = pd.read_csv('input/train_identity.csv',\n",
    "                             index_col='TransactionID')\n",
    "test_identity = pd.read_csv('input/test_identity.csv',\n",
    "                            index_col='TransactionID')\n",
    "\n",
    "sample_submission = pd.read_csv('input/sample_submission.csv',\n",
    "                                index_col='TransactionID')\n",
    "\n",
    "train = train_transaction.merge(train_identity, how='left',\n",
    "                                left_index=True, right_index=True)\n",
    "test = test_transaction.merge(test_identity, how='left',\n",
    "                              left_index=True, right_index=True)\n",
    "\n",
    "print(train.shape)\n",
    "print(test.shape)"
   ]
  },
  {
   "cell_type": "code",
   "execution_count": 4,
   "metadata": {},
   "outputs": [],
   "source": [
    "del train_transaction, train_identity, test_transaction, test_identity"
   ]
  },
  {
   "cell_type": "code",
   "execution_count": 5,
   "metadata": {},
   "outputs": [],
   "source": [
    "# Label Encoding\n",
    "for f in train.columns:\n",
    "    if f != 'isFraud':\n",
    "        if train[f].dtype == 'object' or test[f].dtype == 'object':\n",
    "            lbl = preprocessing.LabelEncoder()\n",
    "            lbl.fit(list(train[f].values) + list(test[f].values))\n",
    "            train[f] = lbl.transform(list(train[f].values))\n",
    "            test[f] = lbl.transform(list(test[f].values))"
   ]
  },
  {
   "cell_type": "code",
   "execution_count": 6,
   "metadata": {},
   "outputs": [],
   "source": [
    "train['RANDOM_NOISE'] = np.random.normal(size=len(train))"
   ]
  },
  {
   "cell_type": "code",
   "execution_count": 7,
   "metadata": {},
   "outputs": [],
   "source": [
    "START_DATE = datetime.datetime.strptime('2017-11-30', '%Y-%m-%d')\n",
    "\n",
    "\n",
    "def add_seconds(x):\n",
    "    return START_DATE + datetime.timedelta(seconds=x)\n",
    "\n",
    "\n",
    "train['DT'] = train['TransactionDT'].apply(add_seconds)\n",
    "test['DT'] = test['TransactionDT'].apply(add_seconds)"
   ]
  },
  {
   "cell_type": "code",
   "execution_count": 12,
   "metadata": {},
   "outputs": [
    {
     "ename": "NameError",
     "evalue": "name 'train' is not defined",
     "output_type": "error",
     "traceback": [
      "\u001b[1;31m---------------------------------------------------------------------------\u001b[0m",
      "\u001b[1;31mNameError\u001b[0m                                 Traceback (most recent call last)",
      "\u001b[1;32m<ipython-input-12-4def0bed485c>\u001b[0m in \u001b[0;36m<module>\u001b[1;34m\u001b[0m\n\u001b[0;32m      1\u001b[0m \u001b[0mTARGET\u001b[0m \u001b[1;33m=\u001b[0m \u001b[1;34m'isFraud'\u001b[0m\u001b[1;33m\u001b[0m\u001b[1;33m\u001b[0m\u001b[0m\n\u001b[0;32m      2\u001b[0m \u001b[1;31m# The June month drops entirely\u001b[0m\u001b[1;33m\u001b[0m\u001b[1;33m\u001b[0m\u001b[1;33m\u001b[0m\u001b[0m\n\u001b[1;32m----> 3\u001b[1;33m \u001b[0mprint\u001b[0m\u001b[1;33m(\u001b[0m\u001b[0mtrain\u001b[0m\u001b[1;33m[\u001b[0m\u001b[1;34m'DT'\u001b[0m\u001b[1;33m]\u001b[0m\u001b[1;33m.\u001b[0m\u001b[0mmax\u001b[0m\u001b[1;33m(\u001b[0m\u001b[1;33m)\u001b[0m\u001b[1;33m)\u001b[0m\u001b[1;33m\u001b[0m\u001b[1;33m\u001b[0m\u001b[0m\n\u001b[0m\u001b[0;32m      4\u001b[0m \u001b[0mprint\u001b[0m\u001b[1;33m(\u001b[0m\u001b[0mtest\u001b[0m\u001b[1;33m[\u001b[0m\u001b[1;34m'DT'\u001b[0m\u001b[1;33m]\u001b[0m\u001b[1;33m.\u001b[0m\u001b[0mmin\u001b[0m\u001b[1;33m(\u001b[0m\u001b[1;33m)\u001b[0m\u001b[1;33m)\u001b[0m\u001b[1;33m\u001b[0m\u001b[1;33m\u001b[0m\u001b[0m\n\u001b[0;32m      5\u001b[0m \u001b[1;31m# So we need to get rid of April and keep May as validation set\u001b[0m\u001b[1;33m\u001b[0m\u001b[1;33m\u001b[0m\u001b[1;33m\u001b[0m\u001b[0m\n",
      "\u001b[1;31mNameError\u001b[0m: name 'train' is not defined"
     ]
    }
   ],
   "source": [
    "TARGET = 'isFraud'\n",
    "# The June month drops entirely\n",
    "print(train['DT'].max())\n",
    "print(test['DT'].min())\n",
    "# So we need to get rid of April and keep May as validation set\n",
    "X_train = train[train['DT'] <= '2018-03-31'].copy()\n",
    "y_train = X_train[TARGET]\n",
    "X_train.drop(['isFraud', 'DT'], axis=1, inplace=True)\n",
    "# We do that for valid as well\n",
    "X_valid = train[(train['DT'] >= '2018-05-01')].copy()\n",
    "y_valid = X_valid[TARGET]\n",
    "X_valid.drop(['isFraud', 'DT'], axis=1, inplace=True)"
   ]
  },
  {
   "cell_type": "markdown",
   "metadata": {},
   "source": [
    "# Some funcs"
   ]
  },
  {
   "cell_type": "code",
   "execution_count": 9,
   "metadata": {},
   "outputs": [],
   "source": [
    "def results(m, X_train=X_train, y_train=y_train,\n",
    "            X_valid=X_valid, y_valid=y_valid):\n",
    "    preds_train = m.predict(X_train)\n",
    "    preds_valid = m.predict(X_valid)\n",
    "    res = {'train_recall': recall_score(y_train, preds_train.round()),\n",
    "           'valid_recall': recall_score(y_valid, preds_valid.round()),\n",
    "           'train_precision': precision_score(y_train, preds_train.round()),\n",
    "           'valid_precision': precision_score(y_valid, preds_valid.round()),\n",
    "           'train_f1': f1_score(y_train, preds_train.round()),\n",
    "           'valid_f1': f1_score(y_valid, preds_valid.round()),\n",
    "           'train_roc': roc_auc_score(y_train, preds_train),\n",
    "           'valid_roc': roc_auc_score(y_valid, preds_valid)\n",
    "           }\n",
    "    return res"
   ]
  },
  {
   "cell_type": "code",
   "execution_count": 10,
   "metadata": {},
   "outputs": [],
   "source": [
    "def get_xgb():\n",
    "    return xgb.XGBClassifier(\n",
    "        n_estimators=500,\n",
    "        max_depth=9,\n",
    "        learning_rate=0.05,\n",
    "        subsample=0.2,\n",
    "        colsample_bytree=0.5,\n",
    "        tree_method='gpu_hist',\n",
    "        njobs=8\n",
    "    )"
   ]
  },
  {
   "cell_type": "code",
   "execution_count": 11,
   "metadata": {},
   "outputs": [],
   "source": [
    "lgb_params = {'objective': 'binary',\n",
    "              'boosting_type': 'gbdt',\n",
    "              'metric': 'auc',\n",
    "              'n_jobs': 8,\n",
    "              'learning_rate': 0.01,\n",
    "              'num_leaves': 496,\n",
    "              'max_depth': -1,\n",
    "              'tree_learner': 'serial',\n",
    "              'colsample_bytree': 0.7,\n",
    "              'subsample_freq': 1,\n",
    "              'subsample': 0.7,\n",
    "              'n_estimators': 800,\n",
    "              'max_bin': 255,\n",
    "              'verbose': -1,\n",
    "              'seed': 24,\n",
    "              'early_stopping_rounds': 100\n",
    "              }"
   ]
  },
  {
   "cell_type": "markdown",
   "metadata": {},
   "source": [
    "# Modeling: predict 5 times the valid, then five time the test with X_train and get correlations"
   ]
  },
  {
   "cell_type": "code",
   "execution_count": 49,
   "metadata": {},
   "outputs": [
    {
     "data": {
      "text/plain": [
       "{'train_recall': 0.660958904109589,\n",
       " 'valid_recall': 0.36095054592164416,\n",
       " 'train_precision': 0.9845934088358331,\n",
       " 'valid_precision': 0.7746381805651275,\n",
       " 'train_f1': 0.7909511905249785,\n",
       " 'valid_f1': 0.49244249726177436,\n",
       " 'train_roc': 0.8302906746820754,\n",
       " 'valid_roc': 0.6785787852328956}"
      ]
     },
     "execution_count": 49,
     "metadata": {},
     "output_type": "execute_result"
    }
   ],
   "source": [
    "clf = get_xgb()\n",
    "clf.fit(X_train, y_train)\n",
    "results(clf)\n",
    "# LB AUC: 0.7282"
   ]
  },
  {
   "cell_type": "code",
   "execution_count": 55,
   "metadata": {},
   "outputs": [
    {
     "data": {
      "text/plain": [
       "{'train_recall': 0.9993150684931507,\n",
       " 'valid_recall': 0.315028901734104,\n",
       " 'train_precision': 1.0,\n",
       " 'valid_precision': 0.8134328358208955,\n",
       " 'train_f1': 0.999657416923604,\n",
       " 'valid_f1': 0.45416666666666666,\n",
       " 'train_roc': 0.9996575342465753,\n",
       " 'valid_roc': 0.6562095281184788}"
      ]
     },
     "execution_count": 55,
     "metadata": {},
     "output_type": "execute_result"
    }
   ],
   "source": [
    "RF = RandomForestClassifier(n_estimators= 100, n_jobs=8)\n",
    "RF.fit(X_train.fillna(0), y_train)\n",
    "results(RF, X_train=X_train.fillna(0), X_valid=X_valid.fillna(0))\n",
    "# LB AUC: 0.7040"
   ]
  },
  {
   "cell_type": "code",
   "execution_count": 57,
   "metadata": {},
   "outputs": [
    {
     "data": {
      "text/plain": [
       "{'train_recall': 1.0,\n",
       " 'valid_recall': 0.2922286448298009,\n",
       " 'train_precision': 1.0,\n",
       " 'valid_precision': 0.8183453237410072,\n",
       " 'train_f1': 1.0,\n",
       " 'valid_f1': 0.43066729768102224,\n",
       " 'train_roc': 1.0,\n",
       " 'valid_roc': 0.6449427917695146}"
      ]
     },
     "execution_count": 57,
     "metadata": {},
     "output_type": "execute_result"
    }
   ],
   "source": [
    "XT = ExtraTreesClassifier(n_estimators=100, n_jobs=8)\n",
    "XT.fit(X_train.fillna(0), y_train)\n",
    "results(XT, X_train=X_train.fillna(0), X_valid=X_valid.fillna(0))\n",
    "# LB AUC: 0.6871"
   ]
  },
  {
   "cell_type": "code",
   "execution_count": 11,
   "metadata": {},
   "outputs": [
    {
     "name": "stderr",
     "output_type": "stream",
     "text": [
      "C:\\Users\\benjamin\\Anaconda3\\lib\\site-packages\\lightgbm\\engine.py:118: UserWarning: Found `n_estimators` in params. Will use it instead of argument\n",
      "  warnings.warn(\"Found `{}` in params. Will use it instead of argument\".format(alias))\n",
      "C:\\Users\\benjamin\\Anaconda3\\lib\\site-packages\\lightgbm\\engine.py:123: UserWarning: Found `early_stopping_rounds` in params. Will use it instead of argument\n",
      "  warnings.warn(\"Found `{}` in params. Will use it instead of argument\".format(alias))\n"
     ]
    },
    {
     "name": "stdout",
     "output_type": "stream",
     "text": [
      "Training until validation scores don't improve for 100 rounds.\n",
      "[100]\ttraining's auc: 0.953668\tvalid_1's auc: 0.886664\n",
      "[200]\ttraining's auc: 0.975739\tvalid_1's auc: 0.897996\n",
      "[300]\ttraining's auc: 0.991531\tvalid_1's auc: 0.906465\n",
      "[400]\ttraining's auc: 0.997183\tvalid_1's auc: 0.910833\n",
      "[500]\ttraining's auc: 0.999004\tvalid_1's auc: 0.912575\n",
      "[600]\ttraining's auc: 0.999647\tvalid_1's auc: 0.91324\n",
      "[700]\ttraining's auc: 0.999884\tvalid_1's auc: 0.913772\n",
      "[800]\ttraining's auc: 0.999964\tvalid_1's auc: 0.91364\n",
      "Did not meet early stopping. Best iteration is:\n",
      "[800]\ttraining's auc: 0.999964\tvalid_1's auc: 0.91364\n"
     ]
    }
   ],
   "source": [
    "tr_data = lgb.Dataset(X_train, label=y_train)\n",
    "vl_data = lgb.Dataset(X_valid, label=y_valid) \n",
    "\n",
    "\n",
    "my_lightgbm = lgb.train(\n",
    "        lgb_params,\n",
    "        tr_data,\n",
    "        valid_sets=[tr_data, vl_data],\n",
    "        verbose_eval=100,\n",
    ")"
   ]
  },
  {
   "cell_type": "code",
   "execution_count": null,
   "metadata": {},
   "outputs": [],
   "source": [
    "results(my_lightgbm)\n",
    "# LB AUC 0.9193"
   ]
  },
  {
   "cell_type": "code",
   "execution_count": 12,
   "metadata": {},
   "outputs": [
    {
     "name": "stderr",
     "output_type": "stream",
     "text": [
      "C:\\Users\\benjamin\\Anaconda3\\lib\\site-packages\\sklearn\\linear_model\\logistic.py:432: FutureWarning: Default solver will be changed to 'lbfgs' in 0.22. Specify a solver to silence this warning.\n",
      "  FutureWarning)\n",
      "C:\\Users\\benjamin\\Anaconda3\\lib\\site-packages\\sklearn\\linear_model\\logistic.py:1544: UserWarning: 'n_jobs' > 1 does not have any effect when 'solver' is set to 'liblinear'. Got 'n_jobs' = 8.\n",
      "  \" = {}.\".format(effective_n_jobs(self.n_jobs)))\n"
     ]
    },
    {
     "data": {
      "text/plain": [
       "{'train_recall': 0.0017123287671232876,\n",
       " 'valid_recall': 0.005780346820809248,\n",
       " 'train_precision': 0.1,\n",
       " 'valid_precision': 0.01348314606741573,\n",
       " 'train_f1': 0.0033670033670033664,\n",
       " 'valid_f1': 0.008091706001348616,\n",
       " 'train_roc': 0.5005748735963975,\n",
       " 'valid_roc': 0.4952520255887557}"
      ]
     },
     "execution_count": 12,
     "metadata": {},
     "output_type": "execute_result"
    }
   ],
   "source": [
    "LR = LogisticRegression(C=1000000)\n",
    "LR.fit(X_train.fillna(0), y_train)\n",
    "results(LR, X_train=X_train.fillna(0), X_valid=X_valid.fillna(0))\n",
    "# LB AUC 0.5098"
   ]
  },
  {
   "cell_type": "code",
   "execution_count": null,
   "metadata": {},
   "outputs": [],
   "source": []
  },
  {
   "cell_type": "markdown",
   "metadata": {},
   "source": [
    "## predict the test set"
   ]
  },
  {
   "cell_type": "code",
   "execution_count": 13,
   "metadata": {},
   "outputs": [],
   "source": [
    "submission = pd.read_csv('input/sample_submission.csv')"
   ]
  },
  {
   "cell_type": "code",
   "execution_count": 14,
   "metadata": {},
   "outputs": [],
   "source": [
    "X_test = test.copy()\n",
    "X_test.drop('DT', axis=1, inplace=True)\n",
    "X_test['RANDOM_NOISE'] = np.random.normal(size=len(X_test))"
   ]
  },
  {
   "cell_type": "code",
   "execution_count": 74,
   "metadata": {},
   "outputs": [],
   "source": [
    "# XGB 0.7282\n",
    "preds_xgb = clf.predict(X_test)\n",
    "submission['isFraud'] = preds_xgb\n",
    "submission.to_csv('submission.csv', index=False)"
   ]
  },
  {
   "cell_type": "code",
   "execution_count": null,
   "metadata": {},
   "outputs": [],
   "source": [
    "!kaggle competitions submit -f submission.csv -m 'soumissionxgbbaseline' ieee-fraud-detection"
   ]
  },
  {
   "cell_type": "code",
   "execution_count": 83,
   "metadata": {},
   "outputs": [],
   "source": [
    "#RF 0.7040\n",
    "preds_rf = RF.predict(X_test.fillna(0))\n",
    "submission['isFraud'] = preds_rf\n",
    "submission.to_csv('submission.csv', index=False)"
   ]
  },
  {
   "cell_type": "code",
   "execution_count": null,
   "metadata": {},
   "outputs": [],
   "source": [
    "!kaggle competitions submit -f submission.csv -m 'soumissionRFbaseline' ieee-fraud-detection"
   ]
  },
  {
   "cell_type": "code",
   "execution_count": 85,
   "metadata": {},
   "outputs": [],
   "source": [
    "#XT 0.6871\n",
    "preds_xt = XT.predict(X_test.fillna(0))\n",
    "submission['isFraud'] = preds_xt\n",
    "submission.to_csv('submission.csv', index=False)"
   ]
  },
  {
   "cell_type": "code",
   "execution_count": null,
   "metadata": {},
   "outputs": [],
   "source": [
    "!kaggle competitions submit -f submission.csv -m 'soumissionXTbaseline' ieee-fraud-detection"
   ]
  },
  {
   "cell_type": "code",
   "execution_count": 17,
   "metadata": {},
   "outputs": [],
   "source": [
    "#LGB 0.9193\n",
    "preds_lgb = my_lightgbm.predict(X_test)\n",
    "submission['isFraud'] = preds_lgb\n",
    "submission.to_csv('submission.csv', index=False)"
   ]
  },
  {
   "cell_type": "code",
   "execution_count": 16,
   "metadata": {},
   "outputs": [],
   "source": [
    "#LR 0.5098\n",
    "preds_lr = LR.predict(X_test.fillna(0))\n",
    "submission['isFraud'] = preds_lr\n",
    "submission.to_csv('submission.csv', index=False)"
   ]
  },
  {
   "cell_type": "markdown",
   "metadata": {},
   "source": [
    "## Is validation set representative of public LB ?"
   ]
  },
  {
   "cell_type": "code",
   "execution_count": 8,
   "metadata": {},
   "outputs": [],
   "source": [
    "valid_aucs = np.array([0.6785, 0.6562, 0.6449,  0.9136, 0.4952])\n",
    "LB_aucs = np.array([0.7282, 0.7040, 0.6871,  0.9193, 0.5098])"
   ]
  },
  {
   "cell_type": "code",
   "execution_count": 10,
   "metadata": {},
   "outputs": [
    {
     "data": {
      "text/html": [
       "<div>\n",
       "<style scoped>\n",
       "    .dataframe tbody tr th:only-of-type {\n",
       "        vertical-align: middle;\n",
       "    }\n",
       "\n",
       "    .dataframe tbody tr th {\n",
       "        vertical-align: top;\n",
       "    }\n",
       "\n",
       "    .dataframe thead th {\n",
       "        text-align: right;\n",
       "    }\n",
       "</style>\n",
       "<table border=\"1\" class=\"dataframe\">\n",
       "  <thead>\n",
       "    <tr style=\"text-align: right;\">\n",
       "      <th></th>\n",
       "      <th>valid</th>\n",
       "      <th>publicLB</th>\n",
       "    </tr>\n",
       "  </thead>\n",
       "  <tbody>\n",
       "    <tr>\n",
       "      <th>0</th>\n",
       "      <td>0.6785</td>\n",
       "      <td>0.7282</td>\n",
       "    </tr>\n",
       "    <tr>\n",
       "      <th>1</th>\n",
       "      <td>0.6562</td>\n",
       "      <td>0.7040</td>\n",
       "    </tr>\n",
       "    <tr>\n",
       "      <th>2</th>\n",
       "      <td>0.6449</td>\n",
       "      <td>0.6871</td>\n",
       "    </tr>\n",
       "    <tr>\n",
       "      <th>3</th>\n",
       "      <td>0.9136</td>\n",
       "      <td>0.9193</td>\n",
       "    </tr>\n",
       "    <tr>\n",
       "      <th>4</th>\n",
       "      <td>0.4952</td>\n",
       "      <td>0.5098</td>\n",
       "    </tr>\n",
       "  </tbody>\n",
       "</table>\n",
       "</div>"
      ],
      "text/plain": [
       "    valid  publicLB\n",
       "0  0.6785    0.7282\n",
       "1  0.6562    0.7040\n",
       "2  0.6449    0.6871\n",
       "3  0.9136    0.9193\n",
       "4  0.4952    0.5098"
      ]
     },
     "execution_count": 10,
     "metadata": {},
     "output_type": "execute_result"
    }
   ],
   "source": [
    "data = pd.DataFrame([valid_aucs, LB_aucs]).T\n",
    "data.columns = ['valid', 'publicLB']\n",
    "data"
   ]
  },
  {
   "cell_type": "code",
   "execution_count": 11,
   "metadata": {},
   "outputs": [
    {
     "data": {
      "text/plain": [
       "<seaborn.axisgrid.FacetGrid at 0x199912fd1d0>"
      ]
     },
     "execution_count": 11,
     "metadata": {},
     "output_type": "execute_result"
    },
    {
     "data": {
      "image/png": "[encoded data removed]",
      "text/plain": [
       "<Figure size 360x360 with 1 Axes>"
      ]
     },
     "metadata": {
      "needs_background": "light"
     },
     "output_type": "display_data"
    }
   ],
   "source": [
    "sns.lmplot('valid', 'publicLB', data=data)"
   ]
  },
  {
   "cell_type": "markdown",
   "metadata": {},
   "source": [
    "# The higher the validation score, the higher the score on the public leaderboard\n",
    "I think we can go with that validation strategy"
   ]
  },
  {
   "cell_type": "code",
   "execution_count": null,
   "metadata": {},
   "outputs": [],
   "source": []
  }
 ],
 "metadata": {
  "kernelspec": {
   "display_name": "Python 3",
   "language": "python",
   "name": "python3"
  },
  "language_info": {
   "codemirror_mode": {
    "name": "ipython",
    "version": 3
   },
   "file_extension": ".py",
   "mimetype": "text/x-python",
   "name": "python",
   "nbconvert_exporter": "python",
   "pygments_lexer": "ipython3",
   "version": "3.7.3"
  }
 },
 "nbformat": 4,
 "nbformat_minor": 2
}
