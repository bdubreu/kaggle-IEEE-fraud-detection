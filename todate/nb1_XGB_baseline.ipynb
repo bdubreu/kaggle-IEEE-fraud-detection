{
 "cells": [
  {
   "cell_type": "code",
   "execution_count": 1,
   "metadata": {},
   "outputs": [],
   "source": [
    "%load_ext pycodestyle_magic\n",
    "%flake8_on"
   ]
  },
  {
   "cell_type": "code",
   "execution_count": 2,
   "metadata": {},
   "outputs": [],
   "source": [
    "import os\n",
    "\n",
    "import numpy as np\n",
    "import pandas as pd\n",
    "import matplotlib.pyplot as plt\n",
    "\n",
    "from sklearn import preprocessing\n",
    "from sklearn.model_selection import train_test_split\n",
    "from sklearn.metrics import roc_auc_score, f1_score, \\\n",
    "                            precision_score, recall_score\n",
    "import xgboost as xgb\n",
    "import lightgbm as lgb\n",
    "\n",
    "from reduce_mem_usage import reduce_mem_usage\n",
    "\n",
    "pd.set_option('max_columns', 100)\n",
    "pd.set_option('max_rows', 1000)"
   ]
  },
  {
   "cell_type": "markdown",
   "metadata": {},
   "source": [
    "# Get data"
   ]
  },
  {
   "cell_type": "code",
   "execution_count": 3,
   "metadata": {},
   "outputs": [
    {
     "data": {
      "text/plain": [
       "((413378, 435), (88581, 435))"
      ]
     },
     "execution_count": 3,
     "metadata": {},
     "output_type": "execute_result"
    }
   ],
   "source": [
    "X_train = pd.read_csv('input/X_train.csv')\n",
    "X_valid = pd.read_csv('input/X_valid.csv')\n",
    "\n",
    "X_train.shape, X_valid.shape"
   ]
  },
  {
   "cell_type": "code",
   "execution_count": 5,
   "metadata": {},
   "outputs": [],
   "source": [
    "y_train = X_train['isFraud'].copy()\n",
    "y_valid = X_valid['isFraud'].copy()\n",
    "\n",
    "del(X_train['isFraud'])\n",
    "del(X_valid['isFraud'])"
   ]
  },
  {
   "cell_type": "markdown",
   "metadata": {},
   "source": [
    "# Funcs"
   ]
  },
  {
   "cell_type": "code",
   "execution_count": 6,
   "metadata": {},
   "outputs": [],
   "source": [
    "def results(m, X_train=X_train, y_train=y_train,\n",
    "            X_valid=X_valid, y_valid=y_valid):\n",
    "    preds_train = m.predict(X_train)\n",
    "    preds_valid = m.predict(X_valid)\n",
    "    res = {'train_recall': recall_score(y_train, preds_train.round()),\n",
    "           'valid_recall': recall_score(y_valid, preds_valid.round()),\n",
    "           'train_precision': precision_score(y_train, preds_train.round()),\n",
    "           'valid_precision': precision_score(y_valid, preds_valid.round()),\n",
    "           'train_f1': f1_score(y_train, preds_train.round()),\n",
    "           'valid_f1': f1_score(y_valid, preds_valid.round()),\n",
    "           'train_roc': roc_auc_score(y_train, preds_train),\n",
    "           'valid_roc': roc_auc_score(y_valid, preds_valid)\n",
    "           }\n",
    "    return res"
   ]
  },
  {
   "cell_type": "markdown",
   "metadata": {},
   "source": [
    "# Model"
   ]
  },
  {
   "cell_type": "code",
   "execution_count": 8,
   "metadata": {},
   "outputs": [],
   "source": [
    "clf = xgb.XGBClassifier(\n",
    "    n_estimators=500,\n",
    "    max_depth=9,\n",
    "    learning_rate=0.05,\n",
    "    subsample=0.5,\n",
    "    colsample_bytree=0.5,\n",
    "    tree_method='gpu_hist',\n",
    "    njobs=8\n",
    ")\n",
    "clf.fit(X_train, y_train)"
   ]
  },
  {
   "cell_type": "code",
   "execution_count": 14,
   "metadata": {},
   "outputs": [
    {
     "data": {
      "text/plain": [
       "{'train_recall': 0.7110352673492605,\n",
       " 'valid_recall': 0.4014814814814815,\n",
       " 'train_precision': 0.9911195686647637,\n",
       " 'valid_precision': 0.846875,\n",
       " 'train_f1': 0.8280339162692103,\n",
       " 'valid_f1': 0.5447236180904523,\n",
       " 'train_roc': 0.8554020217261354,\n",
       " 'valid_roc': 0.6995996135865722}"
      ]
     },
     "execution_count": 14,
     "metadata": {},
     "output_type": "execute_result"
    }
   ],
   "source": [
    "results(clf)"
   ]
  },
  {
   "cell_type": "code",
   "execution_count": null,
   "metadata": {},
   "outputs": [],
   "source": [
    "lgb_params = {'objective': 'binary',\n",
    "              'boosting_type': 'gbdt',\n",
    "              'metric': 'auc',\n",
    "              'n_jobs': 8,\n",
    "              'learning_rate': 0.01,\n",
    "              'num_leaves': 496,\n",
    "              'max_depth': -1,\n",
    "              'tree_learner': 'serial',\n",
    "              'colsample_bytree': 0.7,\n",
    "              'subsample_freq': 1,\n",
    "              'subsample': 0.7,\n",
    "              'n_estimators': 800,\n",
    "              'max_bin': 255,\n",
    "              'verbose': -1,\n",
    "              'seed': 24,\n",
    "              'early_stopping_rounds': 100\n",
    "              }"
   ]
  },
  {
   "cell_type": "code",
   "execution_count": 9,
   "metadata": {},
   "outputs": [
    {
     "name": "stderr",
     "output_type": "stream",
     "text": [
      "C:\\Users\\benjamin.dubreu\\AppData\\Local\\Continuum\\anaconda3\\lib\\site-packages\\lightgbm\\engine.py:148: UserWarning: Found `n_estimators` in params. Will use it instead of argument\n",
      "  warnings.warn(\"Found `{}` in params. Will use it instead of argument\".format(alias))\n",
      "C:\\Users\\benjamin.dubreu\\AppData\\Local\\Continuum\\anaconda3\\lib\\site-packages\\lightgbm\\engine.py:153: UserWarning: Found `early_stopping_rounds` in params. Will use it instead of argument\n",
      "  warnings.warn(\"Found `{}` in params. Will use it instead of argument\".format(alias))\n"
     ]
    },
    {
     "name": "stdout",
     "output_type": "stream",
     "text": [
      "Training until validation scores don't improve for 100 rounds\n",
      "[100]\ttraining's auc: 0.953615\tvalid_1's auc: 0.902259\n",
      "[200]\ttraining's auc: 0.976622\tvalid_1's auc: 0.915772\n",
      "[300]\ttraining's auc: 0.991916\tvalid_1's auc: 0.925325\n",
      "[400]\ttraining's auc: 0.997417\tvalid_1's auc: 0.930708\n",
      "[500]\ttraining's auc: 0.999104\tvalid_1's auc: 0.933544\n",
      "[600]\ttraining's auc: 0.999691\tvalid_1's auc: 0.934629\n",
      "[700]\ttraining's auc: 0.999891\tvalid_1's auc: 0.935442\n",
      "[800]\ttraining's auc: 0.99996\tvalid_1's auc: 0.935741\n",
      "Did not meet early stopping. Best iteration is:\n",
      "[800]\ttraining's auc: 0.99996\tvalid_1's auc: 0.935741\n"
     ]
    },
    {
     "name": "stderr",
     "output_type": "stream",
     "text": [
      "20:46: W291 trailing whitespace\n"
     ]
    }
   ],
   "source": [
    "tr_data = lgb.Dataset(X_train, label=y_train)\n",
    "vl_data = lgb.Dataset(X_valid, label=y_valid) \n",
    "\n",
    "\n",
    "estimator = lgb.train(\n",
    "        lgb_params,\n",
    "        tr_data,\n",
    "        valid_sets=[tr_data, vl_data],\n",
    "        verbose_eval=100,\n",
    ")"
   ]
  },
  {
   "cell_type": "code",
   "execution_count": 10,
   "metadata": {},
   "outputs": [
    {
     "data": {
      "text/plain": [
       "{'train_recall': 0.9017058742605585,\n",
       " 'valid_recall': 0.35009861932938857,\n",
       " 'train_precision': 0.9992377467794802,\n",
       " 'valid_precision': 0.8934563758389261,\n",
       " 'train_f1': 0.9479697725711392,\n",
       " 'valid_f1': 0.5030703826169107,\n",
       " 'train_roc': 0.9999596177242522,\n",
       " 'valid_roc': 0.9357411311567176}"
      ]
     },
     "execution_count": 10,
     "metadata": {},
     "output_type": "execute_result"
    }
   ],
   "source": [
    "results(estimator)"
   ]
  },
  {
   "cell_type": "markdown",
   "metadata": {},
   "source": [
    "# Try subsamples to see until when I get similar score "
   ]
  },
  {
   "cell_type": "code",
   "execution_count": 11,
   "metadata": {},
   "outputs": [],
   "source": [
    "X_subsample = pd.concat([X_train[y_train == 0].sample(frac=0.2),\n",
    "                         X_train[y_train == 1]])\n",
    "X_subsample = X_subsample.sample(frac=1)\n",
    "y_subsample = y_train[X_subsample.index]\n",
    "assert len(X_subsample) == len(y_subsample)\n",
    "assert (X_subsample.index == y_subsample.index).all()"
   ]
  },
  {
   "cell_type": "markdown",
   "metadata": {},
   "source": [
    "## subsample 0.2 + XGB"
   ]
  },
  {
   "cell_type": "code",
   "execution_count": null,
   "metadata": {},
   "outputs": [],
   "source": [
    "clf = xgb.XGBClassifier(\n",
    "    n_estimators=500,\n",
    "    max_depth=9,\n",
    "    learning_rate=0.05,\n",
    "    subsample=0.5,\n",
    "    colsample_bytree=0.5,\n",
    "    tree_method='gpu_hist',\n",
    "    njobs=8\n",
    ")\n",
    "clf.fit(X_subsample, y_subsample)"
   ]
  },
  {
   "cell_type": "code",
   "execution_count": 9,
   "metadata": {},
   "outputs": [
    {
     "data": {
      "text/plain": [
       "{'train_recall': 0.8382821387940842,\n",
       " 'valid_recall': 0.5422222222222223,\n",
       " 'train_precision': 0.9899905951901116,\n",
       " 'valid_precision': 0.6208651399491094,\n",
       " 'train_f1': 0.9078420501447668,\n",
       " 'valid_f1': 0.578884934756821,\n",
       " 'train_roc': 0.9183720450772931,\n",
       " 'valid_roc': 0.765906173989546}"
      ]
     },
     "execution_count": 9,
     "metadata": {},
     "output_type": "execute_result"
    }
   ],
   "source": [
    "results(clf, X_subsample, y_subsample)"
   ]
  },
  {
   "cell_type": "markdown",
   "metadata": {},
   "source": [
    " "
   ]
  },
  {
   "cell_type": "markdown",
   "metadata": {},
   "source": [
    "## subsample 0.2 + Light GBM"
   ]
  },
  {
   "cell_type": "code",
   "execution_count": 6,
   "metadata": {},
   "outputs": [
    {
     "name": "stderr",
     "output_type": "stream",
     "text": [
      "/opt/anaconda3/lib/python3.7/site-packages/lightgbm/engine.py:118: UserWarning: Found `n_estimators` in params. Will use it instead of argument\n",
      "  warnings.warn(\"Found `{}` in params. Will use it instead of argument\".format(alias))\n",
      "/opt/anaconda3/lib/python3.7/site-packages/lightgbm/engine.py:123: UserWarning: Found `early_stopping_rounds` in params. Will use it instead of argument\n",
      "  warnings.warn(\"Found `{}` in params. Will use it instead of argument\".format(alias))\n"
     ]
    },
    {
     "name": "stdout",
     "output_type": "stream",
     "text": [
      "Training until validation scores don't improve for 100 rounds.\n",
      "[100]\ttraining's auc: 0.954606\tvalid_1's auc: 0.903407\n",
      "[200]\ttraining's auc: 0.973589\tvalid_1's auc: 0.91672\n",
      "[300]\ttraining's auc: 0.987499\tvalid_1's auc: 0.927227\n",
      "[400]\ttraining's auc: 0.994493\tvalid_1's auc: 0.931656\n",
      "[500]\ttraining's auc: 0.997656\tvalid_1's auc: 0.933709\n",
      "[600]\ttraining's auc: 0.999083\tvalid_1's auc: 0.935308\n",
      "[700]\ttraining's auc: 0.999684\tvalid_1's auc: 0.935653\n",
      "[800]\ttraining's auc: 0.999901\tvalid_1's auc: 0.936202\n",
      "Did not meet early stopping. Best iteration is:\n",
      "[800]\ttraining's auc: 0.999901\tvalid_1's auc: 0.936202\n"
     ]
    }
   ],
   "source": [
    "tr_data = lgb.Dataset(X_subsample, label=y_subsample)\n",
    "vl_data = lgb.Dataset(X_valid, label=y_valid) \n",
    "\n",
    "estimator = lgb.train(\n",
    "        lgb_params,\n",
    "        tr_data,\n",
    "        valid_sets=[tr_data, vl_data],\n",
    "        verbose_eval=100,\n",
    ")"
   ]
  },
  {
   "cell_type": "code",
   "execution_count": 13,
   "metadata": {},
   "outputs": [
    {
     "data": {
      "text/plain": [
       "{'train_recall': 0.9512514220705347,\n",
       " 'valid_recall': 0.5281481481481481,\n",
       " 'train_precision': 0.9986861749776053,\n",
       " 'valid_precision': 0.6360392506690455,\n",
       " 'train_f1': 0.9743918426802621,\n",
       " 'valid_f1': 0.5770942938081749,\n",
       " 'train_roc': 0.9999006687929789,\n",
       " 'valid_roc': 0.9362015732546707}"
      ]
     },
     "execution_count": 13,
     "metadata": {},
     "output_type": "execute_result"
    }
   ],
   "source": [
    "results(estimator, X_subsample, y_subsample)"
   ]
  },
  {
   "cell_type": "markdown",
   "metadata": {},
   "source": [
    "## subsample 0.1 + XGB"
   ]
  },
  {
   "cell_type": "code",
   "execution_count": 11,
   "metadata": {},
   "outputs": [],
   "source": [
    "X_subsample2 = pd.concat([X_train[ y_train == 0].sample(frac=0.1),\n",
    "                          X_train[ y_train == 1]])\n",
    "X_subsample2 = X_subsample2.sample(frac=1)\n",
    "y_subsample2 = y_train[X_subsample2.index]\n",
    "assert len(X_subsample2) == len(y_subsample2)\n",
    "assert (X_subsample2.index == y_subsample2.index).all()"
   ]
  },
  {
   "cell_type": "code",
   "execution_count": 12,
   "metadata": {},
   "outputs": [
    {
     "data": {
      "text/plain": [
       "{'train_recall': 0.892320819112628,\n",
       " 'valid_recall': 0.6303703703703704,\n",
       " 'train_precision': 0.9872868021901945,\n",
       " 'valid_precision': 0.41593352883675466,\n",
       " 'train_f1': 0.9374047626161522,\n",
       " 'valid_f1': 0.5011778563015313,\n",
       " 'train_roc': 0.9440752697900148,\n",
       " 'valid_roc': 0.8012704203971088}"
      ]
     },
     "execution_count": 12,
     "metadata": {},
     "output_type": "execute_result"
    }
   ],
   "source": [
    "clf = xgb.XGBClassifier(\n",
    "    n_estimators=500,\n",
    "    max_depth=9,\n",
    "    learning_rate=0.05,\n",
    "    subsample=0.5,\n",
    "    colsample_bytree=0.5,\n",
    "    tree_method='gpu_hist',\n",
    "    njobs=8\n",
    ")\n",
    "clf.fit(X_subsample2, y_subsample2)\n",
    "results(clf, X_subsample2, y_subsample2)"
   ]
  },
  {
   "cell_type": "markdown",
   "metadata": {},
   "source": [
    "## subsample 0.1 + Light GBM"
   ]
  },
  {
   "cell_type": "code",
   "execution_count": 16,
   "metadata": {},
   "outputs": [
    {
     "name": "stderr",
     "output_type": "stream",
     "text": [
      "/opt/anaconda3/lib/python3.7/site-packages/lightgbm/engine.py:118: UserWarning: Found `n_estimators` in params. Will use it instead of argument\n",
      "  warnings.warn(\"Found `{}` in params. Will use it instead of argument\".format(alias))\n",
      "/opt/anaconda3/lib/python3.7/site-packages/lightgbm/engine.py:123: UserWarning: Found `early_stopping_rounds` in params. Will use it instead of argument\n",
      "  warnings.warn(\"Found `{}` in params. Will use it instead of argument\".format(alias))\n"
     ]
    },
    {
     "name": "stdout",
     "output_type": "stream",
     "text": [
      "Training until validation scores don't improve for 100 rounds.\n",
      "[100]\ttraining's auc: 0.960179\tvalid_1's auc: 0.90436\n",
      "[200]\ttraining's auc: 0.976637\tvalid_1's auc: 0.916137\n",
      "[300]\ttraining's auc: 0.988695\tvalid_1's auc: 0.925036\n",
      "[400]\ttraining's auc: 0.995103\tvalid_1's auc: 0.930112\n",
      "[500]\ttraining's auc: 0.998102\tvalid_1's auc: 0.932445\n",
      "[600]\ttraining's auc: 0.999384\tvalid_1's auc: 0.933389\n",
      "[700]\ttraining's auc: 0.999834\tvalid_1's auc: 0.933806\n",
      "[800]\ttraining's auc: 0.999967\tvalid_1's auc: 0.934124\n",
      "Did not meet early stopping. Best iteration is:\n",
      "[800]\ttraining's auc: 0.999967\tvalid_1's auc: 0.934124\n"
     ]
    }
   ],
   "source": [
    "tr_data = lgb.Dataset(X_subsample2, label=y_subsample2)\n",
    "vl_data = lgb.Dataset(X_valid, label=y_valid) \n",
    "\n",
    "\n",
    "estimator = lgb.train(\n",
    "        lgb_params,\n",
    "        tr_data,\n",
    "        valid_sets=[tr_data, vl_data],\n",
    "        verbose_eval=100,\n",
    ")"
   ]
  },
  {
   "cell_type": "code",
   "execution_count": null,
   "metadata": {},
   "outputs": [
    {
     "data": {
      "text/plain": [
       "{'train_recall': 0.9796359499431172,\n",
       " 'valid_recall': 0.6125925925925926,\n",
       " 'train_precision': 0.9060872310201504,\n",
       " 'valid_precision': 0.4384941675503712,\n",
       " 'train_f1': 0.9414272829146966,\n",
       " 'valid_f1': 0.511124845488257,\n",
       " 'train_roc': 0.9974787486211453,\n",
       " 'valid_roc': 0.9341235315427212}"
      ]
     },
     "execution_count": 17,
     "metadata": {},
     "output_type": "execute_result"
    }
   ],
   "source": [
    "results(estimator, X_subsample, y_subsample)"
   ]
  },
  {
   "cell_type": "markdown",
   "metadata": {},
   "source": [
    "# Preliminary feature importance"
   ]
  },
  {
   "cell_type": "code",
   "execution_count": 32,
   "metadata": {
    "scrolled": false
   },
   "outputs": [
    {
     "data": {
      "text/plain": [
       "<BarContainer object of 18 artists>"
      ]
     },
     "execution_count": 32,
     "metadata": {},
     "output_type": "execute_result"
    },
    {
     "data": {
      "image/png": "[encoded data removed]",
      "text/plain": [
       "<Figure size 1296x432 with 1 Axes>"
      ]
     },
     "metadata": {
      "needs_background": "light"
     },
     "output_type": "display_data"
    }
   ],
   "source": [
    "plt.figure(figsize=(18,6))\n",
    "mask = (estimator.feature_importance() > 5000)\n",
    "plt.bar(X_subsample.columns[mask],\n",
    "        estimator.feature_importance()[mask])"
   ]
  },
  {
   "cell_type": "code",
   "execution_count": 38,
   "metadata": {},
   "outputs": [
    {
     "data": {
      "text/plain": [
       "<BarContainer object of 21 artists>"
      ]
     },
     "execution_count": 38,
     "metadata": {},
     "output_type": "execute_result"
    },
    {
     "data": {
      "image/png": "[encoded data removed]",
      "text/plain": [
       "<Figure size 1296x432 with 1 Axes>"
      ]
     },
     "metadata": {
      "needs_background": "light"
     },
     "output_type": "display_data"
    }
   ],
   "source": [
    "plt.figure(figsize=(18,6))\n",
    "plt.bar(X_subsample.columns[clf.feature_importances_ > 0.005],\n",
    "        clf.feature_importances_[clf.feature_importances_ > 0.005])"
   ]
  },
  {
   "cell_type": "markdown",
   "metadata": {},
   "source": [
    "# Quick analysis of top 'V' features"
   ]
  },
  {
   "cell_type": "code",
   "execution_count": 55,
   "metadata": {
    "scrolled": true
   },
   "outputs": [
    {
     "data": {
      "text/plain": [
       "count    19156.000000\n",
       "mean         1.693882\n",
       "std          2.239450\n",
       "min          0.000000\n",
       "25%          1.000000\n",
       "50%          1.000000\n",
       "75%          1.000000\n",
       "max         45.000000\n",
       "Name: V246, dtype: float64"
      ]
     },
     "execution_count": 55,
     "metadata": {},
     "output_type": "execute_result"
    }
   ],
   "source": [
    "X_subsample2['V246'].describe()"
   ]
  },
  {
   "cell_type": "code",
   "execution_count": 56,
   "metadata": {},
   "outputs": [
    {
     "data": {
      "text/plain": [
       "<matplotlib.axes._subplots.AxesSubplot at 0x7f46de909cc0>"
      ]
     },
     "execution_count": 56,
     "metadata": {},
     "output_type": "execute_result"
    },
    {
     "data": {
      "image/png": "[encoded data removed]",
      "text/plain": [
       "<Figure size 432x288 with 1 Axes>"
      ]
     },
     "metadata": {
      "needs_background": "light"
     },
     "output_type": "display_data"
    }
   ],
   "source": [
    "X_subsample2['V246'].plot(kind='box')"
   ]
  },
  {
   "cell_type": "code",
   "execution_count": 63,
   "metadata": {},
   "outputs": [
    {
     "data": {
      "text/plain": [
       "<matplotlib.axes._subplots.AxesSubplot at 0x7f46215b5ac8>"
      ]
     },
     "execution_count": 63,
     "metadata": {},
     "output_type": "execute_result"
    },
    {
     "data": {
      "image/png": "[encoded data removed]",
      "text/plain": [
       "<Figure size 432x288 with 1 Axes>"
      ]
     },
     "metadata": {
      "needs_background": "light"
     },
     "output_type": "display_data"
    }
   ],
   "source": [
    "X_subsample2[y_subsample2 == 1]['V246'].plot(kind='box')"
   ]
  },
  {
   "cell_type": "code",
   "execution_count": 64,
   "metadata": {},
   "outputs": [
    {
     "data": {
      "text/plain": [
       "<matplotlib.axes._subplots.AxesSubplot at 0x7f4621573eb8>"
      ]
     },
     "execution_count": 64,
     "metadata": {},
     "output_type": "execute_result"
    },
    {
     "data": {
      "image/png": "[encoded data removed]",
      "text/plain": [
       "<Figure size 432x288 with 1 Axes>"
      ]
     },
     "metadata": {
      "needs_background": "light"
     },
     "output_type": "display_data"
    }
   ],
   "source": [
    "X_subsample2[y_subsample2 == 0]['V246'].plot(kind='box')"
   ]
  },
  {
   "cell_type": "code",
   "execution_count": 62,
   "metadata": {},
   "outputs": [
    {
     "data": {
      "text/plain": [
       "1.0     4718\n",
       "2.0     1600\n",
       "3.0      759\n",
       "4.0      441\n",
       "5.0      282\n",
       "6.0      212\n",
       "7.0      159\n",
       "8.0       79\n",
       "9.0       65\n",
       "10.0      49\n",
       "11.0      34\n",
       "12.0      28\n",
       "14.0      22\n",
       "13.0      22\n",
       "16.0      19\n",
       "15.0      16\n",
       "17.0      16\n",
       "18.0      10\n",
       "20.0       9\n",
       "19.0       7\n",
       "31.0       3\n",
       "21.0       3\n",
       "22.0       3\n",
       "41.0       2\n",
       "0.0        2\n",
       "40.0       2\n",
       "30.0       1\n",
       "32.0       1\n",
       "38.0       1\n",
       "37.0       1\n",
       "35.0       1\n",
       "23.0       1\n",
       "28.0       1\n",
       "24.0       1\n",
       "36.0       1\n",
       "27.0       1\n",
       "25.0       1\n",
       "34.0       1\n",
       "42.0       1\n",
       "26.0       1\n",
       "44.0       1\n",
       "45.0       1\n",
       "29.0       1\n",
       "43.0       1\n",
       "33.0       1\n",
       "39.0       1\n",
       "Name: V246, dtype: int64"
      ]
     },
     "execution_count": 62,
     "metadata": {},
     "output_type": "execute_result"
    }
   ],
   "source": [
    "X_subsample2[y_subsample2 == 1]['V246'].value_counts()"
   ]
  },
  {
   "cell_type": "code",
   "execution_count": 61,
   "metadata": {},
   "outputs": [
    {
     "data": {
      "text/plain": [
       "1.0     10061\n",
       "2.0       407\n",
       "3.0        65\n",
       "4.0        15\n",
       "5.0         7\n",
       "6.0         4\n",
       "8.0         4\n",
       "7.0         3\n",
       "13.0        2\n",
       "10.0        2\n",
       "12.0        1\n",
       "11.0        1\n",
       "9.0         1\n",
       "0.0         1\n",
       "Name: V246, dtype: int64"
      ]
     },
     "execution_count": 61,
     "metadata": {},
     "output_type": "execute_result"
    }
   ],
   "source": [
    "X_subsample2[y_subsample2 == 0]['V246'].value_counts()"
   ]
  },
  {
   "cell_type": "code",
   "execution_count": null,
   "metadata": {},
   "outputs": [],
   "source": []
  }
 ],
 "metadata": {
  "kernelspec": {
   "display_name": "Python 3",
   "language": "python",
   "name": "python3"
  },
  "language_info": {
   "codemirror_mode": {
    "name": "ipython",
    "version": 3
   },
   "file_extension": ".py",
   "mimetype": "text/x-python",
   "name": "python",
   "nbconvert_exporter": "python",
   "pygments_lexer": "ipython3",
   "version": "3.7.3"
  }
 },
 "nbformat": 4,
 "nbformat_minor": 2
}
